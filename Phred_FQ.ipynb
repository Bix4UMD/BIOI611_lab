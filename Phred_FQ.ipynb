{
  "nbformat": 4,
  "nbformat_minor": 0,
  "metadata": {
    "colab": {
      "provenance": []
    },
    "kernelspec": {
      "name": "ir",
      "display_name": "R"
    },
    "language_info": {
      "name": "R"
    }
  },
  "cells": [
    {
      "cell_type": "markdown",
      "source": [
        "## What is PHRED Scores\n",
        "\n",
        "A Phred score is a measure of the probability that a base call in a DNA sequencing read is incorrect. It is a logarithmic scale, meaning that a small change in the Phred score represents a large change in the probability of an error.\n"
      ],
      "metadata": {
        "id": "F78EdRn_o-mR"
      }
    },
    {
      "cell_type": "markdown",
      "source": [
        "$Q = -10 \\cdot \\log_{10}(P)$\n",
        "\n",
        "Where:\n",
        "\n",
        "-   Q is the PHRED score.\n",
        "\n",
        "-   P is the probability that the base was called incorrectly."
      ],
      "metadata": {
        "id": "pqf1OtUbpWM0"
      }
    },
    {
      "cell_type": "markdown",
      "source": [
        "For example:\n",
        "\n",
        "-   **Q = 20**: This corresponds to a 1 in 100 probability of an incorrect base call, or an accuracy of 99%.\n",
        "\n",
        "-   **Q = 30**: This corresponds to a 1 in 1000 probability of an incorrect base call, or an accuracy of 99.9%.\n",
        "\n",
        "-   **Q = 40**: This corresponds to a 1 in 10,000 probability of an incorrect base call, or an accuracy of 99.99%."
      ],
      "metadata": {
        "id": "OWLE6XVPshDB"
      }
    },
    {
      "cell_type": "code",
      "source": [
        "# Print the header\n",
        "cat(sprintf(\"%-5s\\t\\t%-10s\\n\", \"Phred\", \"Prob of\"))\n",
        "cat(sprintf(\"%-5s\\t\\t%-10s\\n\", \"score\", \"Incorrect call\"))\n",
        "\n",
        "# Loop through Phred scores from 0 to 41\n",
        "for (phred in 0:41) {\n",
        "  cat(sprintf(\"%-5d\\t\\t%0.5f\\n\", phred, 10^(phred / -10)))\n",
        "}"
      ],
      "metadata": {
        "colab": {
          "base_uri": "https://localhost:8080/"
        },
        "id": "Rw848AdJpYKb",
        "outputId": "f209f482-2687-4f8b-aca3-0f68997b0fef"
      },
      "execution_count": null,
      "outputs": [
        {
          "output_type": "stream",
          "name": "stdout",
          "text": [
            "Phred\t\tProb of   \n",
            "score\t\tIncorrect call\n",
            "0    \t\t1.00000\n",
            "1    \t\t0.79433\n",
            "2    \t\t0.63096\n",
            "3    \t\t0.50119\n",
            "4    \t\t0.39811\n",
            "5    \t\t0.31623\n",
            "6    \t\t0.25119\n",
            "7    \t\t0.19953\n",
            "8    \t\t0.15849\n",
            "9    \t\t0.12589\n",
            "10   \t\t0.10000\n",
            "11   \t\t0.07943\n",
            "12   \t\t0.06310\n",
            "13   \t\t0.05012\n",
            "14   \t\t0.03981\n",
            "15   \t\t0.03162\n",
            "16   \t\t0.02512\n",
            "17   \t\t0.01995\n",
            "18   \t\t0.01585\n",
            "19   \t\t0.01259\n",
            "20   \t\t0.01000\n",
            "21   \t\t0.00794\n",
            "22   \t\t0.00631\n",
            "23   \t\t0.00501\n",
            "24   \t\t0.00398\n",
            "25   \t\t0.00316\n",
            "26   \t\t0.00251\n",
            "27   \t\t0.00200\n",
            "28   \t\t0.00158\n",
            "29   \t\t0.00126\n",
            "30   \t\t0.00100\n",
            "31   \t\t0.00079\n",
            "32   \t\t0.00063\n",
            "33   \t\t0.00050\n",
            "34   \t\t0.00040\n",
            "35   \t\t0.00032\n",
            "36   \t\t0.00025\n",
            "37   \t\t0.00020\n",
            "38   \t\t0.00016\n",
            "39   \t\t0.00013\n",
            "40   \t\t0.00010\n",
            "41   \t\t0.00008\n"
          ]
        }
      ]
    },
    {
      "cell_type": "markdown",
      "source": [
        "## What is ASCII\n",
        "\n",
        "ASCII (American Standard Code for Information Interchange) is used to represent characters in computers. We can represent Phred scores using ASCII characters. The advantage is that the quality information can be esisly stored in text based FASTQ file.\n",
        "\n",
        "Not all [ASCII characters](https://www.columbia.edu/kermit/ascii.html) are printable. The first printable ASCII character is `!` and the decimal code for the character for `!` is 33.\n"
      ],
      "metadata": {
        "id": "unXSCohlsn0C"
      }
    },
    {
      "cell_type": "code",
      "source": [
        "# Store output in a vector to fit on a slide\n",
        "output <- c(sprintf(\"%-8s  %-8s\", \"Character\", \"ASCII #\"))\n",
        "\n",
        "# Loop through ASCII values from 33 to 89\n",
        "for (i in 33:89) {\n",
        "  output <- c(output, sprintf(\"%-8s  %-8d\", intToUtf8(i), i))\n",
        "}\n",
        "\n",
        "# Print the output in a single block (e.g., to fit on a slide)\n",
        "cat(paste(output, collapse = \"\\n\"))"
      ],
      "metadata": {
        "colab": {
          "base_uri": "https://localhost:8080/"
        },
        "id": "9QWGQ5S7stE8",
        "outputId": "d9c043df-e4f6-409b-ca2c-0c02f29c76a5"
      },
      "execution_count": null,
      "outputs": [
        {
          "output_type": "stream",
          "name": "stdout",
          "text": [
            "Character  ASCII # \n",
            "!         33      \n",
            "\"         34      \n",
            "#         35      \n",
            "$         36      \n",
            "%         37      \n",
            "&         38      \n",
            "'         39      \n",
            "(         40      \n",
            ")         41      \n",
            "*         42      \n",
            "+         43      \n",
            ",         44      \n",
            "-         45      \n",
            ".         46      \n",
            "/         47      \n",
            "0         48      \n",
            "1         49      \n",
            "2         50      \n",
            "3         51      \n",
            "4         52      \n",
            "5         53      \n",
            "6         54      \n",
            "7         55      \n",
            "8         56      \n",
            "9         57      \n",
            ":         58      \n",
            ";         59      \n",
            "<         60      \n",
            "=         61      \n",
            ">         62      \n",
            "?         63      \n",
            "@         64      \n",
            "A         65      \n",
            "B         66      \n",
            "C         67      \n",
            "D         68      \n",
            "E         69      \n",
            "F         70      \n",
            "G         71      \n",
            "H         72      \n",
            "I         73      \n",
            "J         74      \n",
            "K         75      \n",
            "L         76      \n",
            "M         77      \n",
            "N         78      \n",
            "O         79      \n",
            "P         80      \n",
            "Q         81      \n",
            "R         82      \n",
            "S         83      \n",
            "T         84      \n",
            "U         85      \n",
            "V         86      \n",
            "W         87      \n",
            "X         88      \n",
            "Y         89      "
          ]
        }
      ]
    },
    {
      "cell_type": "markdown",
      "source": [
        "## Phred scores in FASTQ file\n",
        "\n",
        "In a FASTQ file, Phred scores are represented as ASCII characters. These characters are converted back to numeric values (PHRED scores) based on the encoding scheme used:\n",
        "\n",
        "1.  **PHRED+33 Encoding (Sanger/Illumina 1.8+)**:\n",
        "\n",
        "    -   The ASCII character for a quality score Q is calculated as:\n",
        "\n",
        "        ASCII character=chr(Q+33)\n",
        "\n",
        "    -   For example:\n",
        "\n",
        "        -   A PHRED score of 30 is encoded as `chr(30 + 33) = chr(63)`, which corresponds to the ASCII character `?`.\n",
        "\n",
        "2.  **PHRED+64 Encoding (Illumina 1.3-1.7)**:\n",
        "\n",
        "    -   The ASCII character for a quality score QQQ is calculated as:\n",
        "         \n",
        "         ASCII character=chr(Q+64)\n",
        "\n",
        "    -   For example:\n",
        "\n",
        "        -   A PHRED score of 30 is encoded as `chr(30 + 64) = chr(94)`, which corresponds to the ASCII character `^`."
      ],
      "metadata": {
        "id": "6yVLFfLqsyMS"
      }
    },
    {
      "cell_type": "code",
      "source": [
        "# Print the header\n",
        "cat(sprintf(\"%-5s\\t\\t%-10s\\t%-6s\\t\\t%-10s\\n\", \"Phred\", \"Prob. of\", \"ASCII\", \"ASCII\"))\n",
        "cat(sprintf(\"%-5s\\t\\t%-10s\\t%-6s\\t%-10s\\n\", \"score\", \"Error\", \"Phred+33\", \"Phred+64\"))\n",
        "\n",
        "# Loop through Phred scores from 0 to 41\n",
        "for (phred in 0:41) {\n",
        "  # Calculate the probability of error\n",
        "  prob_error <- 10^(phred / -10)\n",
        "\n",
        "  # Convert Phred scores to ASCII characters\n",
        "  ascii_phred33 <- intToUtf8(phred + 33)\n",
        "  ascii_phred64 <- intToUtf8(phred + 64)\n",
        "\n",
        "  # Print the results in a formatted table\n",
        "  cat(sprintf(\"%-5d\\t\\t%0.5f\\t\\t%-6s\\t\\t%-10s\\n\",\n",
        "              phred, prob_error,\n",
        "              ascii_phred33, ascii_phred64))\n",
        "}"
      ],
      "metadata": {
        "colab": {
          "base_uri": "https://localhost:8080/"
        },
        "id": "jsss59RTs51r",
        "outputId": "06e6473a-c4f3-4100-92f5-efb5176803e7"
      },
      "execution_count": null,
      "outputs": [
        {
          "output_type": "stream",
          "name": "stdout",
          "text": [
            "Phred\t\tProb. of  \tASCII \t\tASCII     \n",
            "score\t\tError     \tPhred+33\tPhred+64  \n",
            "0    \t\t1.00000\t\t!     \t\t@         \n",
            "1    \t\t0.79433\t\t\"     \t\tA         \n",
            "2    \t\t0.63096\t\t#     \t\tB         \n",
            "3    \t\t0.50119\t\t$     \t\tC         \n",
            "4    \t\t0.39811\t\t%     \t\tD         \n",
            "5    \t\t0.31623\t\t&     \t\tE         \n",
            "6    \t\t0.25119\t\t'     \t\tF         \n",
            "7    \t\t0.19953\t\t(     \t\tG         \n",
            "8    \t\t0.15849\t\t)     \t\tH         \n",
            "9    \t\t0.12589\t\t*     \t\tI         \n",
            "10   \t\t0.10000\t\t+     \t\tJ         \n",
            "11   \t\t0.07943\t\t,     \t\tK         \n",
            "12   \t\t0.06310\t\t-     \t\tL         \n",
            "13   \t\t0.05012\t\t.     \t\tM         \n",
            "14   \t\t0.03981\t\t/     \t\tN         \n",
            "15   \t\t0.03162\t\t0     \t\tO         \n",
            "16   \t\t0.02512\t\t1     \t\tP         \n",
            "17   \t\t0.01995\t\t2     \t\tQ         \n",
            "18   \t\t0.01585\t\t3     \t\tR         \n",
            "19   \t\t0.01259\t\t4     \t\tS         \n",
            "20   \t\t0.01000\t\t5     \t\tT         \n",
            "21   \t\t0.00794\t\t6     \t\tU         \n",
            "22   \t\t0.00631\t\t7     \t\tV         \n",
            "23   \t\t0.00501\t\t8     \t\tW         \n",
            "24   \t\t0.00398\t\t9     \t\tX         \n",
            "25   \t\t0.00316\t\t:     \t\tY         \n",
            "26   \t\t0.00251\t\t;     \t\tZ         \n",
            "27   \t\t0.00200\t\t<     \t\t[         \n",
            "28   \t\t0.00158\t\t=     \t\t\\         \n",
            "29   \t\t0.00126\t\t>     \t\t]         \n",
            "30   \t\t0.00100\t\t?     \t\t^         \n",
            "31   \t\t0.00079\t\t@     \t\t_         \n",
            "32   \t\t0.00063\t\tA     \t\t`         \n",
            "33   \t\t0.00050\t\tB     \t\ta         \n",
            "34   \t\t0.00040\t\tC     \t\tb         \n",
            "35   \t\t0.00032\t\tD     \t\tc         \n",
            "36   \t\t0.00025\t\tE     \t\td         \n",
            "37   \t\t0.00020\t\tF     \t\te         \n",
            "38   \t\t0.00016\t\tG     \t\tf         \n",
            "39   \t\t0.00013\t\tH     \t\tg         \n",
            "40   \t\t0.00010\t\tI     \t\th         \n",
            "41   \t\t0.00008\t\tJ     \t\ti         \n"
          ]
        }
      ]
    }
  ]
}