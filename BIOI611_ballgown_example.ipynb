{
  "nbformat": 4,
  "nbformat_minor": 0,
  "metadata": {
    "colab": {
      "provenance": [],
      "authorship_tag": "ABX9TyNhEQhkadrIADvnmQBtwLVn",
      "include_colab_link": true
    },
    "kernelspec": {
      "name": "ir",
      "display_name": "R"
    },
    "language_info": {
      "name": "R"
    }
  },
  "cells": [
    {
      "cell_type": "markdown",
      "metadata": {
        "id": "view-in-github",
        "colab_type": "text"
      },
      "source": [
        "<a href=\"https://colab.research.google.com/github/Bix4UMD/BIOI611_lab/blob/main/docs/BIOI611_ballgown_example.ipynb\" target=\"_parent\"><img src=\"https://colab.research.google.com/assets/colab-badge.svg\" alt=\"Open In Colab\"/></a>"
      ]
    },
    {
      "cell_type": "markdown",
      "source": [
        "# Isoform-level differential expression analysis with Ballgown.\n",
        "\n",
        "## Install R package"
      ],
      "metadata": {
        "id": "RMUCWScmzm2X"
      }
    },
    {
      "cell_type": "code",
      "execution_count": 2,
      "metadata": {
        "colab": {
          "base_uri": "https://localhost:8080/"
        },
        "id": "A7daQk72zNU3",
        "outputId": "b6e6dc0c-c076-40f1-f940-d1aed6dae4f3"
      },
      "outputs": [
        {
          "output_type": "stream",
          "name": "stderr",
          "text": [
            "'getOption(\"repos\")' replaces Bioconductor standard repositories, see\n",
            "'help(\"repositories\", package = \"BiocManager\")' for details.\n",
            "Replacement repositories:\n",
            "    CRAN: https://cran.rstudio.com\n",
            "\n",
            "Bioconductor version 3.19 (BiocManager 1.30.25), R 4.4.1 (2024-06-14)\n",
            "\n",
            "Warning message:\n",
            "“package(s) not installed when version(s) same as or greater than current; use\n",
            "  `force = TRUE` to re-install: 'ballgown'”\n",
            "Old packages: 'Matrix'\n",
            "\n"
          ]
        }
      ],
      "source": [
        "if (!require(\"BiocManager\", quietly = TRUE))\n",
        "    install.packages(\"BiocManager\")\n",
        "\n",
        "BiocManager::install(\"ballgown\")"
      ]
    },
    {
      "cell_type": "markdown",
      "source": [
        "## Understand the folder with example data"
      ],
      "metadata": {
        "id": "t5x16Lk3zmnM"
      }
    },
    {
      "cell_type": "code",
      "source": [
        "library(ballgown)\n",
        "data_directory = system.file('extdata', package='ballgown') # automatically finds ballgown's installation directory\n",
        "# examine data_directory:\n",
        "data_directory"
      ],
      "metadata": {
        "colab": {
          "base_uri": "https://localhost:8080/",
          "height": 196
        },
        "id": "9DrZ1H-QzS8Q",
        "outputId": "695d140d-e481-443f-a990-13034d8a013c"
      },
      "execution_count": 3,
      "outputs": [
        {
          "output_type": "stream",
          "name": "stderr",
          "text": [
            "\n",
            "Attaching package: ‘ballgown’\n",
            "\n",
            "\n",
            "The following object is masked from ‘package:base’:\n",
            "\n",
            "    structure\n",
            "\n",
            "\n"
          ]
        },
        {
          "output_type": "display_data",
          "data": {
            "text/html": [
              "'/usr/local/lib/R/site-library/ballgown/extdata'"
            ],
            "text/markdown": "'/usr/local/lib/R/site-library/ballgown/extdata'",
            "text/latex": "'/usr/local/lib/R/site-library/ballgown/extdata'",
            "text/plain": [
              "[1] \"/usr/local/lib/R/site-library/ballgown/extdata\""
            ]
          },
          "metadata": {}
        }
      ]
    },
    {
      "cell_type": "code",
      "source": [
        "list.files(data_directory)"
      ],
      "metadata": {
        "colab": {
          "base_uri": "https://localhost:8080/",
          "height": 52
        },
        "id": "kIQyPsB4UJ6w",
        "outputId": "6acff2f6-a060-4ea1-a3e2-d9d6ff5dba99"
      },
      "execution_count": 48,
      "outputs": [
        {
          "output_type": "display_data",
          "data": {
            "text/html": [
              "<style>\n",
              ".list-inline {list-style: none; margin:0; padding: 0}\n",
              ".list-inline>li {display: inline-block}\n",
              ".list-inline>li:not(:last-child)::after {content: \"\\00b7\"; padding: 0 .5ex}\n",
              "</style>\n",
              "<ol class=list-inline><li>'annot.gtf.gz'</li><li>'hg19_genes_small.gtf.gz'</li><li>'sample01'</li><li>'sample02'</li><li>'sample03'</li><li>'sample04'</li><li>'sample05'</li><li>'sample06'</li><li>'sample07'</li><li>'sample08'</li><li>'sample09'</li><li>'sample10'</li><li>'sample11'</li><li>'sample12'</li><li>'sample13'</li><li>'sample14'</li><li>'sample15'</li><li>'sample16'</li><li>'sample17'</li><li>'sample18'</li><li>'sample19'</li><li>'sample20'</li><li>'tiny.genes.results.gz'</li><li>'tiny.isoforms.results.gz'</li><li>'tiny2.genes.results.gz'</li><li>'tiny2.isoforms.results.gz'</li></ol>\n"
            ],
            "text/markdown": "1. 'annot.gtf.gz'\n2. 'hg19_genes_small.gtf.gz'\n3. 'sample01'\n4. 'sample02'\n5. 'sample03'\n6. 'sample04'\n7. 'sample05'\n8. 'sample06'\n9. 'sample07'\n10. 'sample08'\n11. 'sample09'\n12. 'sample10'\n13. 'sample11'\n14. 'sample12'\n15. 'sample13'\n16. 'sample14'\n17. 'sample15'\n18. 'sample16'\n19. 'sample17'\n20. 'sample18'\n21. 'sample19'\n22. 'sample20'\n23. 'tiny.genes.results.gz'\n24. 'tiny.isoforms.results.gz'\n25. 'tiny2.genes.results.gz'\n26. 'tiny2.isoforms.results.gz'\n\n\n",
            "text/latex": "\\begin{enumerate*}\n\\item 'annot.gtf.gz'\n\\item 'hg19\\_genes\\_small.gtf.gz'\n\\item 'sample01'\n\\item 'sample02'\n\\item 'sample03'\n\\item 'sample04'\n\\item 'sample05'\n\\item 'sample06'\n\\item 'sample07'\n\\item 'sample08'\n\\item 'sample09'\n\\item 'sample10'\n\\item 'sample11'\n\\item 'sample12'\n\\item 'sample13'\n\\item 'sample14'\n\\item 'sample15'\n\\item 'sample16'\n\\item 'sample17'\n\\item 'sample18'\n\\item 'sample19'\n\\item 'sample20'\n\\item 'tiny.genes.results.gz'\n\\item 'tiny.isoforms.results.gz'\n\\item 'tiny2.genes.results.gz'\n\\item 'tiny2.isoforms.results.gz'\n\\end{enumerate*}\n",
            "text/plain": [
              " [1] \"annot.gtf.gz\"              \"hg19_genes_small.gtf.gz\"  \n",
              " [3] \"sample01\"                  \"sample02\"                 \n",
              " [5] \"sample03\"                  \"sample04\"                 \n",
              " [7] \"sample05\"                  \"sample06\"                 \n",
              " [9] \"sample07\"                  \"sample08\"                 \n",
              "[11] \"sample09\"                  \"sample10\"                 \n",
              "[13] \"sample11\"                  \"sample12\"                 \n",
              "[15] \"sample13\"                  \"sample14\"                 \n",
              "[17] \"sample15\"                  \"sample16\"                 \n",
              "[19] \"sample17\"                  \"sample18\"                 \n",
              "[21] \"sample19\"                  \"sample20\"                 \n",
              "[23] \"tiny.genes.results.gz\"     \"tiny.isoforms.results.gz\" \n",
              "[25] \"tiny2.genes.results.gz\"    \"tiny2.isoforms.results.gz\""
            ]
          },
          "metadata": {}
        }
      ]
    },
    {
      "cell_type": "code",
      "source": [
        "# make the ballgown object:\n",
        "bg = ballgown(dataDir=data_directory, samplePattern='sample', meas='all')\n",
        "bg"
      ],
      "metadata": {
        "colab": {
          "base_uri": "https://localhost:8080/",
          "height": 394
        },
        "id": "8kZKnJx9K_fW",
        "outputId": "7c12e692-5d83-4798-cead-48bd7b286c50"
      },
      "execution_count": 4,
      "outputs": [
        {
          "output_type": "stream",
          "name": "stderr",
          "text": [
            "Mon Oct 21 17:42:05 2024\n",
            "\n",
            "Mon Oct 21 17:42:05 2024: Reading linking tables\n",
            "\n",
            "Mon Oct 21 17:42:05 2024: Reading intron data files\n",
            "\n",
            "Mon Oct 21 17:42:05 2024: Merging intron data\n",
            "\n",
            "Mon Oct 21 17:42:05 2024: Reading exon data files\n",
            "\n",
            "Mon Oct 21 17:42:05 2024: Merging exon data\n",
            "\n",
            "Mon Oct 21 17:42:05 2024: Reading transcript data files\n",
            "\n",
            "Mon Oct 21 17:42:05 2024: Merging transcript data\n",
            "\n",
            "Wrapping up the results\n",
            "\n",
            "Mon Oct 21 17:42:05 2024\n",
            "\n"
          ]
        },
        {
          "output_type": "display_data",
          "data": {
            "text/plain": [
              "ballgown instance with 100 transcripts and 20 samples"
            ]
          },
          "metadata": {}
        }
      ]
    },
    {
      "cell_type": "code",
      "source": [],
      "metadata": {
        "id": "fbRD0wZmLSBE"
      },
      "execution_count": null,
      "outputs": []
    },
    {
      "cell_type": "markdown",
      "source": [
        "## Accessing assembly data\n",
        "\n",
        "A ballgown object has six slots: structure, expr, indexes, dirs, mergedDate, and meas.\n",
        "\n",
        "Exon, intron, and transcript structures are easily extracted from the main ballgown object:\n",
        "\n"
      ],
      "metadata": {
        "id": "LoxHcyeMLShS"
      }
    },
    {
      "cell_type": "markdown",
      "source": [
        "### Structure"
      ],
      "metadata": {
        "id": "8v3d-A0kUeCG"
      }
    },
    {
      "cell_type": "code",
      "source": [
        "structure(bg)$exon\n"
      ],
      "metadata": {
        "colab": {
          "base_uri": "https://localhost:8080/",
          "height": 304
        },
        "id": "Nmmo_3JtLIzJ",
        "outputId": "5108c2ca-5045-4a3c-fa90-2e4ab481f05e"
      },
      "execution_count": 5,
      "outputs": [
        {
          "output_type": "display_data",
          "data": {
            "text/plain": [
              "GRanges object with 633 ranges and 2 metadata columns:\n",
              "        seqnames            ranges strand |        id transcripts\n",
              "           <Rle>         <IRanges>  <Rle> | <integer> <character>\n",
              "    [1]       18 24412069-24412331      * |        12          10\n",
              "    [2]       22 17308271-17308950      + |        55          25\n",
              "    [3]       22 17309432-17310226      + |        56          25\n",
              "    [4]       22 18121428-18121652      + |        88          35\n",
              "    [5]       22 18138428-18138598      + |        89          35\n",
              "    ...      ...               ...    ... .       ...         ...\n",
              "  [629]       22 51221929-51222113      - |      3777        1294\n",
              "  [630]       22 51221319-51221473      - |      3782        1297\n",
              "  [631]       22 51221929-51222162      - |      3783        1297\n",
              "  [632]       22 51221929-51222168      - |      3784        1301\n",
              "  [633]        6 31248149-31248334      * |      3794        1312\n",
              "  -------\n",
              "  seqinfo: 3 sequences from an unspecified genome; no seqlengths"
            ]
          },
          "metadata": {}
        }
      ]
    },
    {
      "cell_type": "code",
      "source": [
        "structure(bg)$intron\n"
      ],
      "metadata": {
        "colab": {
          "base_uri": "https://localhost:8080/",
          "height": 304
        },
        "id": "uNZtgMU4LPYU",
        "outputId": "930e3312-5950-402c-fce0-7fe6269b0386"
      },
      "execution_count": 6,
      "outputs": [
        {
          "output_type": "display_data",
          "data": {
            "text/plain": [
              "GRanges object with 536 ranges and 2 metadata columns:\n",
              "        seqnames            ranges strand |        id         transcripts\n",
              "           <Rle>         <IRanges>  <Rle> | <integer>         <character>\n",
              "    [1]       22 17308951-17309431      + |        33                  25\n",
              "    [2]       22 18121653-18138427      + |        57                  35\n",
              "    [3]       22 18138599-18185008      + |        58                  35\n",
              "    [4]       22 18185153-18209442      + |        59                  35\n",
              "    [5]       22 18385514-18387397      - |        72                  41\n",
              "    ...      ...               ...    ... .       ...                 ...\n",
              "  [532]       22 51216410-51220615      - |      2750 c(1294, 1297, 1301)\n",
              "  [533]       22 51220776-51221928      - |      2756                1294\n",
              "  [534]       22 51220780-51221318      - |      2757                1297\n",
              "  [535]       22 51221474-51221928      - |      2758                1297\n",
              "  [536]       22 51220780-51221928      - |      2759                1301\n",
              "  -------\n",
              "  seqinfo: 1 sequence from an unspecified genome; no seqlengths"
            ]
          },
          "metadata": {}
        }
      ]
    },
    {
      "cell_type": "code",
      "source": [
        "structure(bg)$trans\n"
      ],
      "metadata": {
        "colab": {
          "base_uri": "https://localhost:8080/",
          "height": 574
        },
        "id": "YYB-5qdPLdB3",
        "outputId": "44622413-2290-4a89-c773-73bbdd41e64c"
      },
      "execution_count": 7,
      "outputs": [
        {
          "output_type": "display_data",
          "data": {
            "text/plain": [
              "GRangesList object of length 100:\n",
              "$`10`\n",
              "GRanges object with 1 range and 2 metadata columns:\n",
              "      seqnames            ranges strand |        id transcripts\n",
              "         <Rle>         <IRanges>  <Rle> | <integer> <character>\n",
              "  [1]       18 24412069-24412331      * |        12          10\n",
              "  -------\n",
              "  seqinfo: 3 sequences from an unspecified genome; no seqlengths\n",
              "\n",
              "$`25`\n",
              "GRanges object with 2 ranges and 2 metadata columns:\n",
              "      seqnames            ranges strand |        id transcripts\n",
              "         <Rle>         <IRanges>  <Rle> | <integer> <character>\n",
              "  [1]       22 17308271-17308950      + |        55          25\n",
              "  [2]       22 17309432-17310226      + |        56          25\n",
              "  -------\n",
              "  seqinfo: 3 sequences from an unspecified genome; no seqlengths\n",
              "\n",
              "$`35`\n",
              "GRanges object with 4 ranges and 2 metadata columns:\n",
              "      seqnames            ranges strand |        id transcripts\n",
              "         <Rle>         <IRanges>  <Rle> | <integer> <character>\n",
              "  [1]       22 18121428-18121652      + |        88          35\n",
              "  [2]       22 18138428-18138598      + |        89          35\n",
              "  [3]       22 18185009-18185152      + |        90          35\n",
              "  [4]       22 18209443-18212080      + |        91          35\n",
              "  -------\n",
              "  seqinfo: 3 sequences from an unspecified genome; no seqlengths\n",
              "\n",
              "...\n",
              "<97 more elements>"
            ]
          },
          "metadata": {}
        }
      ]
    },
    {
      "cell_type": "markdown",
      "source": [
        "### expr\n",
        "\n",
        "\n",
        "The expr slot is a list that contains tables of expression data for the genomic features. These tables are very similar to the *_data.ctab Tablemaker output files. Ballgown implements the following syntax to access components of the expr slot:\n",
        "\n",
        "\n",
        "```\n",
        "*expr(ballgown_object_name, <EXPRESSION_MEASUREMENT>)\n",
        "```\n",
        "\n"
      ],
      "metadata": {
        "id": "lPclFN0bLkfG"
      }
    },
    {
      "cell_type": "markdown",
      "source": [
        "where * is either e for exon, i for intron, t for transcript, or g for gene, and is an expression-measurement column name from the appropriate .ctab file. Gene-level measurements are calculated by aggregating the transcript-level measurements for that gene. All of the following are valid ways to extract expression data from the bg ballgown object:\n",
        "\n"
      ],
      "metadata": {
        "id": "UpCz1bRMLva1"
      }
    },
    {
      "cell_type": "code",
      "source": [
        "transcript_fpkm = texpr(bg, 'FPKM')\n",
        "transcript_cov = texpr(bg, 'cov')\n",
        "whole_tx_table = texpr(bg, 'all')\n",
        "exon_mcov = eexpr(bg, 'mcov')\n",
        "junction_rcount = iexpr(bg)\n",
        "whole_intron_table = iexpr(bg, 'all')\n",
        "gene_expression = gexpr(bg)"
      ],
      "metadata": {
        "id": "3deNAJLpLsJj"
      },
      "execution_count": 8,
      "outputs": []
    },
    {
      "cell_type": "markdown",
      "source": [
        "### Indexes"
      ],
      "metadata": {
        "id": "5POFGw2GMeHc"
      }
    },
    {
      "cell_type": "code",
      "source": [
        "pData(bg) = data.frame(id=sampleNames(bg), group=rep(c(1,0), each=10))\n"
      ],
      "metadata": {
        "id": "mrmdJa2HMdhk"
      },
      "execution_count": 14,
      "outputs": []
    },
    {
      "cell_type": "code",
      "source": [
        "pData(bg)"
      ],
      "metadata": {
        "colab": {
          "base_uri": "https://localhost:8080/",
          "height": 725
        },
        "id": "wyoZEPA5Mm0A",
        "outputId": "18d383b6-86cc-4283-aaad-53ef67dd3d4d"
      },
      "execution_count": 15,
      "outputs": [
        {
          "output_type": "display_data",
          "data": {
            "text/html": [
              "<table class=\"dataframe\">\n",
              "<caption>A data.frame: 20 × 2</caption>\n",
              "<thead>\n",
              "\t<tr><th scope=col>id</th><th scope=col>group</th></tr>\n",
              "\t<tr><th scope=col>&lt;chr&gt;</th><th scope=col>&lt;dbl&gt;</th></tr>\n",
              "</thead>\n",
              "<tbody>\n",
              "\t<tr><td>sample01</td><td>1</td></tr>\n",
              "\t<tr><td>sample02</td><td>1</td></tr>\n",
              "\t<tr><td>sample03</td><td>1</td></tr>\n",
              "\t<tr><td>sample04</td><td>1</td></tr>\n",
              "\t<tr><td>sample05</td><td>1</td></tr>\n",
              "\t<tr><td>sample06</td><td>1</td></tr>\n",
              "\t<tr><td>sample07</td><td>1</td></tr>\n",
              "\t<tr><td>sample08</td><td>1</td></tr>\n",
              "\t<tr><td>sample09</td><td>1</td></tr>\n",
              "\t<tr><td>sample10</td><td>1</td></tr>\n",
              "\t<tr><td>sample11</td><td>0</td></tr>\n",
              "\t<tr><td>sample12</td><td>0</td></tr>\n",
              "\t<tr><td>sample13</td><td>0</td></tr>\n",
              "\t<tr><td>sample14</td><td>0</td></tr>\n",
              "\t<tr><td>sample15</td><td>0</td></tr>\n",
              "\t<tr><td>sample16</td><td>0</td></tr>\n",
              "\t<tr><td>sample17</td><td>0</td></tr>\n",
              "\t<tr><td>sample18</td><td>0</td></tr>\n",
              "\t<tr><td>sample19</td><td>0</td></tr>\n",
              "\t<tr><td>sample20</td><td>0</td></tr>\n",
              "</tbody>\n",
              "</table>\n"
            ],
            "text/markdown": "\nA data.frame: 20 × 2\n\n| id &lt;chr&gt; | group &lt;dbl&gt; |\n|---|---|\n| sample01 | 1 |\n| sample02 | 1 |\n| sample03 | 1 |\n| sample04 | 1 |\n| sample05 | 1 |\n| sample06 | 1 |\n| sample07 | 1 |\n| sample08 | 1 |\n| sample09 | 1 |\n| sample10 | 1 |\n| sample11 | 0 |\n| sample12 | 0 |\n| sample13 | 0 |\n| sample14 | 0 |\n| sample15 | 0 |\n| sample16 | 0 |\n| sample17 | 0 |\n| sample18 | 0 |\n| sample19 | 0 |\n| sample20 | 0 |\n\n",
            "text/latex": "A data.frame: 20 × 2\n\\begin{tabular}{ll}\n id & group\\\\\n <chr> & <dbl>\\\\\n\\hline\n\t sample01 & 1\\\\\n\t sample02 & 1\\\\\n\t sample03 & 1\\\\\n\t sample04 & 1\\\\\n\t sample05 & 1\\\\\n\t sample06 & 1\\\\\n\t sample07 & 1\\\\\n\t sample08 & 1\\\\\n\t sample09 & 1\\\\\n\t sample10 & 1\\\\\n\t sample11 & 0\\\\\n\t sample12 & 0\\\\\n\t sample13 & 0\\\\\n\t sample14 & 0\\\\\n\t sample15 & 0\\\\\n\t sample16 & 0\\\\\n\t sample17 & 0\\\\\n\t sample18 & 0\\\\\n\t sample19 & 0\\\\\n\t sample20 & 0\\\\\n\\end{tabular}\n",
            "text/plain": [
              "   id       group\n",
              "1  sample01 1    \n",
              "2  sample02 1    \n",
              "3  sample03 1    \n",
              "4  sample04 1    \n",
              "5  sample05 1    \n",
              "6  sample06 1    \n",
              "7  sample07 1    \n",
              "8  sample08 1    \n",
              "9  sample09 1    \n",
              "10 sample10 1    \n",
              "11 sample11 0    \n",
              "12 sample12 0    \n",
              "13 sample13 0    \n",
              "14 sample14 0    \n",
              "15 sample15 0    \n",
              "16 sample16 0    \n",
              "17 sample17 0    \n",
              "18 sample18 0    \n",
              "19 sample19 0    \n",
              "20 sample20 0    "
            ]
          },
          "metadata": {}
        }
      ]
    },
    {
      "cell_type": "markdown",
      "source": [
        "### Plotting transcript structures\n",
        "\n",
        "\n"
      ],
      "metadata": {
        "id": "XAeCKCzoL7RC"
      }
    },
    {
      "cell_type": "code",
      "source": [
        "plotTranscripts(gene='XLOC_000454', gown=bg, samples='sample12',\n",
        "    meas='FPKM', colorby='transcript',\n",
        "    main='transcripts from gene XLOC_000454: sample 12, FPKM')"
      ],
      "metadata": {
        "colab": {
          "base_uri": "https://localhost:8080/",
          "height": 437
        },
        "id": "z09kwBmaL-m7",
        "outputId": "8f5a84da-07b6-4bb1-a88e-0a9214b123d8"
      },
      "execution_count": 9,
      "outputs": [
        {
          "output_type": "display_data",
          "data": {
            "text/plain": [
              "Plot with title “transcripts from gene XLOC_000454: sample 12, FPKM”"
            ],
            "image/png": "[encoded data removed]"
          },
          "metadata": {
            "image/png": {
              "width": 420,
              "height": 420
            }
          }
        }
      ]
    },
    {
      "cell_type": "markdown",
      "source": [
        "It is also possible to plot several samples at once:\n",
        "\n"
      ],
      "metadata": {
        "id": "hm8g2KdaMBr_"
      }
    },
    {
      "cell_type": "code",
      "source": [
        "plotTranscripts('XLOC_000454', bg,\n",
        "    samples=c('sample01', 'sample06', 'sample12', 'sample19'),\n",
        "    meas='FPKM', colorby='transcript')"
      ],
      "metadata": {
        "colab": {
          "base_uri": "https://localhost:8080/",
          "height": 437
        },
        "id": "us16GFu5MCMA",
        "outputId": "ec0909d1-7792-4f7a-b488-9ac54d42d68d"
      },
      "execution_count": 10,
      "outputs": [
        {
          "output_type": "display_data",
          "data": {
            "text/plain": [
              "Plot with title “XLOC_000454”"
            ],
            "image/png": "[encoded data removed]"
          },
          "metadata": {
            "image/png": {
              "width": 420,
              "height": 420
            }
          }
        }
      ]
    },
    {
      "cell_type": "code",
      "source": [],
      "metadata": {
        "id": "xif1Di3OMIPL"
      },
      "execution_count": null,
      "outputs": []
    },
    {
      "cell_type": "markdown",
      "source": [
        "You can also make side-by-side plots comparing mean abundances between groups (here, 0 and 1):\n",
        "\n"
      ],
      "metadata": {
        "id": "iGvAVIOSMIy1"
      }
    },
    {
      "cell_type": "code",
      "source": [
        "plotMeans('XLOC_000454', bg, groupvar='group', meas='FPKM', colorby='transcript')"
      ],
      "metadata": {
        "colab": {
          "base_uri": "https://localhost:8080/",
          "height": 437
        },
        "id": "n3mlIzH6MJTU",
        "outputId": "bb16d455-82e5-4992-ba6b-80262563d7d7"
      },
      "execution_count": 18,
      "outputs": [
        {
          "output_type": "display_data",
          "data": {
            "text/plain": [
              "Plot with title “XLOC_000454: 1”"
            ],
            "image/png": "[encoded data removed]"
          },
          "metadata": {
            "image/png": {
              "width": 420,
              "height": 420
            }
          }
        }
      ]
    },
    {
      "cell_type": "markdown",
      "source": [
        "## Differential expression analysis\n",
        "\n",
        "Ballgown provides a wide selection of simple, fast statistical methods for testing whether transcripts are differentially expressed between experimental conditions or across a continuous covariate (such as time).\n",
        "\n"
      ],
      "metadata": {
        "id": "9XqwoDc_NKcS"
      }
    },
    {
      "cell_type": "markdown",
      "source": [],
      "metadata": {
        "id": "QVqRu89WNNXI"
      }
    },
    {
      "cell_type": "code",
      "source": [
        "stat_results = stattest(bg, feature='transcript',\n",
        "                   meas='FPKM', covariate='group',\n",
        "                   getFC=TRUE)\n"
      ],
      "metadata": {
        "id": "eIzaXmwJNWK-"
      },
      "execution_count": 21,
      "outputs": []
    },
    {
      "cell_type": "code",
      "source": [
        "results_transcripts <- data.frame(geneNames = geneNames(bg),\n",
        "                                  geneIDs = geneIDs(bg),\n",
        "                                  transcriptNames = transcriptNames(bg),\n",
        "                                  stat_results)"
      ],
      "metadata": {
        "id": "0FYxJZpCOUMK"
      },
      "execution_count": 29,
      "outputs": []
    },
    {
      "cell_type": "code",
      "source": [
        "head(results_transcripts)"
      ],
      "metadata": {
        "colab": {
          "base_uri": "https://localhost:8080/",
          "height": 286
        },
        "id": "3CQVLRJRNXdF",
        "outputId": "5009ad68-29d6-4763-a870-1a82cfb60fc7"
      },
      "execution_count": 30,
      "outputs": [
        {
          "output_type": "display_data",
          "data": {
            "text/html": [
              "<table class=\"dataframe\">\n",
              "<caption>A data.frame: 6 × 8</caption>\n",
              "<thead>\n",
              "\t<tr><th></th><th scope=col>geneNames</th><th scope=col>geneIDs</th><th scope=col>transcriptNames</th><th scope=col>feature</th><th scope=col>id</th><th scope=col>fc</th><th scope=col>pval</th><th scope=col>qval</th></tr>\n",
              "\t<tr><th></th><th scope=col>&lt;chr&gt;</th><th scope=col>&lt;chr&gt;</th><th scope=col>&lt;chr&gt;</th><th scope=col>&lt;chr&gt;</th><th scope=col>&lt;chr&gt;</th><th scope=col>&lt;dbl&gt;</th><th scope=col>&lt;dbl&gt;</th><th scope=col>&lt;dbl&gt;</th></tr>\n",
              "</thead>\n",
              "<tbody>\n",
              "\t<tr><th scope=row>10</th><td></td><td>XLOC_000010</td><td>TCONS_00000010</td><td>transcript</td><td>10</td><td>3.193499</td><td>0.01381576</td><td>0.10521233</td></tr>\n",
              "\t<tr><th scope=row>25</th><td></td><td>XLOC_000014</td><td>TCONS_00000017</td><td>transcript</td><td>25</td><td>1.549093</td><td>0.26773622</td><td>0.79114975</td></tr>\n",
              "\t<tr><th scope=row>35</th><td></td><td>XLOC_000017</td><td>TCONS_00000020</td><td>transcript</td><td>35</td><td>4.388626</td><td>0.01085070</td><td>0.08951825</td></tr>\n",
              "\t<tr><th scope=row>41</th><td></td><td>XLOC_000246</td><td>TCONS_00000598</td><td>transcript</td><td>41</td><td>1.440519</td><td>0.47108019</td><td>0.90253747</td></tr>\n",
              "\t<tr><th scope=row>45</th><td></td><td>XLOC_000019</td><td>TCONS_00000024</td><td>transcript</td><td>45</td><td>1.714340</td><td>0.08402948</td><td>0.48934813</td></tr>\n",
              "\t<tr><th scope=row>67</th><td></td><td>XLOC_000255</td><td>TCONS_00000613</td><td>transcript</td><td>67</td><td>2.518524</td><td>0.27317385</td><td>0.79114975</td></tr>\n",
              "</tbody>\n",
              "</table>\n"
            ],
            "text/markdown": "\nA data.frame: 6 × 8\n\n| <!--/--> | geneNames &lt;chr&gt; | geneIDs &lt;chr&gt; | transcriptNames &lt;chr&gt; | feature &lt;chr&gt; | id &lt;chr&gt; | fc &lt;dbl&gt; | pval &lt;dbl&gt; | qval &lt;dbl&gt; |\n|---|---|---|---|---|---|---|---|---|\n| 10 | <!----> | XLOC_000010 | TCONS_00000010 | transcript | 10 | 3.193499 | 0.01381576 | 0.10521233 |\n| 25 | <!----> | XLOC_000014 | TCONS_00000017 | transcript | 25 | 1.549093 | 0.26773622 | 0.79114975 |\n| 35 | <!----> | XLOC_000017 | TCONS_00000020 | transcript | 35 | 4.388626 | 0.01085070 | 0.08951825 |\n| 41 | <!----> | XLOC_000246 | TCONS_00000598 | transcript | 41 | 1.440519 | 0.47108019 | 0.90253747 |\n| 45 | <!----> | XLOC_000019 | TCONS_00000024 | transcript | 45 | 1.714340 | 0.08402948 | 0.48934813 |\n| 67 | <!----> | XLOC_000255 | TCONS_00000613 | transcript | 67 | 2.518524 | 0.27317385 | 0.79114975 |\n\n",
            "text/latex": "A data.frame: 6 × 8\n\\begin{tabular}{r|llllllll}\n  & geneNames & geneIDs & transcriptNames & feature & id & fc & pval & qval\\\\\n  & <chr> & <chr> & <chr> & <chr> & <chr> & <dbl> & <dbl> & <dbl>\\\\\n\\hline\n\t10 &  & XLOC\\_000010 & TCONS\\_00000010 & transcript & 10 & 3.193499 & 0.01381576 & 0.10521233\\\\\n\t25 &  & XLOC\\_000014 & TCONS\\_00000017 & transcript & 25 & 1.549093 & 0.26773622 & 0.79114975\\\\\n\t35 &  & XLOC\\_000017 & TCONS\\_00000020 & transcript & 35 & 4.388626 & 0.01085070 & 0.08951825\\\\\n\t41 &  & XLOC\\_000246 & TCONS\\_00000598 & transcript & 41 & 1.440519 & 0.47108019 & 0.90253747\\\\\n\t45 &  & XLOC\\_000019 & TCONS\\_00000024 & transcript & 45 & 1.714340 & 0.08402948 & 0.48934813\\\\\n\t67 &  & XLOC\\_000255 & TCONS\\_00000613 & transcript & 67 & 2.518524 & 0.27317385 & 0.79114975\\\\\n\\end{tabular}\n",
            "text/plain": [
              "   geneNames geneIDs     transcriptNames feature    id fc       pval      \n",
              "10           XLOC_000010 TCONS_00000010  transcript 10 3.193499 0.01381576\n",
              "25           XLOC_000014 TCONS_00000017  transcript 25 1.549093 0.26773622\n",
              "35           XLOC_000017 TCONS_00000020  transcript 35 4.388626 0.01085070\n",
              "41           XLOC_000246 TCONS_00000598  transcript 41 1.440519 0.47108019\n",
              "45           XLOC_000019 TCONS_00000024  transcript 45 1.714340 0.08402948\n",
              "67           XLOC_000255 TCONS_00000613  transcript 67 2.518524 0.27317385\n",
              "   qval      \n",
              "10 0.10521233\n",
              "25 0.79114975\n",
              "35 0.08951825\n",
              "41 0.90253747\n",
              "45 0.48934813\n",
              "67 0.79114975"
            ]
          },
          "metadata": {}
        }
      ]
    },
    {
      "cell_type": "code",
      "source": [
        "results_transcripts <- results_transcripts[order(results_transcripts$qval), ]"
      ],
      "metadata": {
        "id": "-VykeV1yPT1j"
      },
      "execution_count": 36,
      "outputs": []
    },
    {
      "cell_type": "code",
      "source": [
        "head(results_transcripts, 10)"
      ],
      "metadata": {
        "colab": {
          "base_uri": "https://localhost:8080/",
          "height": 411
        },
        "id": "tai6wGhAPpyx",
        "outputId": "98783182-ba19-4e0e-f664-1eae9538ea11"
      },
      "execution_count": 45,
      "outputs": [
        {
          "output_type": "display_data",
          "data": {
            "text/html": [
              "<table class=\"dataframe\">\n",
              "<caption>A data.frame: 10 × 8</caption>\n",
              "<thead>\n",
              "\t<tr><th></th><th scope=col>geneNames</th><th scope=col>geneIDs</th><th scope=col>transcriptNames</th><th scope=col>feature</th><th scope=col>id</th><th scope=col>fc</th><th scope=col>pval</th><th scope=col>qval</th></tr>\n",
              "\t<tr><th></th><th scope=col>&lt;chr&gt;</th><th scope=col>&lt;chr&gt;</th><th scope=col>&lt;chr&gt;</th><th scope=col>&lt;chr&gt;</th><th scope=col>&lt;chr&gt;</th><th scope=col>&lt;dbl&gt;</th><th scope=col>&lt;dbl&gt;</th><th scope=col>&lt;dbl&gt;</th></tr>\n",
              "</thead>\n",
              "<tbody>\n",
              "\t<tr><th scope=row>1225</th><td></td><td>XLOC_000440</td><td>TCONS_00001129</td><td>transcript</td><td>1225</td><td>  5.67437122</td><td>1.035753e-05</td><td>0.001025395</td></tr>\n",
              "\t<tr><th scope=row>980</th><td></td><td>XLOC_000179</td><td>TCONS_00000452</td><td>transcript</td><td>980 </td><td>  6.25344921</td><td>2.514632e-05</td><td>0.001244743</td></tr>\n",
              "\t<tr><th scope=row>469</th><td></td><td>XLOC_000101</td><td>TCONS_00000244</td><td>transcript</td><td>469 </td><td>119.29999938</td><td>2.398681e-04</td><td>0.007915648</td></tr>\n",
              "\t<tr><th scope=row>695</th><td></td><td>XLOC_000354</td><td>TCONS_00000883</td><td>transcript</td><td>695 </td><td>  0.21950959</td><td>3.302059e-04</td><td>0.008172596</td></tr>\n",
              "\t<tr><th scope=row>1012</th><td></td><td>XLOC_000409</td><td>TCONS_00001041</td><td>transcript</td><td>1012</td><td>  0.24664434</td><td>1.527175e-03</td><td>0.030238073</td></tr>\n",
              "\t<tr><th scope=row>123</th><td></td><td>XLOC_000029</td><td>TCONS_00000059</td><td>transcript</td><td>123 </td><td>  0.01603345</td><td>2.097875e-03</td><td>0.034614939</td></tr>\n",
              "\t<tr><th scope=row>961</th><td></td><td>XLOC_000176</td><td>TCONS_00000435</td><td>transcript</td><td>961 </td><td>  4.96074399</td><td>2.736075e-03</td><td>0.038695918</td></tr>\n",
              "\t<tr><th scope=row>880</th><td></td><td>XLOC_000531</td><td>TCONS_00001277</td><td>transcript</td><td>880 </td><td> 29.40485236</td><td>3.272859e-03</td><td>0.040501628</td></tr>\n",
              "\t<tr><th scope=row>1063</th><td></td><td>XLOC_000197</td><td>TCONS_00000487</td><td>transcript</td><td>1063</td><td>  3.12988187</td><td>4.555313e-03</td><td>0.050108442</td></tr>\n",
              "\t<tr><th scope=row>35</th><td></td><td>XLOC_000017</td><td>TCONS_00000020</td><td>transcript</td><td>35  </td><td>  4.38862590</td><td>1.085070e-02</td><td>0.089518247</td></tr>\n",
              "</tbody>\n",
              "</table>\n"
            ],
            "text/markdown": "\nA data.frame: 10 × 8\n\n| <!--/--> | geneNames &lt;chr&gt; | geneIDs &lt;chr&gt; | transcriptNames &lt;chr&gt; | feature &lt;chr&gt; | id &lt;chr&gt; | fc &lt;dbl&gt; | pval &lt;dbl&gt; | qval &lt;dbl&gt; |\n|---|---|---|---|---|---|---|---|---|\n| 1225 | <!----> | XLOC_000440 | TCONS_00001129 | transcript | 1225 |   5.67437122 | 1.035753e-05 | 0.001025395 |\n| 980 | <!----> | XLOC_000179 | TCONS_00000452 | transcript | 980  |   6.25344921 | 2.514632e-05 | 0.001244743 |\n| 469 | <!----> | XLOC_000101 | TCONS_00000244 | transcript | 469  | 119.29999938 | 2.398681e-04 | 0.007915648 |\n| 695 | <!----> | XLOC_000354 | TCONS_00000883 | transcript | 695  |   0.21950959 | 3.302059e-04 | 0.008172596 |\n| 1012 | <!----> | XLOC_000409 | TCONS_00001041 | transcript | 1012 |   0.24664434 | 1.527175e-03 | 0.030238073 |\n| 123 | <!----> | XLOC_000029 | TCONS_00000059 | transcript | 123  |   0.01603345 | 2.097875e-03 | 0.034614939 |\n| 961 | <!----> | XLOC_000176 | TCONS_00000435 | transcript | 961  |   4.96074399 | 2.736075e-03 | 0.038695918 |\n| 880 | <!----> | XLOC_000531 | TCONS_00001277 | transcript | 880  |  29.40485236 | 3.272859e-03 | 0.040501628 |\n| 1063 | <!----> | XLOC_000197 | TCONS_00000487 | transcript | 1063 |   3.12988187 | 4.555313e-03 | 0.050108442 |\n| 35 | <!----> | XLOC_000017 | TCONS_00000020 | transcript | 35   |   4.38862590 | 1.085070e-02 | 0.089518247 |\n\n",
            "text/latex": "A data.frame: 10 × 8\n\\begin{tabular}{r|llllllll}\n  & geneNames & geneIDs & transcriptNames & feature & id & fc & pval & qval\\\\\n  & <chr> & <chr> & <chr> & <chr> & <chr> & <dbl> & <dbl> & <dbl>\\\\\n\\hline\n\t1225 &  & XLOC\\_000440 & TCONS\\_00001129 & transcript & 1225 &   5.67437122 & 1.035753e-05 & 0.001025395\\\\\n\t980 &  & XLOC\\_000179 & TCONS\\_00000452 & transcript & 980  &   6.25344921 & 2.514632e-05 & 0.001244743\\\\\n\t469 &  & XLOC\\_000101 & TCONS\\_00000244 & transcript & 469  & 119.29999938 & 2.398681e-04 & 0.007915648\\\\\n\t695 &  & XLOC\\_000354 & TCONS\\_00000883 & transcript & 695  &   0.21950959 & 3.302059e-04 & 0.008172596\\\\\n\t1012 &  & XLOC\\_000409 & TCONS\\_00001041 & transcript & 1012 &   0.24664434 & 1.527175e-03 & 0.030238073\\\\\n\t123 &  & XLOC\\_000029 & TCONS\\_00000059 & transcript & 123  &   0.01603345 & 2.097875e-03 & 0.034614939\\\\\n\t961 &  & XLOC\\_000176 & TCONS\\_00000435 & transcript & 961  &   4.96074399 & 2.736075e-03 & 0.038695918\\\\\n\t880 &  & XLOC\\_000531 & TCONS\\_00001277 & transcript & 880  &  29.40485236 & 3.272859e-03 & 0.040501628\\\\\n\t1063 &  & XLOC\\_000197 & TCONS\\_00000487 & transcript & 1063 &   3.12988187 & 4.555313e-03 & 0.050108442\\\\\n\t35 &  & XLOC\\_000017 & TCONS\\_00000020 & transcript & 35   &   4.38862590 & 1.085070e-02 & 0.089518247\\\\\n\\end{tabular}\n",
            "text/plain": [
              "     geneNames geneIDs     transcriptNames feature    id   fc          \n",
              "1225           XLOC_000440 TCONS_00001129  transcript 1225   5.67437122\n",
              "980            XLOC_000179 TCONS_00000452  transcript 980    6.25344921\n",
              "469            XLOC_000101 TCONS_00000244  transcript 469  119.29999938\n",
              "695            XLOC_000354 TCONS_00000883  transcript 695    0.21950959\n",
              "1012           XLOC_000409 TCONS_00001041  transcript 1012   0.24664434\n",
              "123            XLOC_000029 TCONS_00000059  transcript 123    0.01603345\n",
              "961            XLOC_000176 TCONS_00000435  transcript 961    4.96074399\n",
              "880            XLOC_000531 TCONS_00001277  transcript 880   29.40485236\n",
              "1063           XLOC_000197 TCONS_00000487  transcript 1063   3.12988187\n",
              "35             XLOC_000017 TCONS_00000020  transcript 35     4.38862590\n",
              "     pval         qval       \n",
              "1225 1.035753e-05 0.001025395\n",
              "980  2.514632e-05 0.001244743\n",
              "469  2.398681e-04 0.007915648\n",
              "695  3.302059e-04 0.008172596\n",
              "1012 1.527175e-03 0.030238073\n",
              "123  2.097875e-03 0.034614939\n",
              "961  2.736075e-03 0.038695918\n",
              "880  3.272859e-03 0.040501628\n",
              "1063 4.555313e-03 0.050108442\n",
              "35   1.085070e-02 0.089518247"
            ]
          },
          "metadata": {}
        }
      ]
    },
    {
      "cell_type": "code",
      "source": [
        "results_transcripts[results_transcripts$geneIDs == \"XLOC_000101\", ]"
      ],
      "metadata": {
        "colab": {
          "base_uri": "https://localhost:8080/",
          "height": 160
        },
        "id": "o9WD8M7vRv1h",
        "outputId": "4ceee569-ce6a-4924-f757-6866e7162baa"
      },
      "execution_count": 46,
      "outputs": [
        {
          "output_type": "display_data",
          "data": {
            "text/html": [
              "<table class=\"dataframe\">\n",
              "<caption>A data.frame: 2 × 8</caption>\n",
              "<thead>\n",
              "\t<tr><th></th><th scope=col>geneNames</th><th scope=col>geneIDs</th><th scope=col>transcriptNames</th><th scope=col>feature</th><th scope=col>id</th><th scope=col>fc</th><th scope=col>pval</th><th scope=col>qval</th></tr>\n",
              "\t<tr><th></th><th scope=col>&lt;chr&gt;</th><th scope=col>&lt;chr&gt;</th><th scope=col>&lt;chr&gt;</th><th scope=col>&lt;chr&gt;</th><th scope=col>&lt;chr&gt;</th><th scope=col>&lt;dbl&gt;</th><th scope=col>&lt;dbl&gt;</th><th scope=col>&lt;dbl&gt;</th></tr>\n",
              "</thead>\n",
              "<tbody>\n",
              "\t<tr><th scope=row>469</th><td></td><td>XLOC_000101</td><td>TCONS_00000244</td><td>transcript</td><td>469</td><td>119.299999</td><td>0.0002398681</td><td>0.007915648</td></tr>\n",
              "\t<tr><th scope=row>477</th><td></td><td>XLOC_000101</td><td>TCONS_00000252</td><td>transcript</td><td>477</td><td>  3.128184</td><td>0.4511803632</td><td>0.902537469</td></tr>\n",
              "</tbody>\n",
              "</table>\n"
            ],
            "text/markdown": "\nA data.frame: 2 × 8\n\n| <!--/--> | geneNames &lt;chr&gt; | geneIDs &lt;chr&gt; | transcriptNames &lt;chr&gt; | feature &lt;chr&gt; | id &lt;chr&gt; | fc &lt;dbl&gt; | pval &lt;dbl&gt; | qval &lt;dbl&gt; |\n|---|---|---|---|---|---|---|---|---|\n| 469 | <!----> | XLOC_000101 | TCONS_00000244 | transcript | 469 | 119.299999 | 0.0002398681 | 0.007915648 |\n| 477 | <!----> | XLOC_000101 | TCONS_00000252 | transcript | 477 |   3.128184 | 0.4511803632 | 0.902537469 |\n\n",
            "text/latex": "A data.frame: 2 × 8\n\\begin{tabular}{r|llllllll}\n  & geneNames & geneIDs & transcriptNames & feature & id & fc & pval & qval\\\\\n  & <chr> & <chr> & <chr> & <chr> & <chr> & <dbl> & <dbl> & <dbl>\\\\\n\\hline\n\t469 &  & XLOC\\_000101 & TCONS\\_00000244 & transcript & 469 & 119.299999 & 0.0002398681 & 0.007915648\\\\\n\t477 &  & XLOC\\_000101 & TCONS\\_00000252 & transcript & 477 &   3.128184 & 0.4511803632 & 0.902537469\\\\\n\\end{tabular}\n",
            "text/plain": [
              "    geneNames geneIDs     transcriptNames feature    id  fc        \n",
              "469           XLOC_000101 TCONS_00000244  transcript 469 119.299999\n",
              "477           XLOC_000101 TCONS_00000252  transcript 477   3.128184\n",
              "    pval         qval       \n",
              "469 0.0002398681 0.007915648\n",
              "477 0.4511803632 0.902537469"
            ]
          },
          "metadata": {}
        }
      ]
    },
    {
      "cell_type": "code",
      "source": [
        "plotMeans('XLOC_000101', bg, groupvar='group', meas='FPKM', colorby='transcript')"
      ],
      "metadata": {
        "colab": {
          "base_uri": "https://localhost:8080/",
          "height": 437
        },
        "id": "HBOOTG_CPAif",
        "outputId": "5fa8e447-7e3d-4492-ddfc-f403c41f3490"
      },
      "execution_count": 47,
      "outputs": [
        {
          "output_type": "display_data",
          "data": {
            "text/plain": [
              "Plot with title “XLOC_000101: 1”"
            ],
            "image/png": "[encoded data removed]"
          },
          "metadata": {
            "image/png": {
              "width": 420,
              "height": 420
            }
          }
        }
      ]
    },
    {
      "cell_type": "markdown",
      "source": [
        "## Reference\n",
        "\n",
        "https://www.bioconductor.org/packages/release/bioc/vignettes/ballgown/inst/doc/ballgown.html"
      ],
      "metadata": {
        "id": "g119JpzINNeA"
      }
    }
  ]
}