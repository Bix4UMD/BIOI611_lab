{
 "cells": [
  {
   "cell_type": "code",
   "execution_count": 8,
   "id": "27621efd-509c-4835-bb71-f5767af4d336",
   "metadata": {},
   "outputs": [
    {
     "name": "stdout",
     "output_type": "stream",
     "text": [
      "Directory already exists\n"
     ]
    },
    {
     "data": {
      "text/plain": [
       "'/home/xie186/github/UMD_BIOI611_lab/analysis'"
      ]
     },
     "execution_count": 8,
     "metadata": {},
     "output_type": "execute_result"
    }
   ],
   "source": [
    "import os\n",
    "os.getcwd()\n",
    "try: \n",
    "    os.mkdir(\"../analysis/\")\n",
    "except FileExistsError:\n",
    "    print(\"Directory already exists\")\n",
    "os.chdir(\"../analysis\")\n",
    "os.getcwd()"
   ]
  },
  {
   "cell_type": "code",
   "execution_count": null,
   "id": "8dfd30c7-2a41-4c46-adcc-4512a135ad90",
   "metadata": {},
   "outputs": [],
   "source": []
  },
  {
   "cell_type": "code",
   "execution_count": 1,
   "id": "0a899e85-768f-4960-b4b1-1c3a84fc47b7",
   "metadata": {},
   "outputs": [
    {
     "name": "stdout",
     "output_type": "stream",
     "text": [
      "/home/xie186/github/UMD_BIOI611_lab/notebook\n"
     ]
    }
   ],
   "source": [
    "%%bash"
   ]
  },
  {
   "cell_type": "code",
   "execution_count": null,
   "id": "1e7de3b0-6eea-4267-8406-4be55e408361",
   "metadata": {},
   "outputs": [],
   "source": []
  },
  {
   "cell_type": "code",
   "execution_count": null,
   "id": "daed2b99-4c8a-4ff8-89b0-3f1644d01204",
   "metadata": {},
   "outputs": [],
   "source": []
  },
  {
   "cell_type": "markdown",
   "id": "13fff280-eecc-4ddc-93a5-d4bf7d7baf46",
   "metadata": {},
   "source": [
    "## Download reference genome \n",
    "\n",
    "To download the reference for this lab, we use [ENSEMBL database](https://useast.ensembl.org/Caenorhabditis_elegans/Info/Index). \n",
    "In ENSEMBL database, each species may have different releases of genome build. We use `release-111` in this project. \n",
    "\n",
    "The genome sequences can be obtained from the link below:\n",
    "https://ftp.ensembl.org/pub/release-111/fasta/caenorhabditis_elegans/dna/\n",
    "\n",
    "The genoe anntation file in gtf format can be obtained here: \n",
    "https://ftp.ensembl.org/pub/release-111/gtf/caenorhabditis_elegans/\n"
   ]
  },
  {
   "cell_type": "code",
   "execution_count": 8,
   "id": "24c8ef09-e873-4c55-b52b-780a3be36a0b",
   "metadata": {},
   "outputs": [
    {
     "name": "stderr",
     "output_type": "stream",
     "text": [
      "2024-05-11 20:47:10 URL:https://ftp.ensembl.org/pub/release-111/fasta/caenorhabditis_elegans/dna/Caenorhabditis_elegans.WBcel235.dna.toplevel.fa.gz [30316631/30316631] -> \"Caenorhabditis_elegans.WBcel235.dna.toplevel.fa.gz\" [1]\n"
     ]
    }
   ],
   "source": [
    "%%bash\n",
    "mkdir -p reference/ \n",
    "    wget -O reference/Caenorhabditis_elegans.WBcel235.dna.toplevel.fa.gz -nv https://ftp.ensembl.org/pub/release-111/fasta/caenorhabditis_elegans/dna/Caenorhabditis_elegans.WBcel235.dna.toplevel.fa.gz\n",
    "gunzip reference/Caenorhabditis_elegans.WBcel235.dna.toplevel.fa.gz"
   ]
  },
  {
   "cell_type": "code",
   "execution_count": null,
   "id": "a6fb2495-734c-4a07-bd8b-8931889937ab",
   "metadata": {},
   "outputs": [],
   "source": [
    "%%bash\n",
    "## A *fai file will be generated\n",
    "samtools faidx reference/Caenorhabditis_elegans.WBcel235.dna.toplevel.fa "
   ]
  },
  {
   "cell_type": "code",
   "execution_count": null,
   "id": "6a94d882-b7db-4516-994d-4be8bb799592",
   "metadata": {},
   "outputs": [],
   "source": []
  },
  {
   "cell_type": "code",
   "execution_count": 27,
   "id": "5a50170a-2131-4dc0-afa2-6aa15de7989b",
   "metadata": {},
   "outputs": [
    {
     "name": "stderr",
     "output_type": "stream",
     "text": [
      "2024-05-11 21:03:37 URL:https://ftp.ensembl.org/pub/release-111/gtf/caenorhabditis_elegans/Caenorhabditis_elegans.WBcel235.111.gtf.gz [8730028/8730028] -> \"Caenorhabditis_elegans.WBcel235.111.gtf.gz\" [1]\n"
     ]
    }
   ],
   "source": [
    "%%bash\n",
    "\n",
    "wget -O reference/Caenorhabditis_elegans.WBcel235.111.gtf.gz -nv https://ftp.ensembl.org/pub/release-111/gtf/caenorhabditis_elegans/Caenorhabditis_elegans.WBcel235.111.gtf.gz\n",
    "gunzip reference/Caenorhabditis_elegans.WBcel235.111.gtf.gz"
   ]
  },
  {
   "cell_type": "markdown",
   "id": "b9222f00-5cc8-45ff-8e75-5f10a0648b97",
   "metadata": {},
   "source": [
    "## Build reference genome \n"
   ]
  },
  {
   "cell_type": "code",
   "execution_count": 36,
   "id": "f90d4aa4-301f-4ac7-aecc-5e0c9e7ae822",
   "metadata": {},
   "outputs": [],
   "source": [
    "%%bash\n",
    "STAR --runThreadN 23 --runMode genomeGenerate --genomeDir STAR_ref \\\n",
    "         --genomeFastaFiles reference/Caenorhabditis_elegans.WBcel235.dna.toplevel.fa \\\n",
    "         --sjdbGTFfile reference/Caenorhabditis_elegans.WBcel235.111.gtf \\\n",
    "         --genomeSAindexNbases 12 "
   ]
  },
  {
   "cell_type": "code",
   "execution_count": 38,
   "id": "6fed7490-6292-4ce2-bf1a-887fbce2d9a3",
   "metadata": {},
   "outputs": [
    {
     "name": "stdout",
     "output_type": "stream",
     "text": [
      "total 2.6G\n",
      "4.0K chrLength.txt\n",
      "4.0K chrNameLength.txt\n",
      "4.0K chrName.txt\n",
      "4.0K chrStart.txt\n",
      "7.9M exonGeTrInfo.tab\n",
      "3.2M exonInfo.tab\n",
      "1.6M geneInfo.tab\n",
      "119M Genome\n",
      "4.0K genomeParameters.txt\n",
      "8.0K Log.out\n",
      "973M SA\n",
      "1.5G SAindex\n",
      "2.9M sjdbInfo.txt\n",
      "3.0M sjdbList.fromGTF.out.tab\n",
      "2.4M sjdbList.out.tab\n",
      "3.1M transcriptInfo.tab\n"
     ]
    }
   ],
   "source": [
    "%%bash\n",
    "ls -sh STAR_ref/"
   ]
  },
  {
   "cell_type": "code",
   "execution_count": null,
   "id": "a4b97409-c5b2-4825-bba5-bc1aa697d0a2",
   "metadata": {},
   "outputs": [],
   "source": []
  },
  {
   "cell_type": "markdown",
   "id": "19fba68c-5f3c-485e-889e-20c91be3756c",
   "metadata": {},
   "source": [
    "## Download the reads \n"
   ]
  },
  {
   "cell_type": "markdown",
   "id": "97369929-1210-4d11-8db2-18a74b32a5f8",
   "metadata": {},
   "source": [
    "| SRR_ID       | Sample_name   |\r\n",
    "|--------------|---------------|\r\n",
    "| SRR15694101  | N2_day7_rep2  |\r\n",
    "| SRR15694102  | N2_day7_rep1  |\r\n",
    "| SRR15694100  |  N2_day7_rep3 |\r\n",
    "| SRR15694099  | N2_day1_rep1  |\r\n",
    "| SRR15694098  | N2_day1_rep2  |\r\n",
    "| SRR15694097  | N2_day1_rep3  |"
   ]
  },
  {
   "cell_type": "code",
   "execution_count": null,
   "id": "72367fe4-7a34-420d-a1b8-d98350c2a0bb",
   "metadata": {},
   "outputs": [
    {
     "name": "stderr",
     "output_type": "stream",
     "text": [
      "  % Total    % Received % Xferd  Average Speed   Time    Time     Time  Current\n",
      "                                 Dload  Upload   Total   Spent    Left  Speed\n",
      " 16 4123M   16  684M    0     0   655k      0  1:47:22  0:17:49  1:29:33  519k\n",
      "curl: (18) transfer closed with 3605679051 bytes remaining to read\n",
      "  % Total    % Received % Xferd  Average Speed   Time    Time     Time  Current\n",
      "                                 Dload  Upload   Total   Spent    Left  Speed\n"
     ]
    }
   ],
   "source": [
    "%%bash\n",
    "mkdir -p raw_data/ \n",
    "curl -L ftp://ftp.sra.ebi.ac.uk/vol1/fastq/SRR156/002/SRR15694102/SRR15694102.fastq.gz -o raw_data/N2_day7_rep1.fastq.gz\n",
    "curl -L ftp://ftp.sra.ebi.ac.uk/vol1/fastq/SRR156/001/SRR15694101/SRR15694101.fastq.gz -o raw_data/N2_day7_rep2.fastq.gz\n",
    "curl -L ftp://ftp.sra.ebi.ac.uk/vol1/fastq/SRR156/000/SRR15694100/SRR15694100.fastq.gz -o raw_data/N2_day7_rep3.fastq.gz\n",
    "curl -L ftp://ftp.sra.ebi.ac.uk/vol1/fastq/SRR156/099/SRR15694099/SRR15694099.fastq.gz -o raw_data/N2_day1_rep1.fastq.gz\n",
    "curl -L ftp://ftp.sra.ebi.ac.uk/vol1/fastq/SRR156/098/SRR15694098/SRR15694098.fastq.gz -o raw_data/N2_day1_rep2.fastq.gz\n",
    "curl -L ftp://ftp.sra.ebi.ac.uk/vol1/fastq/SRR156/097/SRR15694097/SRR15694097.fastq.gz -o raw_data/N2_day1_rep3.fastq.gz"
   ]
  },
  {
   "cell_type": "markdown",
   "id": "54e2a96c-d465-4270-a718-a152a229657d",
   "metadata": {},
   "source": [
    "## Check the read quality \n"
   ]
  },
  {
   "cell_type": "code",
   "execution_count": null,
   "id": "bca56b26-6771-4cf7-bbdc-af32ffe1ab48",
   "metadata": {},
   "outputs": [],
   "source": [
    "%%bash\n",
    "ls"
   ]
  },
  {
   "cell_type": "code",
   "execution_count": null,
   "id": "968be304-18f3-4f66-8080-f203d47c9287",
   "metadata": {},
   "outputs": [],
   "source": []
  },
  {
   "cell_type": "code",
   "execution_count": null,
   "id": "5277846e-e561-44d6-83fc-94057e4c7bc2",
   "metadata": {},
   "outputs": [],
   "source": []
  },
  {
   "cell_type": "markdown",
   "id": "c89ec5fd-bbe9-4d78-8c78-0dab5a09ff8f",
   "metadata": {},
   "source": [
    "## Clean up data "
   ]
  },
  {
   "cell_type": "code",
   "execution_count": null,
   "id": "38c0ecdf-0e18-41b5-8a49-bb7719df137b",
   "metadata": {},
   "outputs": [],
   "source": [
    "%%bash\n",
    "# Clean up the folders\n",
    "cleanup=True\n",
    "if [ cleanup ]; then\n",
    "    rm -rf Caenorhabditis_elegans.WBcel235.dna.toplevel.fa* Caenorhabditis_elegans.WBcel235.111.gtf*\\\n",
    "    rm -rf STAR_ref \n",
    "    rm -rf raw_data/ \n",
    "fi"
   ]
  },
  {
   "cell_type": "code",
   "execution_count": null,
   "id": "21ef2a26-b1ad-4ac0-94a8-9d00d8fa4960",
   "metadata": {},
   "outputs": [],
   "source": [
    "%%bash\n"
   ]
  }
 ],
 "metadata": {
  "kernelspec": {
   "display_name": "Python 3 (ipykernel)",
   "language": "python",
   "name": "python3"
  },
  "language_info": {
   "codemirror_mode": {
    "name": "ipython",
    "version": 3
   },
   "file_extension": ".py",
   "mimetype": "text/x-python",
   "name": "python",
   "nbconvert_exporter": "python",
   "pygments_lexer": "ipython3",
   "version": "3.10.12"
  }
 },
 "nbformat": 4,
 "nbformat_minor": 5
}
