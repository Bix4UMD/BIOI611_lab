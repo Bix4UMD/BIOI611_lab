{
 "cells": [
  {
   "cell_type": "markdown",
   "id": "164ae4c1-5c1d-4053-bcfb-d1c35d64d245",
   "metadata": {},
   "source": [
    "# To be added"
   ]
  },
  {
   "cell_type": "code",
   "execution_count": null,
   "id": "0d3d59c1-1918-4de5-b3ae-b4021e7ad327",
   "metadata": {},
   "outputs": [],
   "source": []
  }
 ],
 "metadata": {
  "kernelspec": {
   "display_name": "Python 3 (ipykernel)",
   "language": "python",
   "name": "python3"
  },
  "language_info": {
   "codemirror_mode": {
    "name": "ipython",
    "version": 3
   },
   "file_extension": ".py",
   "mimetype": "text/x-python",
   "name": "python",
   "nbconvert_exporter": "python",
   "pygments_lexer": "ipython3",
   "version": "3.10.12"
  }
 },
 "nbformat": 4,
 "nbformat_minor": 5
}
