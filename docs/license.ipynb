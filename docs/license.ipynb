{
 "cells": [
  {
   "cell_type": "markdown",
   "id": "c7b6edc7-0881-455b-b89f-414a266c49ff",
   "metadata": {},
   "source": [
    "# To be added"
   ]
  },
  {
   "cell_type": "code",
   "execution_count": null,
   "id": "c14f98cf-be43-430d-9b5a-3450d2f5beca",
   "metadata": {},
   "outputs": [],
   "source": []
  }
 ],
 "metadata": {
  "kernelspec": {
   "display_name": "Python 3 (ipykernel)",
   "language": "python",
   "name": "python3"
  },
  "language_info": {
   "codemirror_mode": {
    "name": "ipython",
    "version": 3
   },
   "file_extension": ".py",
   "mimetype": "text/x-python",
   "name": "python",
   "nbconvert_exporter": "python",
   "pygments_lexer": "ipython3",
   "version": "3.10.12"
  }
 },
 "nbformat": 4,
 "nbformat_minor": 5
}
