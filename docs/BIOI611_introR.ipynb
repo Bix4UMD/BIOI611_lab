{
  "nbformat": 4,
  "nbformat_minor": 0,
  "metadata": {
    "colab": {
      "provenance": [],
      "authorship_tag": "ABX9TyMYWjbjxs+7t7Kg2e/AIBYQ",
      "include_colab_link": true
    },
    "kernelspec": {
      "name": "ir",
      "display_name": "R"
    },
    "language_info": {
      "name": "R"
    }
  },
  "cells": [
    {
      "cell_type": "markdown",
      "metadata": {
        "id": "view-in-github",
        "colab_type": "text"
      },
      "source": [
        "<a href=\"https://colab.research.google.com/github/Bix4UMD/BIOI611_lab/blob/main/docs/BIOI611_introR.ipynb\" target=\"_parent\"><img src=\"https://colab.research.google.com/assets/colab-badge.svg\" alt=\"Open In Colab\"/></a>"
      ]
    },
    {
      "cell_type": "markdown",
      "source": [
        "## Introduction to R\n",
        "\n",
        "### What is R\n",
        "\n",
        "R is a language and environment for statistical computing and graphics.\n",
        "\n",
        "* Runs on a variaty of operation systerms: Windows, Linux and MacOS\n",
        "\n",
        "* Generates publication-ready plots\n",
        "\n",
        "* Owns a large open-source community\n",
        "\n",
        "* Extends functions as packages\n"
      ],
      "metadata": {
        "id": "Y6NYrfkIKEwq"
      }
    },
    {
      "cell_type": "markdown",
      "source": [
        "### Essetnial concepts for programming languages\n",
        "\n",
        "#### Variables\n",
        "\n",
        "Variable names can have letters, dots and undercores (e.g. `gene_name`, \"csvfile.1\" and `chr1`).\n",
        "\n",
        "#### Functions\n",
        "\n",
        "A function is a structured, reusable segment of code designed to carry out a specific set of operations. It can accept zero or more inputs (parameters) and can produce an output (result).\n",
        "\n",
        "`INPUT --function--> OUTPUT`\n",
        "\n",
        "The way to define a function is:\n",
        "\n",
        "```\n",
        "read_star_file <- function(file_path){\n",
        "    ...code goes here...\n",
        "    return(df)\n",
        "}\n",
        "```\n",
        "\n",
        "The way to use a function in R is:\n",
        "```\n",
        "read_star_file(paths)\n",
        "```\n",
        "\n",
        "\n",
        "\n",
        "\n",
        "\n"
      ],
      "metadata": {
        "id": "CU4ZmdSlVMzI"
      }
    },
    {
      "cell_type": "markdown",
      "source": [
        "### Basic data types"
      ],
      "metadata": {
        "id": "BpjnxMkyRMXw"
      }
    },
    {
      "cell_type": "code",
      "execution_count": 1,
      "metadata": {
        "id": "DNcPKoCyKAWv",
        "colab": {
          "base_uri": "https://localhost:8080/",
          "height": 52
        },
        "outputId": "b12c8678-a343-4a60-f285-44c4e155a117"
      },
      "outputs": [
        {
          "output_type": "display_data",
          "data": {
            "text/html": [
              "150"
            ],
            "text/markdown": "150",
            "text/latex": "150",
            "text/plain": [
              "[1] 150"
            ]
          },
          "metadata": {}
        },
        {
          "output_type": "display_data",
          "data": {
            "text/html": [
              "200"
            ],
            "text/markdown": "200",
            "text/latex": "200",
            "text/plain": [
              "[1] 200"
            ]
          },
          "metadata": {}
        }
      ],
      "source": [
        "# assign a number to variable gene_count\n",
        "gene1 <- 150\n",
        "gene2 <- 200\n",
        "gene1\n",
        "gene2"
      ]
    },
    {
      "cell_type": "code",
      "source": [
        "# Examples of character value\n",
        "gene_name1 <- \"KRAS\"\n",
        "gene_name1"
      ],
      "metadata": {
        "colab": {
          "base_uri": "https://localhost:8080/",
          "height": 34
        },
        "id": "QkrpC3txRjP-",
        "outputId": "0780a542-0aff-4e33-eed9-70d30c554031"
      },
      "execution_count": 2,
      "outputs": [
        {
          "output_type": "display_data",
          "data": {
            "text/html": [
              "'KRAS'"
            ],
            "text/markdown": "'KRAS'",
            "text/latex": "'KRAS'",
            "text/plain": [
              "[1] \"KRAS\""
            ]
          },
          "metadata": {}
        }
      ]
    },
    {
      "cell_type": "code",
      "source": [
        "# Examples of character value\n",
        "\"RAS\" -> gene_name2\n",
        "gene_name2"
      ],
      "metadata": {
        "colab": {
          "base_uri": "https://localhost:8080/",
          "height": 34
        },
        "id": "7V1Mcq5xSLcD",
        "outputId": "21bfe79a-3b6e-4a5d-9b53-a8611d7f864e"
      },
      "execution_count": null,
      "outputs": [
        {
          "output_type": "display_data",
          "data": {
            "text/html": [
              "'RAS'"
            ],
            "text/markdown": "'RAS'",
            "text/latex": "'RAS'",
            "text/plain": [
              "[1] \"RAS\""
            ]
          },
          "metadata": {}
        }
      ]
    },
    {
      "cell_type": "code",
      "source": [
        "# Examples of character value\n",
        "gene_name3 <- \"KRAS\"\n",
        "gene_name3"
      ],
      "metadata": {
        "colab": {
          "base_uri": "https://localhost:8080/",
          "height": 34
        },
        "id": "BHa5AP9oSb3s",
        "outputId": "ac0ac157-1a97-4a4f-f43e-4c14c25296e4"
      },
      "execution_count": null,
      "outputs": [
        {
          "output_type": "display_data",
          "data": {
            "text/html": [
              "'KRAS'"
            ],
            "text/markdown": "'KRAS'",
            "text/latex": "'KRAS'",
            "text/plain": [
              "[1] \"KRAS\""
            ]
          },
          "metadata": {}
        }
      ]
    },
    {
      "cell_type": "code",
      "source": [
        "# Logical value\n",
        "gene1 > gene2\n",
        "gene1 < gene2\n",
        "bool_val = gene1 < gene2\n",
        "bool_val"
      ],
      "metadata": {
        "colab": {
          "base_uri": "https://localhost:8080/",
          "height": 69
        },
        "id": "Z9U1nnQ0Ruqe",
        "outputId": "87942adc-52fa-43f1-8466-242e1326c4e4"
      },
      "execution_count": 4,
      "outputs": [
        {
          "output_type": "display_data",
          "data": {
            "text/html": [
              "FALSE"
            ],
            "text/markdown": "FALSE",
            "text/latex": "FALSE",
            "text/plain": [
              "[1] FALSE"
            ]
          },
          "metadata": {}
        },
        {
          "output_type": "display_data",
          "data": {
            "text/html": [
              "TRUE"
            ],
            "text/markdown": "TRUE",
            "text/latex": "TRUE",
            "text/plain": [
              "[1] TRUE"
            ]
          },
          "metadata": {}
        },
        {
          "output_type": "display_data",
          "data": {
            "text/html": [
              "TRUE"
            ],
            "text/markdown": "TRUE",
            "text/latex": "TRUE",
            "text/plain": [
              "[1] TRUE"
            ]
          },
          "metadata": {}
        }
      ]
    },
    {
      "cell_type": "code",
      "source": [
        "class(gene1)\n",
        "class(gene_name)\n",
        "class()"
      ],
      "metadata": {
        "colab": {
          "base_uri": "https://localhost:8080/",
          "height": 52
        },
        "id": "sPzAaOl-R9CF",
        "outputId": "330ee508-c8f8-4080-f6b3-a4b9bb7921be"
      },
      "execution_count": null,
      "outputs": [
        {
          "output_type": "display_data",
          "data": {
            "text/html": [
              "'numeric'"
            ],
            "text/markdown": "'numeric'",
            "text/latex": "'numeric'",
            "text/plain": [
              "[1] \"numeric\""
            ]
          },
          "metadata": {}
        },
        {
          "output_type": "display_data",
          "data": {
            "text/html": [
              "'character'"
            ],
            "text/markdown": "'character'",
            "text/latex": "'character'",
            "text/plain": [
              "[1] \"character\""
            ]
          },
          "metadata": {}
        }
      ]
    },
    {
      "cell_type": "markdown",
      "source": [
        "### Basic data structure\n"
      ],
      "metadata": {
        "id": "IZKRK-CFSyzI"
      }
    },
    {
      "cell_type": "markdown",
      "source": [
        "An atomic vector is a collection of multiple values (numeric, character, or logical) stored in a single object. You can create an atomic vector using the c() function."
      ],
      "metadata": {
        "id": "lGiraEgiTNJK"
      }
    },
    {
      "cell_type": "code",
      "source": [
        "sample_names <- c(\"N2_day1_rep1\",\t\"N2_day1_rep2\", \"N2_day1_rep3\",\n",
        "                  \"N2_day7_rep1\", \"N2_day7_rep2\", \"N2_day7_rep3\")\n",
        "sample_names"
      ],
      "metadata": {
        "colab": {
          "base_uri": "https://localhost:8080/",
          "height": 34
        },
        "id": "nfJ0pRXOShYC",
        "outputId": "95e0a242-8787-428e-bea4-7a366d1093e0"
      },
      "execution_count": 5,
      "outputs": [
        {
          "output_type": "display_data",
          "data": {
            "text/html": [
              "<style>\n",
              ".list-inline {list-style: none; margin:0; padding: 0}\n",
              ".list-inline>li {display: inline-block}\n",
              ".list-inline>li:not(:last-child)::after {content: \"\\00b7\"; padding: 0 .5ex}\n",
              "</style>\n",
              "<ol class=list-inline><li>'N2_day1_rep1'</li><li>'N2_day1_rep2'</li><li>'N2_day1_rep3'</li><li>'N2_day7_rep1'</li><li>'N2_day7_rep2'</li><li>'N2_day7_rep3'</li></ol>\n"
            ],
            "text/markdown": "1. 'N2_day1_rep1'\n2. 'N2_day1_rep2'\n3. 'N2_day1_rep3'\n4. 'N2_day7_rep1'\n5. 'N2_day7_rep2'\n6. 'N2_day7_rep3'\n\n\n",
            "text/latex": "\\begin{enumerate*}\n\\item 'N2\\_day1\\_rep1'\n\\item 'N2\\_day1\\_rep2'\n\\item 'N2\\_day1\\_rep3'\n\\item 'N2\\_day7\\_rep1'\n\\item 'N2\\_day7\\_rep2'\n\\item 'N2\\_day7\\_rep3'\n\\end{enumerate*}\n",
            "text/plain": [
              "[1] \"N2_day1_rep1\" \"N2_day1_rep2\" \"N2_day1_rep3\" \"N2_day7_rep1\" \"N2_day7_rep2\"\n",
              "[6] \"N2_day7_rep3\""
            ]
          },
          "metadata": {}
        }
      ]
    },
    {
      "cell_type": "code",
      "source": [
        "group <- gsub(\"_rep\\\\d\", \"\", sample_names)\n",
        "group"
      ],
      "metadata": {
        "colab": {
          "base_uri": "https://localhost:8080/",
          "height": 34
        },
        "id": "KOcbjY7IWBTg",
        "outputId": "dd21cc7a-5458-4d4f-dcc5-78f7aa8d71cd"
      },
      "execution_count": 7,
      "outputs": [
        {
          "output_type": "display_data",
          "data": {
            "text/html": [
              "<style>\n",
              ".list-inline {list-style: none; margin:0; padding: 0}\n",
              ".list-inline>li {display: inline-block}\n",
              ".list-inline>li:not(:last-child)::after {content: \"\\00b7\"; padding: 0 .5ex}\n",
              "</style>\n",
              "<ol class=list-inline><li>'N2_day1'</li><li>'N2_day1'</li><li>'N2_day1'</li><li>'N2_day7'</li><li>'N2_day7'</li><li>'N2_day7'</li></ol>\n"
            ],
            "text/markdown": "1. 'N2_day1'\n2. 'N2_day1'\n3. 'N2_day1'\n4. 'N2_day7'\n5. 'N2_day7'\n6. 'N2_day7'\n\n\n",
            "text/latex": "\\begin{enumerate*}\n\\item 'N2\\_day1'\n\\item 'N2\\_day1'\n\\item 'N2\\_day1'\n\\item 'N2\\_day7'\n\\item 'N2\\_day7'\n\\item 'N2\\_day7'\n\\end{enumerate*}\n",
            "text/plain": [
              "[1] \"N2_day1\" \"N2_day1\" \"N2_day1\" \"N2_day7\" \"N2_day7\" \"N2_day7\""
            ]
          },
          "metadata": {}
        }
      ]
    },
    {
      "cell_type": "code",
      "source": [
        "rep <- gsub(\"N2_day\\\\d_rep\", \"\", sample_names)\n",
        "rep"
      ],
      "metadata": {
        "id": "SsMxGS5MQlO3",
        "outputId": "d2db0307-efdf-4365-ae6e-0cf7ad8360fc",
        "colab": {
          "base_uri": "https://localhost:8080/",
          "height": 34
        }
      },
      "execution_count": 8,
      "outputs": [
        {
          "output_type": "display_data",
          "data": {
            "text/html": [
              "<style>\n",
              ".list-inline {list-style: none; margin:0; padding: 0}\n",
              ".list-inline>li {display: inline-block}\n",
              ".list-inline>li:not(:last-child)::after {content: \"\\00b7\"; padding: 0 .5ex}\n",
              "</style>\n",
              "<ol class=list-inline><li>'1'</li><li>'2'</li><li>'3'</li><li>'1'</li><li>'2'</li><li>'3'</li></ol>\n"
            ],
            "text/markdown": "1. '1'\n2. '2'\n3. '3'\n4. '1'\n5. '2'\n6. '3'\n\n\n",
            "text/latex": "\\begin{enumerate*}\n\\item '1'\n\\item '2'\n\\item '3'\n\\item '1'\n\\item '2'\n\\item '3'\n\\end{enumerate*}\n",
            "text/plain": [
              "[1] \"1\" \"2\" \"3\" \"1\" \"2\" \"3\""
            ]
          },
          "metadata": {}
        }
      ]
    },
    {
      "cell_type": "code",
      "source": [
        "coldata_df <- cbind(group = gsub(\"_rep\\\\d\", \"\", sample_names))\n",
        "coldata_df"
      ],
      "metadata": {
        "colab": {
          "base_uri": "https://localhost:8080/",
          "height": 289
        },
        "id": "kcVitoq7V7tM",
        "outputId": "831891bc-282b-49f5-b719-e89fcbd89a51"
      },
      "execution_count": null,
      "outputs": [
        {
          "output_type": "display_data",
          "data": {
            "text/html": [
              "<table class=\"dataframe\">\n",
              "<caption>A matrix: 6 × 1 of type chr</caption>\n",
              "<thead>\n",
              "\t<tr><th scope=col>group</th></tr>\n",
              "</thead>\n",
              "<tbody>\n",
              "\t<tr><td>N2_day1</td></tr>\n",
              "\t<tr><td>N2_day1</td></tr>\n",
              "\t<tr><td>N2_day1</td></tr>\n",
              "\t<tr><td>N2_day7</td></tr>\n",
              "\t<tr><td>N2_day7</td></tr>\n",
              "\t<tr><td>N2_day7</td></tr>\n",
              "</tbody>\n",
              "</table>\n"
            ],
            "text/markdown": "\nA matrix: 6 × 1 of type chr\n\n| group |\n|---|\n| N2_day1 |\n| N2_day1 |\n| N2_day1 |\n| N2_day7 |\n| N2_day7 |\n| N2_day7 |\n\n",
            "text/latex": "A matrix: 6 × 1 of type chr\n\\begin{tabular}{l}\n group\\\\\n\\hline\n\t N2\\_day1\\\\\n\t N2\\_day1\\\\\n\t N2\\_day1\\\\\n\t N2\\_day7\\\\\n\t N2\\_day7\\\\\n\t N2\\_day7\\\\\n\\end{tabular}\n",
            "text/plain": [
              "     group  \n",
              "[1,] N2_day1\n",
              "[2,] N2_day1\n",
              "[3,] N2_day1\n",
              "[4,] N2_day7\n",
              "[5,] N2_day7\n",
              "[6,] N2_day7"
            ]
          },
          "metadata": {}
        }
      ]
    },
    {
      "cell_type": "code",
      "source": [
        "coldata_df <- cbind(group = gsub(\"_rep\\\\d\", \"\", sample_names), rep = gsub(\"N2_day\\\\d_rep\", \"\", sample_names))\n",
        "coldata_df"
      ],
      "metadata": {
        "id": "j55lPDgJRcw8",
        "outputId": "cff9ae96-fefd-45aa-d7f7-f8d716917f32",
        "colab": {
          "base_uri": "https://localhost:8080/",
          "height": 272
        }
      },
      "execution_count": 9,
      "outputs": [
        {
          "output_type": "display_data",
          "data": {
            "text/html": [
              "<table class=\"dataframe\">\n",
              "<caption>A matrix: 6 × 2 of type chr</caption>\n",
              "<thead>\n",
              "\t<tr><th scope=col>group</th><th scope=col>rep</th></tr>\n",
              "</thead>\n",
              "<tbody>\n",
              "\t<tr><td>N2_day1</td><td>1</td></tr>\n",
              "\t<tr><td>N2_day1</td><td>2</td></tr>\n",
              "\t<tr><td>N2_day1</td><td>3</td></tr>\n",
              "\t<tr><td>N2_day7</td><td>1</td></tr>\n",
              "\t<tr><td>N2_day7</td><td>2</td></tr>\n",
              "\t<tr><td>N2_day7</td><td>3</td></tr>\n",
              "</tbody>\n",
              "</table>\n"
            ],
            "text/markdown": "\nA matrix: 6 × 2 of type chr\n\n| group | rep |\n|---|---|\n| N2_day1 | 1 |\n| N2_day1 | 2 |\n| N2_day1 | 3 |\n| N2_day7 | 1 |\n| N2_day7 | 2 |\n| N2_day7 | 3 |\n\n",
            "text/latex": "A matrix: 6 × 2 of type chr\n\\begin{tabular}{ll}\n group & rep\\\\\n\\hline\n\t N2\\_day1 & 1\\\\\n\t N2\\_day1 & 2\\\\\n\t N2\\_day1 & 3\\\\\n\t N2\\_day7 & 1\\\\\n\t N2\\_day7 & 2\\\\\n\t N2\\_day7 & 3\\\\\n\\end{tabular}\n",
            "text/plain": [
              "     group   rep\n",
              "[1,] N2_day1 1  \n",
              "[2,] N2_day1 2  \n",
              "[3,] N2_day1 3  \n",
              "[4,] N2_day7 1  \n",
              "[5,] N2_day7 2  \n",
              "[6,] N2_day7 3  "
            ]
          },
          "metadata": {}
        }
      ]
    },
    {
      "cell_type": "code",
      "source": [
        "rownames(coldata_df)"
      ],
      "metadata": {
        "id": "TdPVkfAoR5vA",
        "outputId": "ac724aae-7612-43e7-e5b7-0c0da270708c",
        "colab": {
          "base_uri": "https://localhost:8080/",
          "height": 35
        }
      },
      "execution_count": 10,
      "outputs": [
        {
          "output_type": "display_data",
          "data": {
            "text/plain": [
              "NULL"
            ]
          },
          "metadata": {}
        }
      ]
    },
    {
      "cell_type": "code",
      "source": [
        "rownames(coldata_df) = sample_names\n",
        "coldata_df"
      ],
      "metadata": {
        "colab": {
          "base_uri": "https://localhost:8080/",
          "height": 255
        },
        "id": "Rl1Uvu01WdS7",
        "outputId": "74faa422-91da-490c-d00e-72a21a0ce31c"
      },
      "execution_count": 11,
      "outputs": [
        {
          "output_type": "display_data",
          "data": {
            "text/html": [
              "<table class=\"dataframe\">\n",
              "<caption>A matrix: 6 × 2 of type chr</caption>\n",
              "<thead>\n",
              "\t<tr><th></th><th scope=col>group</th><th scope=col>rep</th></tr>\n",
              "</thead>\n",
              "<tbody>\n",
              "\t<tr><th scope=row>N2_day1_rep1</th><td>N2_day1</td><td>1</td></tr>\n",
              "\t<tr><th scope=row>N2_day1_rep2</th><td>N2_day1</td><td>2</td></tr>\n",
              "\t<tr><th scope=row>N2_day1_rep3</th><td>N2_day1</td><td>3</td></tr>\n",
              "\t<tr><th scope=row>N2_day7_rep1</th><td>N2_day7</td><td>1</td></tr>\n",
              "\t<tr><th scope=row>N2_day7_rep2</th><td>N2_day7</td><td>2</td></tr>\n",
              "\t<tr><th scope=row>N2_day7_rep3</th><td>N2_day7</td><td>3</td></tr>\n",
              "</tbody>\n",
              "</table>\n"
            ],
            "text/markdown": "\nA matrix: 6 × 2 of type chr\n\n| <!--/--> | group | rep |\n|---|---|---|\n| N2_day1_rep1 | N2_day1 | 1 |\n| N2_day1_rep2 | N2_day1 | 2 |\n| N2_day1_rep3 | N2_day1 | 3 |\n| N2_day7_rep1 | N2_day7 | 1 |\n| N2_day7_rep2 | N2_day7 | 2 |\n| N2_day7_rep3 | N2_day7 | 3 |\n\n",
            "text/latex": "A matrix: 6 × 2 of type chr\n\\begin{tabular}{r|ll}\n  & group & rep\\\\\n\\hline\n\tN2\\_day1\\_rep1 & N2\\_day1 & 1\\\\\n\tN2\\_day1\\_rep2 & N2\\_day1 & 2\\\\\n\tN2\\_day1\\_rep3 & N2\\_day1 & 3\\\\\n\tN2\\_day7\\_rep1 & N2\\_day7 & 1\\\\\n\tN2\\_day7\\_rep2 & N2\\_day7 & 2\\\\\n\tN2\\_day7\\_rep3 & N2\\_day7 & 3\\\\\n\\end{tabular}\n",
            "text/plain": [
              "             group   rep\n",
              "N2_day1_rep1 N2_day1 1  \n",
              "N2_day1_rep2 N2_day1 2  \n",
              "N2_day1_rep3 N2_day1 3  \n",
              "N2_day7_rep1 N2_day7 1  \n",
              "N2_day7_rep2 N2_day7 2  \n",
              "N2_day7_rep3 N2_day7 3  "
            ]
          },
          "metadata": {}
        }
      ]
    },
    {
      "cell_type": "code",
      "source": [
        "t(coldata_df)"
      ],
      "metadata": {
        "colab": {
          "base_uri": "https://localhost:8080/",
          "height": 129
        },
        "id": "USkWV9HLWuF8",
        "outputId": "6a8176a3-faef-4bfb-bb26-806194372d5d"
      },
      "execution_count": 12,
      "outputs": [
        {
          "output_type": "display_data",
          "data": {
            "text/html": [
              "<table class=\"dataframe\">\n",
              "<caption>A matrix: 2 × 6 of type chr</caption>\n",
              "<thead>\n",
              "\t<tr><th></th><th scope=col>N2_day1_rep1</th><th scope=col>N2_day1_rep2</th><th scope=col>N2_day1_rep3</th><th scope=col>N2_day7_rep1</th><th scope=col>N2_day7_rep2</th><th scope=col>N2_day7_rep3</th></tr>\n",
              "</thead>\n",
              "<tbody>\n",
              "\t<tr><th scope=row>group</th><td>N2_day1</td><td>N2_day1</td><td>N2_day1</td><td>N2_day7</td><td>N2_day7</td><td>N2_day7</td></tr>\n",
              "\t<tr><th scope=row>rep</th><td>1      </td><td>2      </td><td>3      </td><td>1      </td><td>2      </td><td>3      </td></tr>\n",
              "</tbody>\n",
              "</table>\n"
            ],
            "text/markdown": "\nA matrix: 2 × 6 of type chr\n\n| <!--/--> | N2_day1_rep1 | N2_day1_rep2 | N2_day1_rep3 | N2_day7_rep1 | N2_day7_rep2 | N2_day7_rep3 |\n|---|---|---|---|---|---|---|\n| group | N2_day1 | N2_day1 | N2_day1 | N2_day7 | N2_day7 | N2_day7 |\n| rep | 1       | 2       | 3       | 1       | 2       | 3       |\n\n",
            "text/latex": "A matrix: 2 × 6 of type chr\n\\begin{tabular}{r|llllll}\n  & N2\\_day1\\_rep1 & N2\\_day1\\_rep2 & N2\\_day1\\_rep3 & N2\\_day7\\_rep1 & N2\\_day7\\_rep2 & N2\\_day7\\_rep3\\\\\n\\hline\n\tgroup & N2\\_day1 & N2\\_day1 & N2\\_day1 & N2\\_day7 & N2\\_day7 & N2\\_day7\\\\\n\trep & 1       & 2       & 3       & 1       & 2       & 3      \\\\\n\\end{tabular}\n",
            "text/plain": [
              "      N2_day1_rep1 N2_day1_rep2 N2_day1_rep3 N2_day7_rep1 N2_day7_rep2\n",
              "group N2_day1      N2_day1      N2_day1      N2_day7      N2_day7     \n",
              "rep   1            2            3            1            2           \n",
              "      N2_day7_rep3\n",
              "group N2_day7     \n",
              "rep   3           "
            ]
          },
          "metadata": {}
        }
      ]
    },
    {
      "cell_type": "code",
      "source": [
        "is.matrix(coldata_df)\n",
        "coldata_df <- as.data.frame(coldata_df)\n",
        "is.data.frame(coldata_df)"
      ],
      "metadata": {
        "colab": {
          "base_uri": "https://localhost:8080/",
          "height": 52
        },
        "id": "ceTXLEJ9XB5h",
        "outputId": "8896ba39-48c6-41b7-c8cf-077532300f68"
      },
      "execution_count": null,
      "outputs": [
        {
          "output_type": "display_data",
          "data": {
            "text/html": [
              "TRUE"
            ],
            "text/markdown": "TRUE",
            "text/latex": "TRUE",
            "text/plain": [
              "[1] TRUE"
            ]
          },
          "metadata": {}
        },
        {
          "output_type": "display_data",
          "data": {
            "text/html": [
              "TRUE"
            ],
            "text/markdown": "TRUE",
            "text/latex": "TRUE",
            "text/plain": [
              "[1] TRUE"
            ]
          },
          "metadata": {}
        }
      ]
    },
    {
      "cell_type": "markdown",
      "source": [
        " A matrix can contain either character or numeric columns and a dataframe can contain both numeric and character columns."
      ],
      "metadata": {
        "id": "gtti37lZXZad"
      }
    },
    {
      "cell_type": "markdown",
      "source": [
        "A list is an ordered collection of objects, which can be any type of R objects (vectors, matrices, data frames, even lists).\n"
      ],
      "metadata": {
        "id": "OBo5p2u-IPxe"
      }
    },
    {
      "cell_type": "code",
      "source": [
        "count_files = list(\"sample\" = 'N2_day1_rep1.ReadsPerGene.out.tab', \"sample2\"='N2_day1_rep2.ReadsPerGene.out.tab')\n",
        "count_files"
      ],
      "metadata": {
        "colab": {
          "base_uri": "https://localhost:8080/",
          "height": 114
        },
        "id": "M5AAKMfFXYfc",
        "outputId": "64346879-f70e-4cca-f7c0-1d15a6643727"
      },
      "execution_count": null,
      "outputs": [
        {
          "output_type": "display_data",
          "data": {
            "text/html": [
              "<dl>\n",
              "\t<dt>$sample</dt>\n",
              "\t\t<dd>'N2_day1_rep1.ReadsPerGene.out.tab'</dd>\n",
              "\t<dt>$sample2</dt>\n",
              "\t\t<dd>'N2_day1_rep2.ReadsPerGene.out.tab'</dd>\n",
              "</dl>\n"
            ],
            "text/markdown": "$sample\n:   'N2_day1_rep1.ReadsPerGene.out.tab'\n$sample2\n:   'N2_day1_rep2.ReadsPerGene.out.tab'\n\n\n",
            "text/latex": "\\begin{description}\n\\item[\\$sample] 'N2\\_day1\\_rep1.ReadsPerGene.out.tab'\n\\item[\\$sample2] 'N2\\_day1\\_rep2.ReadsPerGene.out.tab'\n\\end{description}\n",
            "text/plain": [
              "$sample\n",
              "[1] \"N2_day1_rep1.ReadsPerGene.out.tab\"\n",
              "\n",
              "$sample2\n",
              "[1] \"N2_day1_rep2.ReadsPerGene.out.tab\"\n"
            ]
          },
          "metadata": {}
        }
      ]
    },
    {
      "cell_type": "code",
      "source": [
        "gene_count = list(\"gene1\" = 10, \"gene2\"=20)"
      ],
      "metadata": {
        "id": "lmCpTK9LLyEn"
      },
      "execution_count": null,
      "outputs": []
    },
    {
      "cell_type": "code",
      "source": [
        "lapply(gene_count, function(x){log2(x+1)})"
      ],
      "metadata": {
        "colab": {
          "base_uri": "https://localhost:8080/",
          "height": 114
        },
        "id": "R_BiON4gLRW6",
        "outputId": "dbf22243-0244-4a7d-ed4f-d0762f003b7f"
      },
      "execution_count": null,
      "outputs": [
        {
          "output_type": "display_data",
          "data": {
            "text/html": [
              "<dl>\n",
              "\t<dt>$gene1</dt>\n",
              "\t\t<dd>3.4594316186373</dd>\n",
              "\t<dt>$gene2</dt>\n",
              "\t\t<dd>4.39231742277876</dd>\n",
              "</dl>\n"
            ],
            "text/markdown": "$gene1\n:   3.4594316186373\n$gene2\n:   4.39231742277876\n\n\n",
            "text/latex": "\\begin{description}\n\\item[\\$gene1] 3.4594316186373\n\\item[\\$gene2] 4.39231742277876\n\\end{description}\n",
            "text/plain": [
              "$gene1\n",
              "[1] 3.459432\n",
              "\n",
              "$gene2\n",
              "[1] 4.392317\n"
            ]
          },
          "metadata": {}
        }
      ]
    },
    {
      "cell_type": "code",
      "source": [
        "log2_transform <- function(x){\n",
        "    log2(x+1)\n",
        "}\n",
        "lapply(gene_count, log2_transform)"
      ],
      "metadata": {
        "colab": {
          "base_uri": "https://localhost:8080/",
          "height": 114
        },
        "id": "j5co2f0CMjOD",
        "outputId": "24731d9a-76e9-466d-c034-60578617c62a"
      },
      "execution_count": null,
      "outputs": [
        {
          "output_type": "display_data",
          "data": {
            "text/html": [
              "<dl>\n",
              "\t<dt>$gene1</dt>\n",
              "\t\t<dd>3.4594316186373</dd>\n",
              "\t<dt>$gene2</dt>\n",
              "\t\t<dd>4.39231742277876</dd>\n",
              "</dl>\n"
            ],
            "text/markdown": "$gene1\n:   3.4594316186373\n$gene2\n:   4.39231742277876\n\n\n",
            "text/latex": "\\begin{description}\n\\item[\\$gene1] 3.4594316186373\n\\item[\\$gene2] 4.39231742277876\n\\end{description}\n",
            "text/plain": [
              "$gene1\n",
              "[1] 3.459432\n",
              "\n",
              "$gene2\n",
              "[1] 4.392317\n"
            ]
          },
          "metadata": {}
        }
      ]
    },
    {
      "cell_type": "code",
      "source": [],
      "metadata": {
        "id": "A41U2tmcMfvE"
      },
      "execution_count": null,
      "outputs": []
    },
    {
      "cell_type": "markdown",
      "source": [],
      "metadata": {
        "id": "5UEaeWrENu4f"
      }
    },
    {
      "cell_type": "markdown",
      "source": [
        "### Dealing with text files"
      ],
      "metadata": {
        "id": "KG-HgarPNu89"
      }
    },
    {
      "cell_type": "code",
      "source": [
        "getwd()\n",
        "#setwd()"
      ],
      "metadata": {
        "colab": {
          "base_uri": "https://localhost:8080/",
          "height": 34
        },
        "id": "R4BeHSVON3vJ",
        "outputId": "fb6926a5-7f26-4b0d-8023-d24c6547885b"
      },
      "execution_count": null,
      "outputs": [
        {
          "output_type": "display_data",
          "data": {
            "text/html": [
              "'/content'"
            ],
            "text/markdown": "'/content'",
            "text/latex": "'/content'",
            "text/plain": [
              "[1] \"/content\""
            ]
          },
          "metadata": {}
        }
      ]
    },
    {
      "cell_type": "code",
      "source": [
        "list.files()"
      ],
      "metadata": {
        "colab": {
          "base_uri": "https://localhost:8080/",
          "height": 34
        },
        "id": "QoWsdy_RN-R_",
        "outputId": "ac534909-9388-42ff-9759-8c069790cc8f"
      },
      "execution_count": null,
      "outputs": [
        {
          "output_type": "display_data",
          "data": {
            "text/html": [
              "<style>\n",
              ".list-inline {list-style: none; margin:0; padding: 0}\n",
              ".list-inline>li {display: inline-block}\n",
              ".list-inline>li:not(:last-child)::after {content: \"\\00b7\"; padding: 0 .5ex}\n",
              "</style>\n",
              "<ol class=list-inline><li>'N2_day1_rep1.ReadsPerGene.out.tab'</li><li>'N2_day1_rep2.ReadsPerGene.out.tab'</li><li>'N2_day1_rep3.ReadsPerGene.out.tab'</li><li>'N2_day7_rep1.ReadsPerGene.out.tab'</li><li>'N2_day7_rep2.ReadsPerGene.out.tab'</li><li>'N2_day7_rep3.ReadsPerGene.out.tab'</li><li>'sample_data'</li></ol>\n"
            ],
            "text/markdown": "1. 'N2_day1_rep1.ReadsPerGene.out.tab'\n2. 'N2_day1_rep2.ReadsPerGene.out.tab'\n3. 'N2_day1_rep3.ReadsPerGene.out.tab'\n4. 'N2_day7_rep1.ReadsPerGene.out.tab'\n5. 'N2_day7_rep2.ReadsPerGene.out.tab'\n6. 'N2_day7_rep3.ReadsPerGene.out.tab'\n7. 'sample_data'\n\n\n",
            "text/latex": "\\begin{enumerate*}\n\\item 'N2\\_day1\\_rep1.ReadsPerGene.out.tab'\n\\item 'N2\\_day1\\_rep2.ReadsPerGene.out.tab'\n\\item 'N2\\_day1\\_rep3.ReadsPerGene.out.tab'\n\\item 'N2\\_day7\\_rep1.ReadsPerGene.out.tab'\n\\item 'N2\\_day7\\_rep2.ReadsPerGene.out.tab'\n\\item 'N2\\_day7\\_rep3.ReadsPerGene.out.tab'\n\\item 'sample\\_data'\n\\end{enumerate*}\n",
            "text/plain": [
              "[1] \"N2_day1_rep1.ReadsPerGene.out.tab\" \"N2_day1_rep2.ReadsPerGene.out.tab\"\n",
              "[3] \"N2_day1_rep3.ReadsPerGene.out.tab\" \"N2_day7_rep1.ReadsPerGene.out.tab\"\n",
              "[5] \"N2_day7_rep2.ReadsPerGene.out.tab\" \"N2_day7_rep3.ReadsPerGene.out.tab\"\n",
              "[7] \"sample_data\"                      "
            ]
          },
          "metadata": {}
        }
      ]
    },
    {
      "cell_type": "code",
      "source": [
        "file_paths <- list.files(pattern = \"*..ReadsPerGene.out.tab\")\n",
        "file_paths"
      ],
      "metadata": {
        "colab": {
          "base_uri": "https://localhost:8080/",
          "height": 34
        },
        "id": "r6_nC9PUIlID",
        "outputId": "17965794-5aa5-4e0c-b623-5cf0e746b3f2"
      },
      "execution_count": null,
      "outputs": [
        {
          "output_type": "display_data",
          "data": {
            "text/html": [
              "<style>\n",
              ".list-inline {list-style: none; margin:0; padding: 0}\n",
              ".list-inline>li {display: inline-block}\n",
              ".list-inline>li:not(:last-child)::after {content: \"\\00b7\"; padding: 0 .5ex}\n",
              "</style>\n",
              "<ol class=list-inline><li>'N2_day1_rep1.ReadsPerGene.out.tab'</li><li>'N2_day1_rep2.ReadsPerGene.out.tab'</li><li>'N2_day1_rep3.ReadsPerGene.out.tab'</li><li>'N2_day7_rep1.ReadsPerGene.out.tab'</li><li>'N2_day7_rep2.ReadsPerGene.out.tab'</li><li>'N2_day7_rep3.ReadsPerGene.out.tab'</li></ol>\n"
            ],
            "text/markdown": "1. 'N2_day1_rep1.ReadsPerGene.out.tab'\n2. 'N2_day1_rep2.ReadsPerGene.out.tab'\n3. 'N2_day1_rep3.ReadsPerGene.out.tab'\n4. 'N2_day7_rep1.ReadsPerGene.out.tab'\n5. 'N2_day7_rep2.ReadsPerGene.out.tab'\n6. 'N2_day7_rep3.ReadsPerGene.out.tab'\n\n\n",
            "text/latex": "\\begin{enumerate*}\n\\item 'N2\\_day1\\_rep1.ReadsPerGene.out.tab'\n\\item 'N2\\_day1\\_rep2.ReadsPerGene.out.tab'\n\\item 'N2\\_day1\\_rep3.ReadsPerGene.out.tab'\n\\item 'N2\\_day7\\_rep1.ReadsPerGene.out.tab'\n\\item 'N2\\_day7\\_rep2.ReadsPerGene.out.tab'\n\\item 'N2\\_day7\\_rep3.ReadsPerGene.out.tab'\n\\end{enumerate*}\n",
            "text/plain": [
              "[1] \"N2_day1_rep1.ReadsPerGene.out.tab\" \"N2_day1_rep2.ReadsPerGene.out.tab\"\n",
              "[3] \"N2_day1_rep3.ReadsPerGene.out.tab\" \"N2_day7_rep1.ReadsPerGene.out.tab\"\n",
              "[5] \"N2_day7_rep2.ReadsPerGene.out.tab\" \"N2_day7_rep3.ReadsPerGene.out.tab\""
            ]
          },
          "metadata": {}
        }
      ]
    },
    {
      "cell_type": "code",
      "source": [
        "tab_N2_day1_rep1 <- read.table('N2_day1_rep1.ReadsPerGene.out.tab')\n",
        "head(tab_N2_day1_rep1, 5)"
      ],
      "metadata": {
        "colab": {
          "base_uri": "https://localhost:8080/",
          "height": 255
        },
        "id": "zt7EiXIOM05Q",
        "outputId": "fa769cd0-7df2-4f43-e8cd-180c3064af5c"
      },
      "execution_count": null,
      "outputs": [
        {
          "output_type": "display_data",
          "data": {
            "text/html": [
              "<table class=\"dataframe\">\n",
              "<caption>A data.frame: 5 × 4</caption>\n",
              "<thead>\n",
              "\t<tr><th></th><th scope=col>V1</th><th scope=col>V2</th><th scope=col>V3</th><th scope=col>V4</th></tr>\n",
              "\t<tr><th></th><th scope=col>&lt;chr&gt;</th><th scope=col>&lt;int&gt;</th><th scope=col>&lt;int&gt;</th><th scope=col>&lt;int&gt;</th></tr>\n",
              "</thead>\n",
              "<tbody>\n",
              "\t<tr><th scope=row>1</th><td>N_unmapped    </td><td>1332776</td><td> 1332776</td><td> 1332776</td></tr>\n",
              "\t<tr><th scope=row>2</th><td>N_multimapping</td><td>1540190</td><td> 1540190</td><td> 1540190</td></tr>\n",
              "\t<tr><th scope=row>3</th><td>N_noFeature   </td><td> 157102</td><td>19017455</td><td>18933214</td></tr>\n",
              "\t<tr><th scope=row>4</th><td>N_ambiguous   </td><td> 536422</td><td>  128854</td><td>  120342</td></tr>\n",
              "\t<tr><th scope=row>5</th><td>WBGene00000003</td><td>    341</td><td>     161</td><td>     180</td></tr>\n",
              "</tbody>\n",
              "</table>\n"
            ],
            "text/markdown": "\nA data.frame: 5 × 4\n\n| <!--/--> | V1 &lt;chr&gt; | V2 &lt;int&gt; | V3 &lt;int&gt; | V4 &lt;int&gt; |\n|---|---|---|---|---|\n| 1 | N_unmapped     | 1332776 |  1332776 |  1332776 |\n| 2 | N_multimapping | 1540190 |  1540190 |  1540190 |\n| 3 | N_noFeature    |  157102 | 19017455 | 18933214 |\n| 4 | N_ambiguous    |  536422 |   128854 |   120342 |\n| 5 | WBGene00000003 |     341 |      161 |      180 |\n\n",
            "text/latex": "A data.frame: 5 × 4\n\\begin{tabular}{r|llll}\n  & V1 & V2 & V3 & V4\\\\\n  & <chr> & <int> & <int> & <int>\\\\\n\\hline\n\t1 & N\\_unmapped     & 1332776 &  1332776 &  1332776\\\\\n\t2 & N\\_multimapping & 1540190 &  1540190 &  1540190\\\\\n\t3 & N\\_noFeature    &  157102 & 19017455 & 18933214\\\\\n\t4 & N\\_ambiguous    &  536422 &   128854 &   120342\\\\\n\t5 & WBGene00000003 &     341 &      161 &      180\\\\\n\\end{tabular}\n",
            "text/plain": [
              "  V1             V2      V3       V4      \n",
              "1 N_unmapped     1332776  1332776  1332776\n",
              "2 N_multimapping 1540190  1540190  1540190\n",
              "3 N_noFeature     157102 19017455 18933214\n",
              "4 N_ambiguous     536422   128854   120342\n",
              "5 WBGene00000003     341      161      180"
            ]
          },
          "metadata": {}
        }
      ]
    },
    {
      "cell_type": "code",
      "source": [
        "tab_N2_day1_rep2 <- read.table('N2_day1_rep2.ReadsPerGene.out.tab')\n",
        "head(tab_N2_day1_rep2,5)"
      ],
      "metadata": {
        "colab": {
          "base_uri": "https://localhost:8080/",
          "height": 255
        },
        "id": "AcbjU-1INNZ1",
        "outputId": "2208a76c-477e-4d32-bb39-5703e8f52cff"
      },
      "execution_count": null,
      "outputs": [
        {
          "output_type": "display_data",
          "data": {
            "text/html": [
              "<table class=\"dataframe\">\n",
              "<caption>A data.frame: 5 × 4</caption>\n",
              "<thead>\n",
              "\t<tr><th></th><th scope=col>V1</th><th scope=col>V2</th><th scope=col>V3</th><th scope=col>V4</th></tr>\n",
              "\t<tr><th></th><th scope=col>&lt;chr&gt;</th><th scope=col>&lt;int&gt;</th><th scope=col>&lt;int&gt;</th><th scope=col>&lt;int&gt;</th></tr>\n",
              "</thead>\n",
              "<tbody>\n",
              "\t<tr><th scope=row>1</th><td>N_unmapped    </td><td>1400596</td><td> 1400596</td><td> 1400596</td></tr>\n",
              "\t<tr><th scope=row>2</th><td>N_multimapping</td><td>1305129</td><td> 1305129</td><td> 1305129</td></tr>\n",
              "\t<tr><th scope=row>3</th><td>N_noFeature   </td><td> 152183</td><td>15009786</td><td>14975925</td></tr>\n",
              "\t<tr><th scope=row>4</th><td>N_ambiguous   </td><td> 439830</td><td>  104631</td><td>   98489</td></tr>\n",
              "\t<tr><th scope=row>5</th><td>WBGene00000003</td><td>    415</td><td>     198</td><td>     217</td></tr>\n",
              "</tbody>\n",
              "</table>\n"
            ],
            "text/markdown": "\nA data.frame: 5 × 4\n\n| <!--/--> | V1 &lt;chr&gt; | V2 &lt;int&gt; | V3 &lt;int&gt; | V4 &lt;int&gt; |\n|---|---|---|---|---|\n| 1 | N_unmapped     | 1400596 |  1400596 |  1400596 |\n| 2 | N_multimapping | 1305129 |  1305129 |  1305129 |\n| 3 | N_noFeature    |  152183 | 15009786 | 14975925 |\n| 4 | N_ambiguous    |  439830 |   104631 |    98489 |\n| 5 | WBGene00000003 |     415 |      198 |      217 |\n\n",
            "text/latex": "A data.frame: 5 × 4\n\\begin{tabular}{r|llll}\n  & V1 & V2 & V3 & V4\\\\\n  & <chr> & <int> & <int> & <int>\\\\\n\\hline\n\t1 & N\\_unmapped     & 1400596 &  1400596 &  1400596\\\\\n\t2 & N\\_multimapping & 1305129 &  1305129 &  1305129\\\\\n\t3 & N\\_noFeature    &  152183 & 15009786 & 14975925\\\\\n\t4 & N\\_ambiguous    &  439830 &   104631 &    98489\\\\\n\t5 & WBGene00000003 &     415 &      198 &      217\\\\\n\\end{tabular}\n",
            "text/plain": [
              "  V1             V2      V3       V4      \n",
              "1 N_unmapped     1400596  1400596  1400596\n",
              "2 N_multimapping 1305129  1305129  1305129\n",
              "3 N_noFeature     152183 15009786 14975925\n",
              "4 N_ambiguous     439830   104631    98489\n",
              "5 WBGene00000003     415      198      217"
            ]
          },
          "metadata": {}
        }
      ]
    },
    {
      "cell_type": "code",
      "source": [
        "tab_N2_day1_rep3 <- read.table('N2_day1_rep3.ReadsPerGene.out.tab')\n",
        "head(tab_N2_day1_rep3,5)"
      ],
      "metadata": {
        "colab": {
          "base_uri": "https://localhost:8080/",
          "height": 255
        },
        "id": "6uLMa_dQNihM",
        "outputId": "60dad270-b2ef-4844-fd07-8111927be5a1"
      },
      "execution_count": null,
      "outputs": [
        {
          "output_type": "display_data",
          "data": {
            "text/html": [
              "<table class=\"dataframe\">\n",
              "<caption>A data.frame: 5 × 4</caption>\n",
              "<thead>\n",
              "\t<tr><th></th><th scope=col>V1</th><th scope=col>V2</th><th scope=col>V3</th><th scope=col>V4</th></tr>\n",
              "\t<tr><th></th><th scope=col>&lt;chr&gt;</th><th scope=col>&lt;int&gt;</th><th scope=col>&lt;int&gt;</th><th scope=col>&lt;int&gt;</th></tr>\n",
              "</thead>\n",
              "<tbody>\n",
              "\t<tr><th scope=row>1</th><td>N_unmapped    </td><td>5887223</td><td> 5887223</td><td> 5887223</td></tr>\n",
              "\t<tr><th scope=row>2</th><td>N_multimapping</td><td>1557570</td><td> 1557570</td><td> 1557570</td></tr>\n",
              "\t<tr><th scope=row>3</th><td>N_noFeature   </td><td> 184441</td><td>17612359</td><td>17574940</td></tr>\n",
              "\t<tr><th scope=row>4</th><td>N_ambiguous   </td><td> 514559</td><td>  122385</td><td>  115498</td></tr>\n",
              "\t<tr><th scope=row>5</th><td>WBGene00000003</td><td>    411</td><td>     175</td><td>     236</td></tr>\n",
              "</tbody>\n",
              "</table>\n"
            ],
            "text/markdown": "\nA data.frame: 5 × 4\n\n| <!--/--> | V1 &lt;chr&gt; | V2 &lt;int&gt; | V3 &lt;int&gt; | V4 &lt;int&gt; |\n|---|---|---|---|---|\n| 1 | N_unmapped     | 5887223 |  5887223 |  5887223 |\n| 2 | N_multimapping | 1557570 |  1557570 |  1557570 |\n| 3 | N_noFeature    |  184441 | 17612359 | 17574940 |\n| 4 | N_ambiguous    |  514559 |   122385 |   115498 |\n| 5 | WBGene00000003 |     411 |      175 |      236 |\n\n",
            "text/latex": "A data.frame: 5 × 4\n\\begin{tabular}{r|llll}\n  & V1 & V2 & V3 & V4\\\\\n  & <chr> & <int> & <int> & <int>\\\\\n\\hline\n\t1 & N\\_unmapped     & 5887223 &  5887223 &  5887223\\\\\n\t2 & N\\_multimapping & 1557570 &  1557570 &  1557570\\\\\n\t3 & N\\_noFeature    &  184441 & 17612359 & 17574940\\\\\n\t4 & N\\_ambiguous    &  514559 &   122385 &   115498\\\\\n\t5 & WBGene00000003 &     411 &      175 &      236\\\\\n\\end{tabular}\n",
            "text/plain": [
              "  V1             V2      V3       V4      \n",
              "1 N_unmapped     5887223  5887223  5887223\n",
              "2 N_multimapping 1557570  1557570  1557570\n",
              "3 N_noFeature     184441 17612359 17574940\n",
              "4 N_ambiguous     514559   122385   115498\n",
              "5 WBGene00000003     411      175      236"
            ]
          },
          "metadata": {}
        }
      ]
    },
    {
      "cell_type": "code",
      "source": [
        "library(dplyr)"
      ],
      "metadata": {
        "colab": {
          "base_uri": "https://localhost:8080/"
        },
        "id": "IQbDepACOy2h",
        "outputId": "253b3fd8-2843-4f61-ff0e-99dbe5a5df51"
      },
      "execution_count": null,
      "outputs": [
        {
          "output_type": "stream",
          "name": "stderr",
          "text": [
            "\n",
            "Attaching package: ‘dplyr’\n",
            "\n",
            "\n",
            "The following objects are masked from ‘package:stats’:\n",
            "\n",
            "    filter, lag\n",
            "\n",
            "\n",
            "The following objects are masked from ‘package:base’:\n",
            "\n",
            "    intersect, setdiff, setequal, union\n",
            "\n",
            "\n"
          ]
        }
      ]
    },
    {
      "cell_type": "code",
      "source": [
        "tab_N2_day1_rep1 <- tab_N2_day1_rep1 %>% select(V1, V2)\n",
        "head(tab_N2_day1_rep1, 5)\n",
        "tab_N2_day1_rep2 <- tab_N2_day1_rep2[, c(\"V1\", \"V2\")]\n",
        "head(tab_N2_day1_rep2, 5)\n",
        "tab_N2_day1_rep3 <- tab_N2_day1_rep3[, c(\"V1\", \"V2\")]\n",
        "head(tab_N2_day1_rep3, 5)"
      ],
      "metadata": {
        "colab": {
          "base_uri": "https://localhost:8080/",
          "height": 730
        },
        "id": "pa5Ed41wNoJk",
        "outputId": "7cfdd9c6-aba0-4aae-e5ed-518a660970a6"
      },
      "execution_count": null,
      "outputs": [
        {
          "output_type": "display_data",
          "data": {
            "text/html": [
              "<table class=\"dataframe\">\n",
              "<caption>A data.frame: 5 × 2</caption>\n",
              "<thead>\n",
              "\t<tr><th></th><th scope=col>V1</th><th scope=col>V2</th></tr>\n",
              "\t<tr><th></th><th scope=col>&lt;chr&gt;</th><th scope=col>&lt;int&gt;</th></tr>\n",
              "</thead>\n",
              "<tbody>\n",
              "\t<tr><th scope=row>1</th><td>N_unmapped    </td><td>1332776</td></tr>\n",
              "\t<tr><th scope=row>2</th><td>N_multimapping</td><td>1540190</td></tr>\n",
              "\t<tr><th scope=row>3</th><td>N_noFeature   </td><td> 157102</td></tr>\n",
              "\t<tr><th scope=row>4</th><td>N_ambiguous   </td><td> 536422</td></tr>\n",
              "\t<tr><th scope=row>5</th><td>WBGene00000003</td><td>    341</td></tr>\n",
              "</tbody>\n",
              "</table>\n"
            ],
            "text/markdown": "\nA data.frame: 5 × 2\n\n| <!--/--> | V1 &lt;chr&gt; | V2 &lt;int&gt; |\n|---|---|---|\n| 1 | N_unmapped     | 1332776 |\n| 2 | N_multimapping | 1540190 |\n| 3 | N_noFeature    |  157102 |\n| 4 | N_ambiguous    |  536422 |\n| 5 | WBGene00000003 |     341 |\n\n",
            "text/latex": "A data.frame: 5 × 2\n\\begin{tabular}{r|ll}\n  & V1 & V2\\\\\n  & <chr> & <int>\\\\\n\\hline\n\t1 & N\\_unmapped     & 1332776\\\\\n\t2 & N\\_multimapping & 1540190\\\\\n\t3 & N\\_noFeature    &  157102\\\\\n\t4 & N\\_ambiguous    &  536422\\\\\n\t5 & WBGene00000003 &     341\\\\\n\\end{tabular}\n",
            "text/plain": [
              "  V1             V2     \n",
              "1 N_unmapped     1332776\n",
              "2 N_multimapping 1540190\n",
              "3 N_noFeature     157102\n",
              "4 N_ambiguous     536422\n",
              "5 WBGene00000003     341"
            ]
          },
          "metadata": {}
        },
        {
          "output_type": "display_data",
          "data": {
            "text/html": [
              "<table class=\"dataframe\">\n",
              "<caption>A data.frame: 5 × 2</caption>\n",
              "<thead>\n",
              "\t<tr><th></th><th scope=col>V1</th><th scope=col>V2</th></tr>\n",
              "\t<tr><th></th><th scope=col>&lt;chr&gt;</th><th scope=col>&lt;int&gt;</th></tr>\n",
              "</thead>\n",
              "<tbody>\n",
              "\t<tr><th scope=row>1</th><td>N_unmapped    </td><td>1400596</td></tr>\n",
              "\t<tr><th scope=row>2</th><td>N_multimapping</td><td>1305129</td></tr>\n",
              "\t<tr><th scope=row>3</th><td>N_noFeature   </td><td> 152183</td></tr>\n",
              "\t<tr><th scope=row>4</th><td>N_ambiguous   </td><td> 439830</td></tr>\n",
              "\t<tr><th scope=row>5</th><td>WBGene00000003</td><td>    415</td></tr>\n",
              "</tbody>\n",
              "</table>\n"
            ],
            "text/markdown": "\nA data.frame: 5 × 2\n\n| <!--/--> | V1 &lt;chr&gt; | V2 &lt;int&gt; |\n|---|---|---|\n| 1 | N_unmapped     | 1400596 |\n| 2 | N_multimapping | 1305129 |\n| 3 | N_noFeature    |  152183 |\n| 4 | N_ambiguous    |  439830 |\n| 5 | WBGene00000003 |     415 |\n\n",
            "text/latex": "A data.frame: 5 × 2\n\\begin{tabular}{r|ll}\n  & V1 & V2\\\\\n  & <chr> & <int>\\\\\n\\hline\n\t1 & N\\_unmapped     & 1400596\\\\\n\t2 & N\\_multimapping & 1305129\\\\\n\t3 & N\\_noFeature    &  152183\\\\\n\t4 & N\\_ambiguous    &  439830\\\\\n\t5 & WBGene00000003 &     415\\\\\n\\end{tabular}\n",
            "text/plain": [
              "  V1             V2     \n",
              "1 N_unmapped     1400596\n",
              "2 N_multimapping 1305129\n",
              "3 N_noFeature     152183\n",
              "4 N_ambiguous     439830\n",
              "5 WBGene00000003     415"
            ]
          },
          "metadata": {}
        },
        {
          "output_type": "display_data",
          "data": {
            "text/html": [
              "<table class=\"dataframe\">\n",
              "<caption>A data.frame: 5 × 2</caption>\n",
              "<thead>\n",
              "\t<tr><th></th><th scope=col>V1</th><th scope=col>V2</th></tr>\n",
              "\t<tr><th></th><th scope=col>&lt;chr&gt;</th><th scope=col>&lt;int&gt;</th></tr>\n",
              "</thead>\n",
              "<tbody>\n",
              "\t<tr><th scope=row>1</th><td>N_unmapped    </td><td>5887223</td></tr>\n",
              "\t<tr><th scope=row>2</th><td>N_multimapping</td><td>1557570</td></tr>\n",
              "\t<tr><th scope=row>3</th><td>N_noFeature   </td><td> 184441</td></tr>\n",
              "\t<tr><th scope=row>4</th><td>N_ambiguous   </td><td> 514559</td></tr>\n",
              "\t<tr><th scope=row>5</th><td>WBGene00000003</td><td>    411</td></tr>\n",
              "</tbody>\n",
              "</table>\n"
            ],
            "text/markdown": "\nA data.frame: 5 × 2\n\n| <!--/--> | V1 &lt;chr&gt; | V2 &lt;int&gt; |\n|---|---|---|\n| 1 | N_unmapped     | 5887223 |\n| 2 | N_multimapping | 1557570 |\n| 3 | N_noFeature    |  184441 |\n| 4 | N_ambiguous    |  514559 |\n| 5 | WBGene00000003 |     411 |\n\n",
            "text/latex": "A data.frame: 5 × 2\n\\begin{tabular}{r|ll}\n  & V1 & V2\\\\\n  & <chr> & <int>\\\\\n\\hline\n\t1 & N\\_unmapped     & 5887223\\\\\n\t2 & N\\_multimapping & 1557570\\\\\n\t3 & N\\_noFeature    &  184441\\\\\n\t4 & N\\_ambiguous    &  514559\\\\\n\t5 & WBGene00000003 &     411\\\\\n\\end{tabular}\n",
            "text/plain": [
              "  V1             V2     \n",
              "1 N_unmapped     5887223\n",
              "2 N_multimapping 1557570\n",
              "3 N_noFeature     184441\n",
              "4 N_ambiguous     514559\n",
              "5 WBGene00000003     411"
            ]
          },
          "metadata": {}
        }
      ]
    },
    {
      "cell_type": "code",
      "source": [
        "df_merged <- merge(tab_N2_day1_rep1, tab_N2_day1_rep2, by = \"V1\")\n",
        "head(df_merged)\n",
        "df_merged <- merge(df_merged, tab_N2_day1_rep3, by = \"V1\")\n",
        "head(df_merged)"
      ],
      "metadata": {
        "colab": {
          "base_uri": "https://localhost:8080/",
          "height": 555
        },
        "id": "RSblwS_hObLG",
        "outputId": "1fc26c52-ed9a-4e2c-d941-4172cd75d6be"
      },
      "execution_count": null,
      "outputs": [
        {
          "output_type": "display_data",
          "data": {
            "text/html": [
              "<table class=\"dataframe\">\n",
              "<caption>A data.frame: 6 × 3</caption>\n",
              "<thead>\n",
              "\t<tr><th></th><th scope=col>V1</th><th scope=col>V2.x</th><th scope=col>V2.y</th></tr>\n",
              "\t<tr><th></th><th scope=col>&lt;chr&gt;</th><th scope=col>&lt;int&gt;</th><th scope=col>&lt;int&gt;</th></tr>\n",
              "</thead>\n",
              "<tbody>\n",
              "\t<tr><th scope=row>1</th><td>N_ambiguous   </td><td> 536422</td><td> 439830</td></tr>\n",
              "\t<tr><th scope=row>2</th><td>N_multimapping</td><td>1540190</td><td>1305129</td></tr>\n",
              "\t<tr><th scope=row>3</th><td>N_noFeature   </td><td> 157102</td><td> 152183</td></tr>\n",
              "\t<tr><th scope=row>4</th><td>N_unmapped    </td><td>1332776</td><td>1400596</td></tr>\n",
              "\t<tr><th scope=row>5</th><td>WBGene00000001</td><td>   3227</td><td>   2168</td></tr>\n",
              "\t<tr><th scope=row>6</th><td>WBGene00000002</td><td>    270</td><td>    203</td></tr>\n",
              "</tbody>\n",
              "</table>\n"
            ],
            "text/markdown": "\nA data.frame: 6 × 3\n\n| <!--/--> | V1 &lt;chr&gt; | V2.x &lt;int&gt; | V2.y &lt;int&gt; |\n|---|---|---|---|\n| 1 | N_ambiguous    |  536422 |  439830 |\n| 2 | N_multimapping | 1540190 | 1305129 |\n| 3 | N_noFeature    |  157102 |  152183 |\n| 4 | N_unmapped     | 1332776 | 1400596 |\n| 5 | WBGene00000001 |    3227 |    2168 |\n| 6 | WBGene00000002 |     270 |     203 |\n\n",
            "text/latex": "A data.frame: 6 × 3\n\\begin{tabular}{r|lll}\n  & V1 & V2.x & V2.y\\\\\n  & <chr> & <int> & <int>\\\\\n\\hline\n\t1 & N\\_ambiguous    &  536422 &  439830\\\\\n\t2 & N\\_multimapping & 1540190 & 1305129\\\\\n\t3 & N\\_noFeature    &  157102 &  152183\\\\\n\t4 & N\\_unmapped     & 1332776 & 1400596\\\\\n\t5 & WBGene00000001 &    3227 &    2168\\\\\n\t6 & WBGene00000002 &     270 &     203\\\\\n\\end{tabular}\n",
            "text/plain": [
              "  V1             V2.x    V2.y   \n",
              "1 N_ambiguous     536422  439830\n",
              "2 N_multimapping 1540190 1305129\n",
              "3 N_noFeature     157102  152183\n",
              "4 N_unmapped     1332776 1400596\n",
              "5 WBGene00000001    3227    2168\n",
              "6 WBGene00000002     270     203"
            ]
          },
          "metadata": {}
        },
        {
          "output_type": "display_data",
          "data": {
            "text/html": [
              "<table class=\"dataframe\">\n",
              "<caption>A data.frame: 6 × 4</caption>\n",
              "<thead>\n",
              "\t<tr><th></th><th scope=col>V1</th><th scope=col>V2.x</th><th scope=col>V2.y</th><th scope=col>V2</th></tr>\n",
              "\t<tr><th></th><th scope=col>&lt;chr&gt;</th><th scope=col>&lt;int&gt;</th><th scope=col>&lt;int&gt;</th><th scope=col>&lt;int&gt;</th></tr>\n",
              "</thead>\n",
              "<tbody>\n",
              "\t<tr><th scope=row>1</th><td>N_ambiguous   </td><td> 536422</td><td> 439830</td><td> 514559</td></tr>\n",
              "\t<tr><th scope=row>2</th><td>N_multimapping</td><td>1540190</td><td>1305129</td><td>1557570</td></tr>\n",
              "\t<tr><th scope=row>3</th><td>N_noFeature   </td><td> 157102</td><td> 152183</td><td> 184441</td></tr>\n",
              "\t<tr><th scope=row>4</th><td>N_unmapped    </td><td>1332776</td><td>1400596</td><td>5887223</td></tr>\n",
              "\t<tr><th scope=row>5</th><td>WBGene00000001</td><td>   3227</td><td>   2168</td><td>   2589</td></tr>\n",
              "\t<tr><th scope=row>6</th><td>WBGene00000002</td><td>    270</td><td>    203</td><td>    266</td></tr>\n",
              "</tbody>\n",
              "</table>\n"
            ],
            "text/markdown": "\nA data.frame: 6 × 4\n\n| <!--/--> | V1 &lt;chr&gt; | V2.x &lt;int&gt; | V2.y &lt;int&gt; | V2 &lt;int&gt; |\n|---|---|---|---|---|\n| 1 | N_ambiguous    |  536422 |  439830 |  514559 |\n| 2 | N_multimapping | 1540190 | 1305129 | 1557570 |\n| 3 | N_noFeature    |  157102 |  152183 |  184441 |\n| 4 | N_unmapped     | 1332776 | 1400596 | 5887223 |\n| 5 | WBGene00000001 |    3227 |    2168 |    2589 |\n| 6 | WBGene00000002 |     270 |     203 |     266 |\n\n",
            "text/latex": "A data.frame: 6 × 4\n\\begin{tabular}{r|llll}\n  & V1 & V2.x & V2.y & V2\\\\\n  & <chr> & <int> & <int> & <int>\\\\\n\\hline\n\t1 & N\\_ambiguous    &  536422 &  439830 &  514559\\\\\n\t2 & N\\_multimapping & 1540190 & 1305129 & 1557570\\\\\n\t3 & N\\_noFeature    &  157102 &  152183 &  184441\\\\\n\t4 & N\\_unmapped     & 1332776 & 1400596 & 5887223\\\\\n\t5 & WBGene00000001 &    3227 &    2168 &    2589\\\\\n\t6 & WBGene00000002 &     270 &     203 &     266\\\\\n\\end{tabular}\n",
            "text/plain": [
              "  V1             V2.x    V2.y    V2     \n",
              "1 N_ambiguous     536422  439830  514559\n",
              "2 N_multimapping 1540190 1305129 1557570\n",
              "3 N_noFeature     157102  152183  184441\n",
              "4 N_unmapped     1332776 1400596 5887223\n",
              "5 WBGene00000001    3227    2168    2589\n",
              "6 WBGene00000002     270     203     266"
            ]
          },
          "metadata": {}
        }
      ]
    },
    {
      "cell_type": "markdown",
      "source": [
        "The `Reduce()` function in R allows us to apply a function repeatedly to a list of elements. Here, we are applying `merge()` iteratively to a list of data frames."
      ],
      "metadata": {
        "id": "tEkCxtOyPytj"
      }
    },
    {
      "cell_type": "code",
      "source": [
        "df_mer_red <- Reduce(function(x, y) merge(x, y, by = \"V1\"),\n",
        "                        list(\"tab_N2_day1_rep1\" = tab_N2_day1_rep1,\n",
        "                             \"tab_N2_day1_rep2\" = tab_N2_day1_rep2,\n",
        "                             \"tab_N2_day1_rep3\" = tab_N2_day1_rep3))\n",
        "head(df_mer_red, 5)"
      ],
      "metadata": {
        "colab": {
          "base_uri": "https://localhost:8080/",
          "height": 255
        },
        "id": "nDGMiOz3PIVj",
        "outputId": "901659bb-a74c-4e1b-d834-4cb69cfe14c2"
      },
      "execution_count": null,
      "outputs": [
        {
          "output_type": "display_data",
          "data": {
            "text/html": [
              "<table class=\"dataframe\">\n",
              "<caption>A data.frame: 5 × 4</caption>\n",
              "<thead>\n",
              "\t<tr><th></th><th scope=col>V1</th><th scope=col>V2.x</th><th scope=col>V2.y</th><th scope=col>V2</th></tr>\n",
              "\t<tr><th></th><th scope=col>&lt;chr&gt;</th><th scope=col>&lt;int&gt;</th><th scope=col>&lt;int&gt;</th><th scope=col>&lt;int&gt;</th></tr>\n",
              "</thead>\n",
              "<tbody>\n",
              "\t<tr><th scope=row>1</th><td>N_ambiguous   </td><td> 536422</td><td> 439830</td><td> 514559</td></tr>\n",
              "\t<tr><th scope=row>2</th><td>N_multimapping</td><td>1540190</td><td>1305129</td><td>1557570</td></tr>\n",
              "\t<tr><th scope=row>3</th><td>N_noFeature   </td><td> 157102</td><td> 152183</td><td> 184441</td></tr>\n",
              "\t<tr><th scope=row>4</th><td>N_unmapped    </td><td>1332776</td><td>1400596</td><td>5887223</td></tr>\n",
              "\t<tr><th scope=row>5</th><td>WBGene00000001</td><td>   3227</td><td>   2168</td><td>   2589</td></tr>\n",
              "</tbody>\n",
              "</table>\n"
            ],
            "text/markdown": "\nA data.frame: 5 × 4\n\n| <!--/--> | V1 &lt;chr&gt; | V2.x &lt;int&gt; | V2.y &lt;int&gt; | V2 &lt;int&gt; |\n|---|---|---|---|---|\n| 1 | N_ambiguous    |  536422 |  439830 |  514559 |\n| 2 | N_multimapping | 1540190 | 1305129 | 1557570 |\n| 3 | N_noFeature    |  157102 |  152183 |  184441 |\n| 4 | N_unmapped     | 1332776 | 1400596 | 5887223 |\n| 5 | WBGene00000001 |    3227 |    2168 |    2589 |\n\n",
            "text/latex": "A data.frame: 5 × 4\n\\begin{tabular}{r|llll}\n  & V1 & V2.x & V2.y & V2\\\\\n  & <chr> & <int> & <int> & <int>\\\\\n\\hline\n\t1 & N\\_ambiguous    &  536422 &  439830 &  514559\\\\\n\t2 & N\\_multimapping & 1540190 & 1305129 & 1557570\\\\\n\t3 & N\\_noFeature    &  157102 &  152183 &  184441\\\\\n\t4 & N\\_unmapped     & 1332776 & 1400596 & 5887223\\\\\n\t5 & WBGene00000001 &    3227 &    2168 &    2589\\\\\n\\end{tabular}\n",
            "text/plain": [
              "  V1             V2.x    V2.y    V2     \n",
              "1 N_ambiguous     536422  439830  514559\n",
              "2 N_multimapping 1540190 1305129 1557570\n",
              "3 N_noFeature     157102  152183  184441\n",
              "4 N_unmapped     1332776 1400596 5887223\n",
              "5 WBGene00000001    3227    2168    2589"
            ]
          },
          "metadata": {}
        }
      ]
    },
    {
      "cell_type": "markdown",
      "source": [
        "## Producing Graphs with R\n",
        "\n",
        "\n",
        "### Producing Graphs using basic"
      ],
      "metadata": {
        "id": "PpqYM_NAXY7V"
      }
    },
    {
      "cell_type": "markdown",
      "source": [
        "#### Line charts\n"
      ],
      "metadata": {
        "id": "IvcwQGdwrkh_"
      }
    },
    {
      "cell_type": "code",
      "source": [
        "# Define the cars vector with 5 values\n",
        "cars <- c(1, 3, 6, 4, 9)\n",
        "\n",
        "# Graph the cars vector with all defaults\n",
        "plot(cars)"
      ],
      "metadata": {
        "colab": {
          "base_uri": "https://localhost:8080/",
          "height": 437
        },
        "id": "DZeKetbCrmOG",
        "outputId": "0f0208a5-b702-4cb2-e985-a1cde2dce78e"
      },
      "execution_count": null,
      "outputs": [
        {
          "output_type": "display_data",
          "data": {
            "text/plain": [
              "plot without title"
            ],
            "image/png": "[encoded data removed]"
          },
          "metadata": {
            "image/png": {
              "width": 420,
              "height": 420
            }
          }
        }
      ]
    },
    {
      "cell_type": "markdown",
      "source": [
        "Let's add a title, a line to connect the points, and some color:\n",
        "\n"
      ],
      "metadata": {
        "id": "EHcJJY_1rs3b"
      }
    },
    {
      "cell_type": "code",
      "source": [
        "# Define the cars vector with 5 values\n",
        "cars <- c(1, 3, 6, 4, 9)\n",
        "\n",
        "# Graph cars using blue points overlayed by a line\n",
        "plot(cars, type=\"o\", col=\"blue\")\n",
        "\n",
        "# Create a title with a red, bold/italic font\n",
        "title(main=\"Autos\", col.main=\"red\", font.main=4)"
      ],
      "metadata": {
        "colab": {
          "base_uri": "https://localhost:8080/",
          "height": 437
        },
        "id": "HmPESe8-rHmk",
        "outputId": "74419a46-55a4-4066-a586-90918635e83c"
      },
      "execution_count": null,
      "outputs": [
        {
          "output_type": "display_data",
          "data": {
            "text/plain": [
              "Plot with title “Autos”"
            ],
            "image/png": "[encoded data removed]"
          },
          "metadata": {
            "image/png": {
              "width": 420,
              "height": 420
            }
          }
        }
      ]
    },
    {
      "cell_type": "markdown",
      "source": [],
      "metadata": {
        "id": "BFylWBTZr1WZ"
      }
    },
    {
      "cell_type": "code",
      "source": [
        "# Define 2 vectors\n",
        "cars <- c(1, 3, 6, 4, 9)\n",
        "trucks <- c(2, 5, 4, 5, 12)\n",
        "\n",
        "# Graph cars using a y axis that ranges from 0 to 12\n",
        "plot(cars, type=\"o\", col=\"blue\", ylim=c(0,12))\n",
        "\n",
        "# Graph trucks with red dashed line and square points\n",
        "lines(trucks, type=\"o\", pch=22, lty=2, col=\"red\")\n",
        "\n",
        "# Create a title with a red, bold/italic font\n",
        "title(main=\"Autos\", col.main=\"red\", font.main=4)"
      ],
      "metadata": {
        "colab": {
          "base_uri": "https://localhost:8080/",
          "height": 437
        },
        "id": "oxEppPOcr1px",
        "outputId": "af42f1bf-f7bb-433a-a4ec-6a3d8ab2af12"
      },
      "execution_count": null,
      "outputs": [
        {
          "output_type": "display_data",
          "data": {
            "text/plain": [
              "Plot with title “Autos”"
            ],
            "image/png": "[encoded data removed]"
          },
          "metadata": {
            "image/png": {
              "width": 420,
              "height": 420
            }
          }
        }
      ]
    },
    {
      "cell_type": "code",
      "source": [
        "csv_url <- \"https://gist.githubusercontent.com/seankross/a412dfbd88b3db70b74b/raw/5f23f993cd87c283ce766e7ac6b329ee7cc2e1d1/mtcars.csv\""
      ],
      "metadata": {
        "id": "vSDpGkzYtGFg"
      },
      "execution_count": null,
      "outputs": []
    },
    {
      "cell_type": "code",
      "source": [
        "mtcars <- read.csv(csv_url)\n",
        "mtcars"
      ],
      "metadata": {
        "colab": {
          "base_uri": "https://localhost:8080/",
          "height": 1000
        },
        "id": "I3YtLEjotkGa",
        "outputId": "8f07935f-fd74-404a-b204-98ab1c56fe61"
      },
      "execution_count": null,
      "outputs": [
        {
          "output_type": "display_data",
          "data": {
            "text/html": [
              "<table class=\"dataframe\">\n",
              "<caption>A data.frame: 32 × 12</caption>\n",
              "<thead>\n",
              "\t<tr><th scope=col>model</th><th scope=col>mpg</th><th scope=col>cyl</th><th scope=col>disp</th><th scope=col>hp</th><th scope=col>drat</th><th scope=col>wt</th><th scope=col>qsec</th><th scope=col>vs</th><th scope=col>am</th><th scope=col>gear</th><th scope=col>carb</th></tr>\n",
              "\t<tr><th scope=col>&lt;chr&gt;</th><th scope=col>&lt;dbl&gt;</th><th scope=col>&lt;int&gt;</th><th scope=col>&lt;dbl&gt;</th><th scope=col>&lt;int&gt;</th><th scope=col>&lt;dbl&gt;</th><th scope=col>&lt;dbl&gt;</th><th scope=col>&lt;dbl&gt;</th><th scope=col>&lt;int&gt;</th><th scope=col>&lt;int&gt;</th><th scope=col>&lt;int&gt;</th><th scope=col>&lt;int&gt;</th></tr>\n",
              "</thead>\n",
              "<tbody>\n",
              "\t<tr><td>Mazda RX4          </td><td>21.0</td><td>6</td><td>160.0</td><td>110</td><td>3.90</td><td>2.620</td><td>16.46</td><td>0</td><td>1</td><td>4</td><td>4</td></tr>\n",
              "\t<tr><td>Mazda RX4 Wag      </td><td>21.0</td><td>6</td><td>160.0</td><td>110</td><td>3.90</td><td>2.875</td><td>17.02</td><td>0</td><td>1</td><td>4</td><td>4</td></tr>\n",
              "\t<tr><td>Datsun 710         </td><td>22.8</td><td>4</td><td>108.0</td><td> 93</td><td>3.85</td><td>2.320</td><td>18.61</td><td>1</td><td>1</td><td>4</td><td>1</td></tr>\n",
              "\t<tr><td>Hornet 4 Drive     </td><td>21.4</td><td>6</td><td>258.0</td><td>110</td><td>3.08</td><td>3.215</td><td>19.44</td><td>1</td><td>0</td><td>3</td><td>1</td></tr>\n",
              "\t<tr><td>Hornet Sportabout  </td><td>18.7</td><td>8</td><td>360.0</td><td>175</td><td>3.15</td><td>3.440</td><td>17.02</td><td>0</td><td>0</td><td>3</td><td>2</td></tr>\n",
              "\t<tr><td>Valiant            </td><td>18.1</td><td>6</td><td>225.0</td><td>105</td><td>2.76</td><td>3.460</td><td>20.22</td><td>1</td><td>0</td><td>3</td><td>1</td></tr>\n",
              "\t<tr><td>Duster 360         </td><td>14.3</td><td>8</td><td>360.0</td><td>245</td><td>3.21</td><td>3.570</td><td>15.84</td><td>0</td><td>0</td><td>3</td><td>4</td></tr>\n",
              "\t<tr><td>Merc 240D          </td><td>24.4</td><td>4</td><td>146.7</td><td> 62</td><td>3.69</td><td>3.190</td><td>20.00</td><td>1</td><td>0</td><td>4</td><td>2</td></tr>\n",
              "\t<tr><td>Merc 230           </td><td>22.8</td><td>4</td><td>140.8</td><td> 95</td><td>3.92</td><td>3.150</td><td>22.90</td><td>1</td><td>0</td><td>4</td><td>2</td></tr>\n",
              "\t<tr><td>Merc 280           </td><td>19.2</td><td>6</td><td>167.6</td><td>123</td><td>3.92</td><td>3.440</td><td>18.30</td><td>1</td><td>0</td><td>4</td><td>4</td></tr>\n",
              "\t<tr><td>Merc 280C          </td><td>17.8</td><td>6</td><td>167.6</td><td>123</td><td>3.92</td><td>3.440</td><td>18.90</td><td>1</td><td>0</td><td>4</td><td>4</td></tr>\n",
              "\t<tr><td>Merc 450SE         </td><td>16.4</td><td>8</td><td>275.8</td><td>180</td><td>3.07</td><td>4.070</td><td>17.40</td><td>0</td><td>0</td><td>3</td><td>3</td></tr>\n",
              "\t<tr><td>Merc 450SL         </td><td>17.3</td><td>8</td><td>275.8</td><td>180</td><td>3.07</td><td>3.730</td><td>17.60</td><td>0</td><td>0</td><td>3</td><td>3</td></tr>\n",
              "\t<tr><td>Merc 450SLC        </td><td>15.2</td><td>8</td><td>275.8</td><td>180</td><td>3.07</td><td>3.780</td><td>18.00</td><td>0</td><td>0</td><td>3</td><td>3</td></tr>\n",
              "\t<tr><td>Cadillac Fleetwood </td><td>10.4</td><td>8</td><td>472.0</td><td>205</td><td>2.93</td><td>5.250</td><td>17.98</td><td>0</td><td>0</td><td>3</td><td>4</td></tr>\n",
              "\t<tr><td>Lincoln Continental</td><td>10.4</td><td>8</td><td>460.0</td><td>215</td><td>3.00</td><td>5.424</td><td>17.82</td><td>0</td><td>0</td><td>3</td><td>4</td></tr>\n",
              "\t<tr><td>Chrysler Imperial  </td><td>14.7</td><td>8</td><td>440.0</td><td>230</td><td>3.23</td><td>5.345</td><td>17.42</td><td>0</td><td>0</td><td>3</td><td>4</td></tr>\n",
              "\t<tr><td>Fiat 128           </td><td>32.4</td><td>4</td><td> 78.7</td><td> 66</td><td>4.08</td><td>2.200</td><td>19.47</td><td>1</td><td>1</td><td>4</td><td>1</td></tr>\n",
              "\t<tr><td>Honda Civic        </td><td>30.4</td><td>4</td><td> 75.7</td><td> 52</td><td>4.93</td><td>1.615</td><td>18.52</td><td>1</td><td>1</td><td>4</td><td>2</td></tr>\n",
              "\t<tr><td>Toyota Corolla     </td><td>33.9</td><td>4</td><td> 71.1</td><td> 65</td><td>4.22</td><td>1.835</td><td>19.90</td><td>1</td><td>1</td><td>4</td><td>1</td></tr>\n",
              "\t<tr><td>Toyota Corona      </td><td>21.5</td><td>4</td><td>120.1</td><td> 97</td><td>3.70</td><td>2.465</td><td>20.01</td><td>1</td><td>0</td><td>3</td><td>1</td></tr>\n",
              "\t<tr><td>Dodge Challenger   </td><td>15.5</td><td>8</td><td>318.0</td><td>150</td><td>2.76</td><td>3.520</td><td>16.87</td><td>0</td><td>0</td><td>3</td><td>2</td></tr>\n",
              "\t<tr><td>AMC Javelin        </td><td>15.2</td><td>8</td><td>304.0</td><td>150</td><td>3.15</td><td>3.435</td><td>17.30</td><td>0</td><td>0</td><td>3</td><td>2</td></tr>\n",
              "\t<tr><td>Camaro Z28         </td><td>13.3</td><td>8</td><td>350.0</td><td>245</td><td>3.73</td><td>3.840</td><td>15.41</td><td>0</td><td>0</td><td>3</td><td>4</td></tr>\n",
              "\t<tr><td>Pontiac Firebird   </td><td>19.2</td><td>8</td><td>400.0</td><td>175</td><td>3.08</td><td>3.845</td><td>17.05</td><td>0</td><td>0</td><td>3</td><td>2</td></tr>\n",
              "\t<tr><td>Fiat X1-9          </td><td>27.3</td><td>4</td><td> 79.0</td><td> 66</td><td>4.08</td><td>1.935</td><td>18.90</td><td>1</td><td>1</td><td>4</td><td>1</td></tr>\n",
              "\t<tr><td>Porsche 914-2      </td><td>26.0</td><td>4</td><td>120.3</td><td> 91</td><td>4.43</td><td>2.140</td><td>16.70</td><td>0</td><td>1</td><td>5</td><td>2</td></tr>\n",
              "\t<tr><td>Lotus Europa       </td><td>30.4</td><td>4</td><td> 95.1</td><td>113</td><td>3.77</td><td>1.513</td><td>16.90</td><td>1</td><td>1</td><td>5</td><td>2</td></tr>\n",
              "\t<tr><td>Ford Pantera L     </td><td>15.8</td><td>8</td><td>351.0</td><td>264</td><td>4.22</td><td>3.170</td><td>14.50</td><td>0</td><td>1</td><td>5</td><td>4</td></tr>\n",
              "\t<tr><td>Ferrari Dino       </td><td>19.7</td><td>6</td><td>145.0</td><td>175</td><td>3.62</td><td>2.770</td><td>15.50</td><td>0</td><td>1</td><td>5</td><td>6</td></tr>\n",
              "\t<tr><td>Maserati Bora      </td><td>15.0</td><td>8</td><td>301.0</td><td>335</td><td>3.54</td><td>3.570</td><td>14.60</td><td>0</td><td>1</td><td>5</td><td>8</td></tr>\n",
              "\t<tr><td>Volvo 142E         </td><td>21.4</td><td>4</td><td>121.0</td><td>109</td><td>4.11</td><td>2.780</td><td>18.60</td><td>1</td><td>1</td><td>4</td><td>2</td></tr>\n",
              "</tbody>\n",
              "</table>\n"
            ],
            "text/markdown": "\nA data.frame: 32 × 12\n\n| model &lt;chr&gt; | mpg &lt;dbl&gt; | cyl &lt;int&gt; | disp &lt;dbl&gt; | hp &lt;int&gt; | drat &lt;dbl&gt; | wt &lt;dbl&gt; | qsec &lt;dbl&gt; | vs &lt;int&gt; | am &lt;int&gt; | gear &lt;int&gt; | carb &lt;int&gt; |\n|---|---|---|---|---|---|---|---|---|---|---|---|\n| Mazda RX4           | 21.0 | 6 | 160.0 | 110 | 3.90 | 2.620 | 16.46 | 0 | 1 | 4 | 4 |\n| Mazda RX4 Wag       | 21.0 | 6 | 160.0 | 110 | 3.90 | 2.875 | 17.02 | 0 | 1 | 4 | 4 |\n| Datsun 710          | 22.8 | 4 | 108.0 |  93 | 3.85 | 2.320 | 18.61 | 1 | 1 | 4 | 1 |\n| Hornet 4 Drive      | 21.4 | 6 | 258.0 | 110 | 3.08 | 3.215 | 19.44 | 1 | 0 | 3 | 1 |\n| Hornet Sportabout   | 18.7 | 8 | 360.0 | 175 | 3.15 | 3.440 | 17.02 | 0 | 0 | 3 | 2 |\n| Valiant             | 18.1 | 6 | 225.0 | 105 | 2.76 | 3.460 | 20.22 | 1 | 0 | 3 | 1 |\n| Duster 360          | 14.3 | 8 | 360.0 | 245 | 3.21 | 3.570 | 15.84 | 0 | 0 | 3 | 4 |\n| Merc 240D           | 24.4 | 4 | 146.7 |  62 | 3.69 | 3.190 | 20.00 | 1 | 0 | 4 | 2 |\n| Merc 230            | 22.8 | 4 | 140.8 |  95 | 3.92 | 3.150 | 22.90 | 1 | 0 | 4 | 2 |\n| Merc 280            | 19.2 | 6 | 167.6 | 123 | 3.92 | 3.440 | 18.30 | 1 | 0 | 4 | 4 |\n| Merc 280C           | 17.8 | 6 | 167.6 | 123 | 3.92 | 3.440 | 18.90 | 1 | 0 | 4 | 4 |\n| Merc 450SE          | 16.4 | 8 | 275.8 | 180 | 3.07 | 4.070 | 17.40 | 0 | 0 | 3 | 3 |\n| Merc 450SL          | 17.3 | 8 | 275.8 | 180 | 3.07 | 3.730 | 17.60 | 0 | 0 | 3 | 3 |\n| Merc 450SLC         | 15.2 | 8 | 275.8 | 180 | 3.07 | 3.780 | 18.00 | 0 | 0 | 3 | 3 |\n| Cadillac Fleetwood  | 10.4 | 8 | 472.0 | 205 | 2.93 | 5.250 | 17.98 | 0 | 0 | 3 | 4 |\n| Lincoln Continental | 10.4 | 8 | 460.0 | 215 | 3.00 | 5.424 | 17.82 | 0 | 0 | 3 | 4 |\n| Chrysler Imperial   | 14.7 | 8 | 440.0 | 230 | 3.23 | 5.345 | 17.42 | 0 | 0 | 3 | 4 |\n| Fiat 128            | 32.4 | 4 |  78.7 |  66 | 4.08 | 2.200 | 19.47 | 1 | 1 | 4 | 1 |\n| Honda Civic         | 30.4 | 4 |  75.7 |  52 | 4.93 | 1.615 | 18.52 | 1 | 1 | 4 | 2 |\n| Toyota Corolla      | 33.9 | 4 |  71.1 |  65 | 4.22 | 1.835 | 19.90 | 1 | 1 | 4 | 1 |\n| Toyota Corona       | 21.5 | 4 | 120.1 |  97 | 3.70 | 2.465 | 20.01 | 1 | 0 | 3 | 1 |\n| Dodge Challenger    | 15.5 | 8 | 318.0 | 150 | 2.76 | 3.520 | 16.87 | 0 | 0 | 3 | 2 |\n| AMC Javelin         | 15.2 | 8 | 304.0 | 150 | 3.15 | 3.435 | 17.30 | 0 | 0 | 3 | 2 |\n| Camaro Z28          | 13.3 | 8 | 350.0 | 245 | 3.73 | 3.840 | 15.41 | 0 | 0 | 3 | 4 |\n| Pontiac Firebird    | 19.2 | 8 | 400.0 | 175 | 3.08 | 3.845 | 17.05 | 0 | 0 | 3 | 2 |\n| Fiat X1-9           | 27.3 | 4 |  79.0 |  66 | 4.08 | 1.935 | 18.90 | 1 | 1 | 4 | 1 |\n| Porsche 914-2       | 26.0 | 4 | 120.3 |  91 | 4.43 | 2.140 | 16.70 | 0 | 1 | 5 | 2 |\n| Lotus Europa        | 30.4 | 4 |  95.1 | 113 | 3.77 | 1.513 | 16.90 | 1 | 1 | 5 | 2 |\n| Ford Pantera L      | 15.8 | 8 | 351.0 | 264 | 4.22 | 3.170 | 14.50 | 0 | 1 | 5 | 4 |\n| Ferrari Dino        | 19.7 | 6 | 145.0 | 175 | 3.62 | 2.770 | 15.50 | 0 | 1 | 5 | 6 |\n| Maserati Bora       | 15.0 | 8 | 301.0 | 335 | 3.54 | 3.570 | 14.60 | 0 | 1 | 5 | 8 |\n| Volvo 142E          | 21.4 | 4 | 121.0 | 109 | 4.11 | 2.780 | 18.60 | 1 | 1 | 4 | 2 |\n\n",
            "text/latex": "A data.frame: 32 × 12\n\\begin{tabular}{llllllllllll}\n model & mpg & cyl & disp & hp & drat & wt & qsec & vs & am & gear & carb\\\\\n <chr> & <dbl> & <int> & <dbl> & <int> & <dbl> & <dbl> & <dbl> & <int> & <int> & <int> & <int>\\\\\n\\hline\n\t Mazda RX4           & 21.0 & 6 & 160.0 & 110 & 3.90 & 2.620 & 16.46 & 0 & 1 & 4 & 4\\\\\n\t Mazda RX4 Wag       & 21.0 & 6 & 160.0 & 110 & 3.90 & 2.875 & 17.02 & 0 & 1 & 4 & 4\\\\\n\t Datsun 710          & 22.8 & 4 & 108.0 &  93 & 3.85 & 2.320 & 18.61 & 1 & 1 & 4 & 1\\\\\n\t Hornet 4 Drive      & 21.4 & 6 & 258.0 & 110 & 3.08 & 3.215 & 19.44 & 1 & 0 & 3 & 1\\\\\n\t Hornet Sportabout   & 18.7 & 8 & 360.0 & 175 & 3.15 & 3.440 & 17.02 & 0 & 0 & 3 & 2\\\\\n\t Valiant             & 18.1 & 6 & 225.0 & 105 & 2.76 & 3.460 & 20.22 & 1 & 0 & 3 & 1\\\\\n\t Duster 360          & 14.3 & 8 & 360.0 & 245 & 3.21 & 3.570 & 15.84 & 0 & 0 & 3 & 4\\\\\n\t Merc 240D           & 24.4 & 4 & 146.7 &  62 & 3.69 & 3.190 & 20.00 & 1 & 0 & 4 & 2\\\\\n\t Merc 230            & 22.8 & 4 & 140.8 &  95 & 3.92 & 3.150 & 22.90 & 1 & 0 & 4 & 2\\\\\n\t Merc 280            & 19.2 & 6 & 167.6 & 123 & 3.92 & 3.440 & 18.30 & 1 & 0 & 4 & 4\\\\\n\t Merc 280C           & 17.8 & 6 & 167.6 & 123 & 3.92 & 3.440 & 18.90 & 1 & 0 & 4 & 4\\\\\n\t Merc 450SE          & 16.4 & 8 & 275.8 & 180 & 3.07 & 4.070 & 17.40 & 0 & 0 & 3 & 3\\\\\n\t Merc 450SL          & 17.3 & 8 & 275.8 & 180 & 3.07 & 3.730 & 17.60 & 0 & 0 & 3 & 3\\\\\n\t Merc 450SLC         & 15.2 & 8 & 275.8 & 180 & 3.07 & 3.780 & 18.00 & 0 & 0 & 3 & 3\\\\\n\t Cadillac Fleetwood  & 10.4 & 8 & 472.0 & 205 & 2.93 & 5.250 & 17.98 & 0 & 0 & 3 & 4\\\\\n\t Lincoln Continental & 10.4 & 8 & 460.0 & 215 & 3.00 & 5.424 & 17.82 & 0 & 0 & 3 & 4\\\\\n\t Chrysler Imperial   & 14.7 & 8 & 440.0 & 230 & 3.23 & 5.345 & 17.42 & 0 & 0 & 3 & 4\\\\\n\t Fiat 128            & 32.4 & 4 &  78.7 &  66 & 4.08 & 2.200 & 19.47 & 1 & 1 & 4 & 1\\\\\n\t Honda Civic         & 30.4 & 4 &  75.7 &  52 & 4.93 & 1.615 & 18.52 & 1 & 1 & 4 & 2\\\\\n\t Toyota Corolla      & 33.9 & 4 &  71.1 &  65 & 4.22 & 1.835 & 19.90 & 1 & 1 & 4 & 1\\\\\n\t Toyota Corona       & 21.5 & 4 & 120.1 &  97 & 3.70 & 2.465 & 20.01 & 1 & 0 & 3 & 1\\\\\n\t Dodge Challenger    & 15.5 & 8 & 318.0 & 150 & 2.76 & 3.520 & 16.87 & 0 & 0 & 3 & 2\\\\\n\t AMC Javelin         & 15.2 & 8 & 304.0 & 150 & 3.15 & 3.435 & 17.30 & 0 & 0 & 3 & 2\\\\\n\t Camaro Z28          & 13.3 & 8 & 350.0 & 245 & 3.73 & 3.840 & 15.41 & 0 & 0 & 3 & 4\\\\\n\t Pontiac Firebird    & 19.2 & 8 & 400.0 & 175 & 3.08 & 3.845 & 17.05 & 0 & 0 & 3 & 2\\\\\n\t Fiat X1-9           & 27.3 & 4 &  79.0 &  66 & 4.08 & 1.935 & 18.90 & 1 & 1 & 4 & 1\\\\\n\t Porsche 914-2       & 26.0 & 4 & 120.3 &  91 & 4.43 & 2.140 & 16.70 & 0 & 1 & 5 & 2\\\\\n\t Lotus Europa        & 30.4 & 4 &  95.1 & 113 & 3.77 & 1.513 & 16.90 & 1 & 1 & 5 & 2\\\\\n\t Ford Pantera L      & 15.8 & 8 & 351.0 & 264 & 4.22 & 3.170 & 14.50 & 0 & 1 & 5 & 4\\\\\n\t Ferrari Dino        & 19.7 & 6 & 145.0 & 175 & 3.62 & 2.770 & 15.50 & 0 & 1 & 5 & 6\\\\\n\t Maserati Bora       & 15.0 & 8 & 301.0 & 335 & 3.54 & 3.570 & 14.60 & 0 & 1 & 5 & 8\\\\\n\t Volvo 142E          & 21.4 & 4 & 121.0 & 109 & 4.11 & 2.780 & 18.60 & 1 & 1 & 4 & 2\\\\\n\\end{tabular}\n",
            "text/plain": [
              "   model               mpg  cyl disp  hp  drat wt    qsec  vs am gear carb\n",
              "1  Mazda RX4           21.0 6   160.0 110 3.90 2.620 16.46 0  1  4    4   \n",
              "2  Mazda RX4 Wag       21.0 6   160.0 110 3.90 2.875 17.02 0  1  4    4   \n",
              "3  Datsun 710          22.8 4   108.0  93 3.85 2.320 18.61 1  1  4    1   \n",
              "4  Hornet 4 Drive      21.4 6   258.0 110 3.08 3.215 19.44 1  0  3    1   \n",
              "5  Hornet Sportabout   18.7 8   360.0 175 3.15 3.440 17.02 0  0  3    2   \n",
              "6  Valiant             18.1 6   225.0 105 2.76 3.460 20.22 1  0  3    1   \n",
              "7  Duster 360          14.3 8   360.0 245 3.21 3.570 15.84 0  0  3    4   \n",
              "8  Merc 240D           24.4 4   146.7  62 3.69 3.190 20.00 1  0  4    2   \n",
              "9  Merc 230            22.8 4   140.8  95 3.92 3.150 22.90 1  0  4    2   \n",
              "10 Merc 280            19.2 6   167.6 123 3.92 3.440 18.30 1  0  4    4   \n",
              "11 Merc 280C           17.8 6   167.6 123 3.92 3.440 18.90 1  0  4    4   \n",
              "12 Merc 450SE          16.4 8   275.8 180 3.07 4.070 17.40 0  0  3    3   \n",
              "13 Merc 450SL          17.3 8   275.8 180 3.07 3.730 17.60 0  0  3    3   \n",
              "14 Merc 450SLC         15.2 8   275.8 180 3.07 3.780 18.00 0  0  3    3   \n",
              "15 Cadillac Fleetwood  10.4 8   472.0 205 2.93 5.250 17.98 0  0  3    4   \n",
              "16 Lincoln Continental 10.4 8   460.0 215 3.00 5.424 17.82 0  0  3    4   \n",
              "17 Chrysler Imperial   14.7 8   440.0 230 3.23 5.345 17.42 0  0  3    4   \n",
              "18 Fiat 128            32.4 4    78.7  66 4.08 2.200 19.47 1  1  4    1   \n",
              "19 Honda Civic         30.4 4    75.7  52 4.93 1.615 18.52 1  1  4    2   \n",
              "20 Toyota Corolla      33.9 4    71.1  65 4.22 1.835 19.90 1  1  4    1   \n",
              "21 Toyota Corona       21.5 4   120.1  97 3.70 2.465 20.01 1  0  3    1   \n",
              "22 Dodge Challenger    15.5 8   318.0 150 2.76 3.520 16.87 0  0  3    2   \n",
              "23 AMC Javelin         15.2 8   304.0 150 3.15 3.435 17.30 0  0  3    2   \n",
              "24 Camaro Z28          13.3 8   350.0 245 3.73 3.840 15.41 0  0  3    4   \n",
              "25 Pontiac Firebird    19.2 8   400.0 175 3.08 3.845 17.05 0  0  3    2   \n",
              "26 Fiat X1-9           27.3 4    79.0  66 4.08 1.935 18.90 1  1  4    1   \n",
              "27 Porsche 914-2       26.0 4   120.3  91 4.43 2.140 16.70 0  1  5    2   \n",
              "28 Lotus Europa        30.4 4    95.1 113 3.77 1.513 16.90 1  1  5    2   \n",
              "29 Ford Pantera L      15.8 8   351.0 264 4.22 3.170 14.50 0  1  5    4   \n",
              "30 Ferrari Dino        19.7 6   145.0 175 3.62 2.770 15.50 0  1  5    6   \n",
              "31 Maserati Bora       15.0 8   301.0 335 3.54 3.570 14.60 0  1  5    8   \n",
              "32 Volvo 142E          21.4 4   121.0 109 4.11 2.780 18.60 1  1  4    2   "
            ]
          },
          "metadata": {}
        }
      ]
    },
    {
      "cell_type": "code",
      "source": [
        "plot(mtcars$wt,mtcars$mpg, main=\"Scatterplot in Base R\",\n",
        "   xlab=\"Car Weight\", ylab=\"MPG\",\n",
        "   pch=4, col = \"blue\", lwd=1, cex = 2)\n",
        "abline(lm(mtcars$mpg~mtcars$wt), col=\"red\")\n",
        "text(mtcars$wt, mtcars$mpg, labels=rownames(mtcars), cex=0.5, font=2)"
      ],
      "metadata": {
        "colab": {
          "base_uri": "https://localhost:8080/",
          "height": 437
        },
        "id": "buWHA1LytsH2",
        "outputId": "6ef43bdb-15d9-4aa6-c7d7-ca514c086817"
      },
      "execution_count": null,
      "outputs": [
        {
          "output_type": "display_data",
          "data": {
            "text/plain": [
              "Plot with title “Scatterplot in Base R”"
            ],
            "image/png": "[encoded data removed]"
          },
          "metadata": {
            "image/png": {
              "width": 420,
              "height": 420
            }
          }
        }
      ]
    },
    {
      "cell_type": "code",
      "source": [
        "hist(mtcars$hp,\n",
        "      prob = TRUE)\n",
        "lines(density(mtcars$hp), # density plot\n",
        "     lwd = 2, # thickness of line\n",
        "     col = \"red\")\n",
        "abline(v=mean(mtcars$hp),\n",
        "     lty=\"dashed\",\n",
        "     col=\"blue\")"
      ],
      "metadata": {
        "colab": {
          "base_uri": "https://localhost:8080/",
          "height": 437
        },
        "id": "lkn--bOPt6cp",
        "outputId": "7a4cef46-ed5e-4519-9102-d33b07318d5b"
      },
      "execution_count": null,
      "outputs": [
        {
          "output_type": "display_data",
          "data": {
            "text/plain": [
              "Plot with title “Histogram of mtcars$hp”"
            ],
            "image/png": "[encoded data removed]"
          },
          "metadata": {
            "image/png": {
              "width": 420,
              "height": 420
            }
          }
        }
      ]
    },
    {
      "cell_type": "markdown",
      "source": [
        "`Probability Density`: It tells you how the data is distributed over different ranges (or bins) of values. The height of each bar shows how densely the data is packed in that range of horsepower values."
      ],
      "metadata": {
        "id": "mPsN8st00fkp"
      }
    },
    {
      "cell_type": "markdown",
      "source": [
        "#### Producing graphs using ggplot2"
      ],
      "metadata": {
        "id": "YTGTWkrlt9Bl"
      }
    },
    {
      "cell_type": "code",
      "source": [
        "library(ggplot2)"
      ],
      "metadata": {
        "id": "NwHjg80auAkM"
      },
      "execution_count": null,
      "outputs": []
    },
    {
      "cell_type": "code",
      "source": [
        "ggplot(mtcars, aes(x=wt, y=mpg)) +\n",
        "  geom_point(size=5, shape=4, color=\"blue\", stroke=1) +\n",
        "  geom_smooth(method=lm, color=\"red\") +\n",
        "  ggtitle(\"Scatterplot in ggplot2\") +\n",
        "  xlab(\"Car Weight\") + # for the x axis label\n",
        "  geom_text(label=rownames(mtcars),cex=3)"
      ],
      "metadata": {
        "colab": {
          "base_uri": "https://localhost:8080/",
          "height": 454
        },
        "id": "OjS79MMOt3S9",
        "outputId": "c89efad9-b791-40ab-f1bb-9a994a0b468a"
      },
      "execution_count": null,
      "outputs": [
        {
          "output_type": "stream",
          "name": "stderr",
          "text": [
            "\u001b[1m\u001b[22m`geom_smooth()` using formula = 'y ~ x'\n"
          ]
        },
        {
          "output_type": "display_data",
          "data": {
            "text/plain": [
              "plot without title"
            ],
            "image/png": "[encoded data removed]"
          },
          "metadata": {
            "image/png": {
              "width": 420,
              "height": 420
            }
          }
        }
      ]
    },
    {
      "cell_type": "code",
      "source": [
        "ggplot(mtcars, aes(x = hp)) +\n",
        "  geom_histogram(aes(y = ..density..),\n",
        "                 bins = 6, # You can adjust the number of bins\n",
        "                 fill = \"lightblue\",\n",
        "                 color = \"black\") +  # Histogram with probability density\n",
        "  geom_density(color = \"red\", size = 1.5) +  # Add the density plot\n",
        "  geom_vline(aes(xintercept = mean(hp)),\n",
        "             linetype = \"dashed\",\n",
        "             color = \"blue\",\n",
        "             size = 1.2) +  # Add dashed blue vertical line at the mean\n",
        "  labs(title = \"Distribution of Horsepower in mtcars Dataset\",\n",
        "       x = \"Horsepower\",\n",
        "       y = \"Density\") +  # Add axis labels and title\n",
        "  theme_minimal() # Use a clean theme for the plot\n"
      ],
      "metadata": {
        "colab": {
          "base_uri": "https://localhost:8080/",
          "height": 437
        },
        "id": "tmRGIli6uFZT",
        "outputId": "c38b0413-85db-430d-e3d3-7a7f936edc07"
      },
      "execution_count": null,
      "outputs": [
        {
          "output_type": "display_data",
          "data": {
            "text/plain": [
              "plot without title"
            ],
            "image/png": "[encoded data removed]"
          },
          "metadata": {
            "image/png": {
              "width": 420,
              "height": 420
            }
          }
        }
      ]
    },
    {
      "cell_type": "markdown",
      "source": [
        "## Reference\n",
        "\n",
        "https://sites.harding.edu/fmccown/R/\n",
        "\n",
        "https://jtr13.github.io/cc21fall2/base-r-vs.-ggplot2-visualization.html#base-r-vs.-ggplot2-visualization"
      ],
      "metadata": {
        "id": "g8HRjj6nu43E"
      }
    }
  ]
}