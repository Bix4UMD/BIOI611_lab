{
  "nbformat": 4,
  "nbformat_minor": 0,
  "metadata": {
    "colab": {
      "provenance": [],
      "authorship_tag": "ABX9TyNgtdiaQSVSqcei2uK2J1Ln",
      "include_colab_link": true
    },
    "kernelspec": {
      "name": "ir",
      "display_name": "R"
    },
    "language_info": {
      "name": "R"
    }
  },
  "cells": [
    {
      "cell_type": "markdown",
      "metadata": {
        "id": "view-in-github",
        "colab_type": "text"
      },
      "source": [
        "<a href=\"https://colab.research.google.com/github/Bix4UMD/BIOI611_lab/blob/main/docs/BIOI611_introR.ipynb\" target=\"_parent\"><img src=\"https://colab.research.google.com/assets/colab-badge.svg\" alt=\"Open In Colab\"/></a>"
      ]
    },
    {
      "cell_type": "markdown",
      "source": [
        "## Introduction to R\n",
        "\n",
        "### What is R\n",
        "\n",
        "R is a language and environment for statistical computing and graphics.\n",
        "\n",
        "* Runs on a variaty of operation systerms: Windows, Linux and MacOS\n",
        "\n",
        "* Generates publication-ready plots\n",
        "\n",
        "* Owns a large open-source community\n",
        "\n",
        "* Extends functions as packages\n"
      ],
      "metadata": {
        "id": "Y6NYrfkIKEwq"
      }
    },
    {
      "cell_type": "markdown",
      "source": [
        "### Essetnial concepts for programming languages\n",
        "\n",
        "#### Variables\n",
        "\n",
        "Variable names can have letters, dots and undercores (e.g. `gene_name` and `chr1`).\n",
        "\n",
        "#### Functions\n",
        "\n",
        "A function is a structured, reusable segment of code designed to carry out a specific set of operations. It can accept zero or more inputs (parameters) and can produce an output (result).\n",
        "\n",
        "`INPUT --function--> OUTPUT`\n",
        "\n",
        "The way to define a function is:\n",
        "\n",
        "```\n",
        "read_star_file <- function(file_path){\n",
        "    ...code goes here...\n",
        "    return(df)\n",
        "}\n",
        "```\n",
        "\n",
        "The way to use a function in R is:\n",
        "```\n",
        "read_star_file(paths)\n",
        "```\n",
        "\n",
        "\n",
        "\n",
        "\n",
        "\n"
      ],
      "metadata": {
        "id": "CU4ZmdSlVMzI"
      }
    },
    {
      "cell_type": "markdown",
      "source": [
        "### Basic data types"
      ],
      "metadata": {
        "id": "BpjnxMkyRMXw"
      }
    },
    {
      "cell_type": "code",
      "execution_count": null,
      "metadata": {
        "id": "DNcPKoCyKAWv",
        "colab": {
          "base_uri": "https://localhost:8080/",
          "height": 52
        },
        "outputId": "c71a01ac-aa6f-4446-92b5-c21ebb7e071f"
      },
      "outputs": [
        {
          "output_type": "display_data",
          "data": {
            "text/html": [
              "150"
            ],
            "text/markdown": "150",
            "text/latex": "150",
            "text/plain": [
              "[1] 150"
            ]
          },
          "metadata": {}
        },
        {
          "output_type": "display_data",
          "data": {
            "text/html": [
              "200"
            ],
            "text/markdown": "200",
            "text/latex": "200",
            "text/plain": [
              "[1] 200"
            ]
          },
          "metadata": {}
        }
      ],
      "source": [
        "# assign a number to variable gene_count\n",
        "gene1 <- 150\n",
        "gene2 <- 200\n",
        "gene1\n",
        "gene2"
      ]
    },
    {
      "cell_type": "code",
      "source": [
        "# Examples of character value\n",
        "gene_name1 <- \"KRAS\"\n",
        "gene_name1"
      ],
      "metadata": {
        "colab": {
          "base_uri": "https://localhost:8080/",
          "height": 34
        },
        "id": "QkrpC3txRjP-",
        "outputId": "887e88c0-cfba-4916-c13e-ff8a50af1705"
      },
      "execution_count": null,
      "outputs": [
        {
          "output_type": "display_data",
          "data": {
            "text/html": [
              "'KRAS'"
            ],
            "text/markdown": "'KRAS'",
            "text/latex": "'KRAS'",
            "text/plain": [
              "[1] \"KRAS\""
            ]
          },
          "metadata": {}
        }
      ]
    },
    {
      "cell_type": "code",
      "source": [
        "# Examples of character value\n",
        "\"RAS\" -> gene_name2\n",
        "gene_name2"
      ],
      "metadata": {
        "colab": {
          "base_uri": "https://localhost:8080/",
          "height": 34
        },
        "id": "7V1Mcq5xSLcD",
        "outputId": "21bfe79a-3b6e-4a5d-9b53-a8611d7f864e"
      },
      "execution_count": null,
      "outputs": [
        {
          "output_type": "display_data",
          "data": {
            "text/html": [
              "'RAS'"
            ],
            "text/markdown": "'RAS'",
            "text/latex": "'RAS'",
            "text/plain": [
              "[1] \"RAS\""
            ]
          },
          "metadata": {}
        }
      ]
    },
    {
      "cell_type": "code",
      "source": [
        "# Examples of character value\n",
        "gene_name3 <- \"KRAS\"\n",
        "gene_name3"
      ],
      "metadata": {
        "colab": {
          "base_uri": "https://localhost:8080/",
          "height": 34
        },
        "id": "BHa5AP9oSb3s",
        "outputId": "ac0ac157-1a97-4a4f-f43e-4c14c25296e4"
      },
      "execution_count": null,
      "outputs": [
        {
          "output_type": "display_data",
          "data": {
            "text/html": [
              "'KRAS'"
            ],
            "text/markdown": "'KRAS'",
            "text/latex": "'KRAS'",
            "text/plain": [
              "[1] \"KRAS\""
            ]
          },
          "metadata": {}
        }
      ]
    },
    {
      "cell_type": "code",
      "source": [
        "# Logical value\n",
        "gene1 > gene2\n",
        "gene1 < gene2\n",
        "bool_val = gene1 < gene2"
      ],
      "metadata": {
        "colab": {
          "base_uri": "https://localhost:8080/",
          "height": 52
        },
        "id": "Z9U1nnQ0Ruqe",
        "outputId": "4b8b958e-fb81-4af8-c9e1-32bfa42cd5b5"
      },
      "execution_count": null,
      "outputs": [
        {
          "output_type": "display_data",
          "data": {
            "text/html": [
              "FALSE"
            ],
            "text/markdown": "FALSE",
            "text/latex": "FALSE",
            "text/plain": [
              "[1] FALSE"
            ]
          },
          "metadata": {}
        },
        {
          "output_type": "display_data",
          "data": {
            "text/html": [
              "TRUE"
            ],
            "text/markdown": "TRUE",
            "text/latex": "TRUE",
            "text/plain": [
              "[1] TRUE"
            ]
          },
          "metadata": {}
        }
      ]
    },
    {
      "cell_type": "code",
      "source": [
        "class(gene1)\n",
        "class(gene_name)\n",
        "class()"
      ],
      "metadata": {
        "colab": {
          "base_uri": "https://localhost:8080/",
          "height": 52
        },
        "id": "sPzAaOl-R9CF",
        "outputId": "330ee508-c8f8-4080-f6b3-a4b9bb7921be"
      },
      "execution_count": null,
      "outputs": [
        {
          "output_type": "display_data",
          "data": {
            "text/html": [
              "'numeric'"
            ],
            "text/markdown": "'numeric'",
            "text/latex": "'numeric'",
            "text/plain": [
              "[1] \"numeric\""
            ]
          },
          "metadata": {}
        },
        {
          "output_type": "display_data",
          "data": {
            "text/html": [
              "'character'"
            ],
            "text/markdown": "'character'",
            "text/latex": "'character'",
            "text/plain": [
              "[1] \"character\""
            ]
          },
          "metadata": {}
        }
      ]
    },
    {
      "cell_type": "markdown",
      "source": [
        "### Basic data structure\n"
      ],
      "metadata": {
        "id": "IZKRK-CFSyzI"
      }
    },
    {
      "cell_type": "markdown",
      "source": [
        "An atomic vector is a collection of multiple values (numeric, character, or logical) stored in a single object. You can create an atomic vector using the c() function."
      ],
      "metadata": {
        "id": "lGiraEgiTNJK"
      }
    },
    {
      "cell_type": "code",
      "source": [
        "sample_names <- c(\"N2_day1_rep1\",\t\"N2_day1_rep2\", \"N2_day1_rep3\",\n",
        "                  \"N2_day7_rep1\", \"N2_day7_rep2\", \"N2_day7_rep3\")\n",
        "sample_names"
      ],
      "metadata": {
        "colab": {
          "base_uri": "https://localhost:8080/",
          "height": 34
        },
        "id": "nfJ0pRXOShYC",
        "outputId": "a747a480-6b59-47e7-b418-fd2efecf04fd"
      },
      "execution_count": null,
      "outputs": [
        {
          "output_type": "display_data",
          "data": {
            "text/html": [
              "<style>\n",
              ".list-inline {list-style: none; margin:0; padding: 0}\n",
              ".list-inline>li {display: inline-block}\n",
              ".list-inline>li:not(:last-child)::after {content: \"\\00b7\"; padding: 0 .5ex}\n",
              "</style>\n",
              "<ol class=list-inline><li>'N2_day1_rep1'</li><li>'N2_day1_rep2'</li><li>'N2_day1_rep3'</li><li>'N2_day7_rep1'</li><li>'N2_day7_rep2'</li><li>'N2_day7_rep3'</li></ol>\n"
            ],
            "text/markdown": "1. 'N2_day1_rep1'\n2. 'N2_day1_rep2'\n3. 'N2_day1_rep3'\n4. 'N2_day7_rep1'\n5. 'N2_day7_rep2'\n6. 'N2_day7_rep3'\n\n\n",
            "text/latex": "\\begin{enumerate*}\n\\item 'N2\\_day1\\_rep1'\n\\item 'N2\\_day1\\_rep2'\n\\item 'N2\\_day1\\_rep3'\n\\item 'N2\\_day7\\_rep1'\n\\item 'N2\\_day7\\_rep2'\n\\item 'N2\\_day7\\_rep3'\n\\end{enumerate*}\n",
            "text/plain": [
              "[1] \"N2_day1_rep1\" \"N2_day1_rep2\" \"N2_day1_rep3\" \"N2_day7_rep1\" \"N2_day7_rep2\"\n",
              "[6] \"N2_day7_rep3\""
            ]
          },
          "metadata": {}
        }
      ]
    },
    {
      "cell_type": "code",
      "source": [
        "group <- gsub(\"_rep\\\\d\", \"\", sample_names)\n",
        "group"
      ],
      "metadata": {
        "colab": {
          "base_uri": "https://localhost:8080/",
          "height": 34
        },
        "id": "KOcbjY7IWBTg",
        "outputId": "284b8b57-e909-4485-b223-02ea01370e4a"
      },
      "execution_count": null,
      "outputs": [
        {
          "output_type": "display_data",
          "data": {
            "text/html": [
              "<style>\n",
              ".list-inline {list-style: none; margin:0; padding: 0}\n",
              ".list-inline>li {display: inline-block}\n",
              ".list-inline>li:not(:last-child)::after {content: \"\\00b7\"; padding: 0 .5ex}\n",
              "</style>\n",
              "<ol class=list-inline><li>'N2_day1'</li><li>'N2_day1'</li><li>'N2_day1'</li><li>'N2_day7'</li><li>'N2_day7'</li><li>'N2_day7'</li></ol>\n"
            ],
            "text/markdown": "1. 'N2_day1'\n2. 'N2_day1'\n3. 'N2_day1'\n4. 'N2_day7'\n5. 'N2_day7'\n6. 'N2_day7'\n\n\n",
            "text/latex": "\\begin{enumerate*}\n\\item 'N2\\_day1'\n\\item 'N2\\_day1'\n\\item 'N2\\_day1'\n\\item 'N2\\_day7'\n\\item 'N2\\_day7'\n\\item 'N2\\_day7'\n\\end{enumerate*}\n",
            "text/plain": [
              "[1] \"N2_day1\" \"N2_day1\" \"N2_day1\" \"N2_day7\" \"N2_day7\" \"N2_day7\""
            ]
          },
          "metadata": {}
        }
      ]
    },
    {
      "cell_type": "code",
      "source": [
        "coldata_df <- cbind(group = gsub(\"_rep\\\\d\", \"\", sample_names))\n",
        "coldata_df"
      ],
      "metadata": {
        "colab": {
          "base_uri": "https://localhost:8080/",
          "height": 289
        },
        "id": "kcVitoq7V7tM",
        "outputId": "831891bc-282b-49f5-b719-e89fcbd89a51"
      },
      "execution_count": null,
      "outputs": [
        {
          "output_type": "display_data",
          "data": {
            "text/html": [
              "<table class=\"dataframe\">\n",
              "<caption>A matrix: 6 × 1 of type chr</caption>\n",
              "<thead>\n",
              "\t<tr><th scope=col>group</th></tr>\n",
              "</thead>\n",
              "<tbody>\n",
              "\t<tr><td>N2_day1</td></tr>\n",
              "\t<tr><td>N2_day1</td></tr>\n",
              "\t<tr><td>N2_day1</td></tr>\n",
              "\t<tr><td>N2_day7</td></tr>\n",
              "\t<tr><td>N2_day7</td></tr>\n",
              "\t<tr><td>N2_day7</td></tr>\n",
              "</tbody>\n",
              "</table>\n"
            ],
            "text/markdown": "\nA matrix: 6 × 1 of type chr\n\n| group |\n|---|\n| N2_day1 |\n| N2_day1 |\n| N2_day1 |\n| N2_day7 |\n| N2_day7 |\n| N2_day7 |\n\n",
            "text/latex": "A matrix: 6 × 1 of type chr\n\\begin{tabular}{l}\n group\\\\\n\\hline\n\t N2\\_day1\\\\\n\t N2\\_day1\\\\\n\t N2\\_day1\\\\\n\t N2\\_day7\\\\\n\t N2\\_day7\\\\\n\t N2\\_day7\\\\\n\\end{tabular}\n",
            "text/plain": [
              "     group  \n",
              "[1,] N2_day1\n",
              "[2,] N2_day1\n",
              "[3,] N2_day1\n",
              "[4,] N2_day7\n",
              "[5,] N2_day7\n",
              "[6,] N2_day7"
            ]
          },
          "metadata": {}
        }
      ]
    },
    {
      "cell_type": "code",
      "source": [
        "rownames(coldata_df) = sample_names\n",
        "coldata_df"
      ],
      "metadata": {
        "colab": {
          "base_uri": "https://localhost:8080/",
          "height": 255
        },
        "id": "Rl1Uvu01WdS7",
        "outputId": "15d27c93-8316-4655-a0d9-39f25d42d93d"
      },
      "execution_count": null,
      "outputs": [
        {
          "output_type": "display_data",
          "data": {
            "text/html": [
              "<table class=\"dataframe\">\n",
              "<caption>A matrix: 6 × 1 of type chr</caption>\n",
              "<thead>\n",
              "\t<tr><th></th><th scope=col>group</th></tr>\n",
              "</thead>\n",
              "<tbody>\n",
              "\t<tr><th scope=row>N2_day1_rep1</th><td>N2_day1</td></tr>\n",
              "\t<tr><th scope=row>N2_day1_rep2</th><td>N2_day1</td></tr>\n",
              "\t<tr><th scope=row>N2_day1_rep3</th><td>N2_day1</td></tr>\n",
              "\t<tr><th scope=row>N2_day7_rep1</th><td>N2_day7</td></tr>\n",
              "\t<tr><th scope=row>N2_day7_rep2</th><td>N2_day7</td></tr>\n",
              "\t<tr><th scope=row>N2_day7_rep3</th><td>N2_day7</td></tr>\n",
              "</tbody>\n",
              "</table>\n"
            ],
            "text/markdown": "\nA matrix: 6 × 1 of type chr\n\n| <!--/--> | group |\n|---|---|\n| N2_day1_rep1 | N2_day1 |\n| N2_day1_rep2 | N2_day1 |\n| N2_day1_rep3 | N2_day1 |\n| N2_day7_rep1 | N2_day7 |\n| N2_day7_rep2 | N2_day7 |\n| N2_day7_rep3 | N2_day7 |\n\n",
            "text/latex": "A matrix: 6 × 1 of type chr\n\\begin{tabular}{r|l}\n  & group\\\\\n\\hline\n\tN2\\_day1\\_rep1 & N2\\_day1\\\\\n\tN2\\_day1\\_rep2 & N2\\_day1\\\\\n\tN2\\_day1\\_rep3 & N2\\_day1\\\\\n\tN2\\_day7\\_rep1 & N2\\_day7\\\\\n\tN2\\_day7\\_rep2 & N2\\_day7\\\\\n\tN2\\_day7\\_rep3 & N2\\_day7\\\\\n\\end{tabular}\n",
            "text/plain": [
              "             group  \n",
              "N2_day1_rep1 N2_day1\n",
              "N2_day1_rep2 N2_day1\n",
              "N2_day1_rep3 N2_day1\n",
              "N2_day7_rep1 N2_day7\n",
              "N2_day7_rep2 N2_day7\n",
              "N2_day7_rep3 N2_day7"
            ]
          },
          "metadata": {}
        }
      ]
    },
    {
      "cell_type": "code",
      "source": [
        "t(coldata_df)"
      ],
      "metadata": {
        "colab": {
          "base_uri": "https://localhost:8080/",
          "height": 98
        },
        "id": "USkWV9HLWuF8",
        "outputId": "8d93720d-6f56-4c78-9181-8f814004b986"
      },
      "execution_count": null,
      "outputs": [
        {
          "output_type": "display_data",
          "data": {
            "text/html": [
              "<table class=\"dataframe\">\n",
              "<caption>A matrix: 1 × 6 of type chr</caption>\n",
              "<thead>\n",
              "\t<tr><th></th><th scope=col>N2_day1_rep1</th><th scope=col>N2_day1_rep2</th><th scope=col>N2_day1_rep3</th><th scope=col>N2_day7_rep1</th><th scope=col>N2_day7_rep2</th><th scope=col>N2_day7_rep3</th></tr>\n",
              "</thead>\n",
              "<tbody>\n",
              "\t<tr><th scope=row>group</th><td>N2_day1</td><td>N2_day1</td><td>N2_day1</td><td>N2_day7</td><td>N2_day7</td><td>N2_day7</td></tr>\n",
              "</tbody>\n",
              "</table>\n"
            ],
            "text/markdown": "\nA matrix: 1 × 6 of type chr\n\n| <!--/--> | N2_day1_rep1 | N2_day1_rep2 | N2_day1_rep3 | N2_day7_rep1 | N2_day7_rep2 | N2_day7_rep3 |\n|---|---|---|---|---|---|---|\n| group | N2_day1 | N2_day1 | N2_day1 | N2_day7 | N2_day7 | N2_day7 |\n\n",
            "text/latex": "A matrix: 1 × 6 of type chr\n\\begin{tabular}{r|llllll}\n  & N2\\_day1\\_rep1 & N2\\_day1\\_rep2 & N2\\_day1\\_rep3 & N2\\_day7\\_rep1 & N2\\_day7\\_rep2 & N2\\_day7\\_rep3\\\\\n\\hline\n\tgroup & N2\\_day1 & N2\\_day1 & N2\\_day1 & N2\\_day7 & N2\\_day7 & N2\\_day7\\\\\n\\end{tabular}\n",
            "text/plain": [
              "      N2_day1_rep1 N2_day1_rep2 N2_day1_rep3 N2_day7_rep1 N2_day7_rep2\n",
              "group N2_day1      N2_day1      N2_day1      N2_day7      N2_day7     \n",
              "      N2_day7_rep3\n",
              "group N2_day7     "
            ]
          },
          "metadata": {}
        }
      ]
    },
    {
      "cell_type": "code",
      "source": [
        "is.matrix(coldata_df)\n",
        "coldata_df <- as.data.frame(coldata_df)\n",
        "is.data.frame(coldata_df)"
      ],
      "metadata": {
        "colab": {
          "base_uri": "https://localhost:8080/",
          "height": 52
        },
        "id": "ceTXLEJ9XB5h",
        "outputId": "8896ba39-48c6-41b7-c8cf-077532300f68"
      },
      "execution_count": null,
      "outputs": [
        {
          "output_type": "display_data",
          "data": {
            "text/html": [
              "TRUE"
            ],
            "text/markdown": "TRUE",
            "text/latex": "TRUE",
            "text/plain": [
              "[1] TRUE"
            ]
          },
          "metadata": {}
        },
        {
          "output_type": "display_data",
          "data": {
            "text/html": [
              "TRUE"
            ],
            "text/markdown": "TRUE",
            "text/latex": "TRUE",
            "text/plain": [
              "[1] TRUE"
            ]
          },
          "metadata": {}
        }
      ]
    },
    {
      "cell_type": "markdown",
      "source": [
        " A matrix can contain either character or numeric columns and a dataframe can contain both numeric and character columns."
      ],
      "metadata": {
        "id": "gtti37lZXZad"
      }
    },
    {
      "cell_type": "markdown",
      "source": [
        "A list is an ordered collection of objects, which can be any type of R objects (vectors, matrices, data frames, even lists).\n"
      ],
      "metadata": {
        "id": "OBo5p2u-IPxe"
      }
    },
    {
      "cell_type": "code",
      "source": [
        "count_files = list(\"sample\" = 'N2_day1_rep1.ReadsPerGene.out.tab', \"sample2\"='N2_day1_rep2.ReadsPerGene.out.tab')\n",
        "count_files"
      ],
      "metadata": {
        "colab": {
          "base_uri": "https://localhost:8080/",
          "height": 114
        },
        "id": "M5AAKMfFXYfc",
        "outputId": "64346879-f70e-4cca-f7c0-1d15a6643727"
      },
      "execution_count": 7,
      "outputs": [
        {
          "output_type": "display_data",
          "data": {
            "text/html": [
              "<dl>\n",
              "\t<dt>$sample</dt>\n",
              "\t\t<dd>'N2_day1_rep1.ReadsPerGene.out.tab'</dd>\n",
              "\t<dt>$sample2</dt>\n",
              "\t\t<dd>'N2_day1_rep2.ReadsPerGene.out.tab'</dd>\n",
              "</dl>\n"
            ],
            "text/markdown": "$sample\n:   'N2_day1_rep1.ReadsPerGene.out.tab'\n$sample2\n:   'N2_day1_rep2.ReadsPerGene.out.tab'\n\n\n",
            "text/latex": "\\begin{description}\n\\item[\\$sample] 'N2\\_day1\\_rep1.ReadsPerGene.out.tab'\n\\item[\\$sample2] 'N2\\_day1\\_rep2.ReadsPerGene.out.tab'\n\\end{description}\n",
            "text/plain": [
              "$sample\n",
              "[1] \"N2_day1_rep1.ReadsPerGene.out.tab\"\n",
              "\n",
              "$sample2\n",
              "[1] \"N2_day1_rep2.ReadsPerGene.out.tab\"\n"
            ]
          },
          "metadata": {}
        }
      ]
    },
    {
      "cell_type": "code",
      "source": [
        "gene_count = list(\"gene1\" = 10, \"gene2\"=20)"
      ],
      "metadata": {
        "id": "lmCpTK9LLyEn"
      },
      "execution_count": 11,
      "outputs": []
    },
    {
      "cell_type": "code",
      "source": [
        "lapply(gene_count, function(x){log2(x+1)})"
      ],
      "metadata": {
        "colab": {
          "base_uri": "https://localhost:8080/",
          "height": 114
        },
        "id": "R_BiON4gLRW6",
        "outputId": "dbf22243-0244-4a7d-ed4f-d0762f003b7f"
      },
      "execution_count": 12,
      "outputs": [
        {
          "output_type": "display_data",
          "data": {
            "text/html": [
              "<dl>\n",
              "\t<dt>$gene1</dt>\n",
              "\t\t<dd>3.4594316186373</dd>\n",
              "\t<dt>$gene2</dt>\n",
              "\t\t<dd>4.39231742277876</dd>\n",
              "</dl>\n"
            ],
            "text/markdown": "$gene1\n:   3.4594316186373\n$gene2\n:   4.39231742277876\n\n\n",
            "text/latex": "\\begin{description}\n\\item[\\$gene1] 3.4594316186373\n\\item[\\$gene2] 4.39231742277876\n\\end{description}\n",
            "text/plain": [
              "$gene1\n",
              "[1] 3.459432\n",
              "\n",
              "$gene2\n",
              "[1] 4.392317\n"
            ]
          },
          "metadata": {}
        }
      ]
    },
    {
      "cell_type": "code",
      "source": [
        "log2_transform <- function(x){\n",
        "    log2(x+1)\n",
        "}\n",
        "lapply(gene_count, log2_transform)"
      ],
      "metadata": {
        "colab": {
          "base_uri": "https://localhost:8080/",
          "height": 114
        },
        "id": "j5co2f0CMjOD",
        "outputId": "24731d9a-76e9-466d-c034-60578617c62a"
      },
      "execution_count": 14,
      "outputs": [
        {
          "output_type": "display_data",
          "data": {
            "text/html": [
              "<dl>\n",
              "\t<dt>$gene1</dt>\n",
              "\t\t<dd>3.4594316186373</dd>\n",
              "\t<dt>$gene2</dt>\n",
              "\t\t<dd>4.39231742277876</dd>\n",
              "</dl>\n"
            ],
            "text/markdown": "$gene1\n:   3.4594316186373\n$gene2\n:   4.39231742277876\n\n\n",
            "text/latex": "\\begin{description}\n\\item[\\$gene1] 3.4594316186373\n\\item[\\$gene2] 4.39231742277876\n\\end{description}\n",
            "text/plain": [
              "$gene1\n",
              "[1] 3.459432\n",
              "\n",
              "$gene2\n",
              "[1] 4.392317\n"
            ]
          },
          "metadata": {}
        }
      ]
    },
    {
      "cell_type": "code",
      "source": [],
      "metadata": {
        "id": "A41U2tmcMfvE"
      },
      "execution_count": null,
      "outputs": []
    },
    {
      "cell_type": "markdown",
      "source": [],
      "metadata": {
        "id": "5UEaeWrENu4f"
      }
    },
    {
      "cell_type": "markdown",
      "source": [
        "### Dealing with text files"
      ],
      "metadata": {
        "id": "KG-HgarPNu89"
      }
    },
    {
      "cell_type": "code",
      "source": [
        "getwd()\n",
        "#setwd()"
      ],
      "metadata": {
        "colab": {
          "base_uri": "https://localhost:8080/",
          "height": 34
        },
        "id": "R4BeHSVON3vJ",
        "outputId": "fb6926a5-7f26-4b0d-8023-d24c6547885b"
      },
      "execution_count": 26,
      "outputs": [
        {
          "output_type": "display_data",
          "data": {
            "text/html": [
              "'/content'"
            ],
            "text/markdown": "'/content'",
            "text/latex": "'/content'",
            "text/plain": [
              "[1] \"/content\""
            ]
          },
          "metadata": {}
        }
      ]
    },
    {
      "cell_type": "code",
      "source": [
        "list.files()"
      ],
      "metadata": {
        "colab": {
          "base_uri": "https://localhost:8080/",
          "height": 34
        },
        "id": "QoWsdy_RN-R_",
        "outputId": "ac534909-9388-42ff-9759-8c069790cc8f"
      },
      "execution_count": 27,
      "outputs": [
        {
          "output_type": "display_data",
          "data": {
            "text/html": [
              "<style>\n",
              ".list-inline {list-style: none; margin:0; padding: 0}\n",
              ".list-inline>li {display: inline-block}\n",
              ".list-inline>li:not(:last-child)::after {content: \"\\00b7\"; padding: 0 .5ex}\n",
              "</style>\n",
              "<ol class=list-inline><li>'N2_day1_rep1.ReadsPerGene.out.tab'</li><li>'N2_day1_rep2.ReadsPerGene.out.tab'</li><li>'N2_day1_rep3.ReadsPerGene.out.tab'</li><li>'N2_day7_rep1.ReadsPerGene.out.tab'</li><li>'N2_day7_rep2.ReadsPerGene.out.tab'</li><li>'N2_day7_rep3.ReadsPerGene.out.tab'</li><li>'sample_data'</li></ol>\n"
            ],
            "text/markdown": "1. 'N2_day1_rep1.ReadsPerGene.out.tab'\n2. 'N2_day1_rep2.ReadsPerGene.out.tab'\n3. 'N2_day1_rep3.ReadsPerGene.out.tab'\n4. 'N2_day7_rep1.ReadsPerGene.out.tab'\n5. 'N2_day7_rep2.ReadsPerGene.out.tab'\n6. 'N2_day7_rep3.ReadsPerGene.out.tab'\n7. 'sample_data'\n\n\n",
            "text/latex": "\\begin{enumerate*}\n\\item 'N2\\_day1\\_rep1.ReadsPerGene.out.tab'\n\\item 'N2\\_day1\\_rep2.ReadsPerGene.out.tab'\n\\item 'N2\\_day1\\_rep3.ReadsPerGene.out.tab'\n\\item 'N2\\_day7\\_rep1.ReadsPerGene.out.tab'\n\\item 'N2\\_day7\\_rep2.ReadsPerGene.out.tab'\n\\item 'N2\\_day7\\_rep3.ReadsPerGene.out.tab'\n\\item 'sample\\_data'\n\\end{enumerate*}\n",
            "text/plain": [
              "[1] \"N2_day1_rep1.ReadsPerGene.out.tab\" \"N2_day1_rep2.ReadsPerGene.out.tab\"\n",
              "[3] \"N2_day1_rep3.ReadsPerGene.out.tab\" \"N2_day7_rep1.ReadsPerGene.out.tab\"\n",
              "[5] \"N2_day7_rep2.ReadsPerGene.out.tab\" \"N2_day7_rep3.ReadsPerGene.out.tab\"\n",
              "[7] \"sample_data\"                      "
            ]
          },
          "metadata": {}
        }
      ]
    },
    {
      "cell_type": "code",
      "source": [
        "file_paths <- list.files(pattern = \"*..ReadsPerGene.out.tab\")\n",
        "file_paths"
      ],
      "metadata": {
        "colab": {
          "base_uri": "https://localhost:8080/",
          "height": 34
        },
        "id": "r6_nC9PUIlID",
        "outputId": "17965794-5aa5-4e0c-b623-5cf0e746b3f2"
      },
      "execution_count": 15,
      "outputs": [
        {
          "output_type": "display_data",
          "data": {
            "text/html": [
              "<style>\n",
              ".list-inline {list-style: none; margin:0; padding: 0}\n",
              ".list-inline>li {display: inline-block}\n",
              ".list-inline>li:not(:last-child)::after {content: \"\\00b7\"; padding: 0 .5ex}\n",
              "</style>\n",
              "<ol class=list-inline><li>'N2_day1_rep1.ReadsPerGene.out.tab'</li><li>'N2_day1_rep2.ReadsPerGene.out.tab'</li><li>'N2_day1_rep3.ReadsPerGene.out.tab'</li><li>'N2_day7_rep1.ReadsPerGene.out.tab'</li><li>'N2_day7_rep2.ReadsPerGene.out.tab'</li><li>'N2_day7_rep3.ReadsPerGene.out.tab'</li></ol>\n"
            ],
            "text/markdown": "1. 'N2_day1_rep1.ReadsPerGene.out.tab'\n2. 'N2_day1_rep2.ReadsPerGene.out.tab'\n3. 'N2_day1_rep3.ReadsPerGene.out.tab'\n4. 'N2_day7_rep1.ReadsPerGene.out.tab'\n5. 'N2_day7_rep2.ReadsPerGene.out.tab'\n6. 'N2_day7_rep3.ReadsPerGene.out.tab'\n\n\n",
            "text/latex": "\\begin{enumerate*}\n\\item 'N2\\_day1\\_rep1.ReadsPerGene.out.tab'\n\\item 'N2\\_day1\\_rep2.ReadsPerGene.out.tab'\n\\item 'N2\\_day1\\_rep3.ReadsPerGene.out.tab'\n\\item 'N2\\_day7\\_rep1.ReadsPerGene.out.tab'\n\\item 'N2\\_day7\\_rep2.ReadsPerGene.out.tab'\n\\item 'N2\\_day7\\_rep3.ReadsPerGene.out.tab'\n\\end{enumerate*}\n",
            "text/plain": [
              "[1] \"N2_day1_rep1.ReadsPerGene.out.tab\" \"N2_day1_rep2.ReadsPerGene.out.tab\"\n",
              "[3] \"N2_day1_rep3.ReadsPerGene.out.tab\" \"N2_day7_rep1.ReadsPerGene.out.tab\"\n",
              "[5] \"N2_day7_rep2.ReadsPerGene.out.tab\" \"N2_day7_rep3.ReadsPerGene.out.tab\""
            ]
          },
          "metadata": {}
        }
      ]
    },
    {
      "cell_type": "code",
      "source": [
        "tab_N2_day1_rep1 <- read.table('N2_day1_rep1.ReadsPerGene.out.tab')\n",
        "head(tab_N2_day1_rep1, 5)"
      ],
      "metadata": {
        "colab": {
          "base_uri": "https://localhost:8080/",
          "height": 255
        },
        "id": "zt7EiXIOM05Q",
        "outputId": "fa769cd0-7df2-4f43-e8cd-180c3064af5c"
      },
      "execution_count": 21,
      "outputs": [
        {
          "output_type": "display_data",
          "data": {
            "text/html": [
              "<table class=\"dataframe\">\n",
              "<caption>A data.frame: 5 × 4</caption>\n",
              "<thead>\n",
              "\t<tr><th></th><th scope=col>V1</th><th scope=col>V2</th><th scope=col>V3</th><th scope=col>V4</th></tr>\n",
              "\t<tr><th></th><th scope=col>&lt;chr&gt;</th><th scope=col>&lt;int&gt;</th><th scope=col>&lt;int&gt;</th><th scope=col>&lt;int&gt;</th></tr>\n",
              "</thead>\n",
              "<tbody>\n",
              "\t<tr><th scope=row>1</th><td>N_unmapped    </td><td>1332776</td><td> 1332776</td><td> 1332776</td></tr>\n",
              "\t<tr><th scope=row>2</th><td>N_multimapping</td><td>1540190</td><td> 1540190</td><td> 1540190</td></tr>\n",
              "\t<tr><th scope=row>3</th><td>N_noFeature   </td><td> 157102</td><td>19017455</td><td>18933214</td></tr>\n",
              "\t<tr><th scope=row>4</th><td>N_ambiguous   </td><td> 536422</td><td>  128854</td><td>  120342</td></tr>\n",
              "\t<tr><th scope=row>5</th><td>WBGene00000003</td><td>    341</td><td>     161</td><td>     180</td></tr>\n",
              "</tbody>\n",
              "</table>\n"
            ],
            "text/markdown": "\nA data.frame: 5 × 4\n\n| <!--/--> | V1 &lt;chr&gt; | V2 &lt;int&gt; | V3 &lt;int&gt; | V4 &lt;int&gt; |\n|---|---|---|---|---|\n| 1 | N_unmapped     | 1332776 |  1332776 |  1332776 |\n| 2 | N_multimapping | 1540190 |  1540190 |  1540190 |\n| 3 | N_noFeature    |  157102 | 19017455 | 18933214 |\n| 4 | N_ambiguous    |  536422 |   128854 |   120342 |\n| 5 | WBGene00000003 |     341 |      161 |      180 |\n\n",
            "text/latex": "A data.frame: 5 × 4\n\\begin{tabular}{r|llll}\n  & V1 & V2 & V3 & V4\\\\\n  & <chr> & <int> & <int> & <int>\\\\\n\\hline\n\t1 & N\\_unmapped     & 1332776 &  1332776 &  1332776\\\\\n\t2 & N\\_multimapping & 1540190 &  1540190 &  1540190\\\\\n\t3 & N\\_noFeature    &  157102 & 19017455 & 18933214\\\\\n\t4 & N\\_ambiguous    &  536422 &   128854 &   120342\\\\\n\t5 & WBGene00000003 &     341 &      161 &      180\\\\\n\\end{tabular}\n",
            "text/plain": [
              "  V1             V2      V3       V4      \n",
              "1 N_unmapped     1332776  1332776  1332776\n",
              "2 N_multimapping 1540190  1540190  1540190\n",
              "3 N_noFeature     157102 19017455 18933214\n",
              "4 N_ambiguous     536422   128854   120342\n",
              "5 WBGene00000003     341      161      180"
            ]
          },
          "metadata": {}
        }
      ]
    },
    {
      "cell_type": "code",
      "source": [
        "tab_N2_day1_rep2 <- read.table('N2_day1_rep2.ReadsPerGene.out.tab')\n",
        "head(tab_N2_day1_rep2,5)"
      ],
      "metadata": {
        "colab": {
          "base_uri": "https://localhost:8080/",
          "height": 255
        },
        "id": "AcbjU-1INNZ1",
        "outputId": "2208a76c-477e-4d32-bb39-5703e8f52cff"
      },
      "execution_count": 22,
      "outputs": [
        {
          "output_type": "display_data",
          "data": {
            "text/html": [
              "<table class=\"dataframe\">\n",
              "<caption>A data.frame: 5 × 4</caption>\n",
              "<thead>\n",
              "\t<tr><th></th><th scope=col>V1</th><th scope=col>V2</th><th scope=col>V3</th><th scope=col>V4</th></tr>\n",
              "\t<tr><th></th><th scope=col>&lt;chr&gt;</th><th scope=col>&lt;int&gt;</th><th scope=col>&lt;int&gt;</th><th scope=col>&lt;int&gt;</th></tr>\n",
              "</thead>\n",
              "<tbody>\n",
              "\t<tr><th scope=row>1</th><td>N_unmapped    </td><td>1400596</td><td> 1400596</td><td> 1400596</td></tr>\n",
              "\t<tr><th scope=row>2</th><td>N_multimapping</td><td>1305129</td><td> 1305129</td><td> 1305129</td></tr>\n",
              "\t<tr><th scope=row>3</th><td>N_noFeature   </td><td> 152183</td><td>15009786</td><td>14975925</td></tr>\n",
              "\t<tr><th scope=row>4</th><td>N_ambiguous   </td><td> 439830</td><td>  104631</td><td>   98489</td></tr>\n",
              "\t<tr><th scope=row>5</th><td>WBGene00000003</td><td>    415</td><td>     198</td><td>     217</td></tr>\n",
              "</tbody>\n",
              "</table>\n"
            ],
            "text/markdown": "\nA data.frame: 5 × 4\n\n| <!--/--> | V1 &lt;chr&gt; | V2 &lt;int&gt; | V3 &lt;int&gt; | V4 &lt;int&gt; |\n|---|---|---|---|---|\n| 1 | N_unmapped     | 1400596 |  1400596 |  1400596 |\n| 2 | N_multimapping | 1305129 |  1305129 |  1305129 |\n| 3 | N_noFeature    |  152183 | 15009786 | 14975925 |\n| 4 | N_ambiguous    |  439830 |   104631 |    98489 |\n| 5 | WBGene00000003 |     415 |      198 |      217 |\n\n",
            "text/latex": "A data.frame: 5 × 4\n\\begin{tabular}{r|llll}\n  & V1 & V2 & V3 & V4\\\\\n  & <chr> & <int> & <int> & <int>\\\\\n\\hline\n\t1 & N\\_unmapped     & 1400596 &  1400596 &  1400596\\\\\n\t2 & N\\_multimapping & 1305129 &  1305129 &  1305129\\\\\n\t3 & N\\_noFeature    &  152183 & 15009786 & 14975925\\\\\n\t4 & N\\_ambiguous    &  439830 &   104631 &    98489\\\\\n\t5 & WBGene00000003 &     415 &      198 &      217\\\\\n\\end{tabular}\n",
            "text/plain": [
              "  V1             V2      V3       V4      \n",
              "1 N_unmapped     1400596  1400596  1400596\n",
              "2 N_multimapping 1305129  1305129  1305129\n",
              "3 N_noFeature     152183 15009786 14975925\n",
              "4 N_ambiguous     439830   104631    98489\n",
              "5 WBGene00000003     415      198      217"
            ]
          },
          "metadata": {}
        }
      ]
    },
    {
      "cell_type": "code",
      "source": [
        "tab_N2_day1_rep3 <- read.table('N2_day1_rep3.ReadsPerGene.out.tab')\n",
        "head(tab_N2_day1_rep3,5)"
      ],
      "metadata": {
        "colab": {
          "base_uri": "https://localhost:8080/",
          "height": 255
        },
        "id": "6uLMa_dQNihM",
        "outputId": "60dad270-b2ef-4844-fd07-8111927be5a1"
      },
      "execution_count": 23,
      "outputs": [
        {
          "output_type": "display_data",
          "data": {
            "text/html": [
              "<table class=\"dataframe\">\n",
              "<caption>A data.frame: 5 × 4</caption>\n",
              "<thead>\n",
              "\t<tr><th></th><th scope=col>V1</th><th scope=col>V2</th><th scope=col>V3</th><th scope=col>V4</th></tr>\n",
              "\t<tr><th></th><th scope=col>&lt;chr&gt;</th><th scope=col>&lt;int&gt;</th><th scope=col>&lt;int&gt;</th><th scope=col>&lt;int&gt;</th></tr>\n",
              "</thead>\n",
              "<tbody>\n",
              "\t<tr><th scope=row>1</th><td>N_unmapped    </td><td>5887223</td><td> 5887223</td><td> 5887223</td></tr>\n",
              "\t<tr><th scope=row>2</th><td>N_multimapping</td><td>1557570</td><td> 1557570</td><td> 1557570</td></tr>\n",
              "\t<tr><th scope=row>3</th><td>N_noFeature   </td><td> 184441</td><td>17612359</td><td>17574940</td></tr>\n",
              "\t<tr><th scope=row>4</th><td>N_ambiguous   </td><td> 514559</td><td>  122385</td><td>  115498</td></tr>\n",
              "\t<tr><th scope=row>5</th><td>WBGene00000003</td><td>    411</td><td>     175</td><td>     236</td></tr>\n",
              "</tbody>\n",
              "</table>\n"
            ],
            "text/markdown": "\nA data.frame: 5 × 4\n\n| <!--/--> | V1 &lt;chr&gt; | V2 &lt;int&gt; | V3 &lt;int&gt; | V4 &lt;int&gt; |\n|---|---|---|---|---|\n| 1 | N_unmapped     | 5887223 |  5887223 |  5887223 |\n| 2 | N_multimapping | 1557570 |  1557570 |  1557570 |\n| 3 | N_noFeature    |  184441 | 17612359 | 17574940 |\n| 4 | N_ambiguous    |  514559 |   122385 |   115498 |\n| 5 | WBGene00000003 |     411 |      175 |      236 |\n\n",
            "text/latex": "A data.frame: 5 × 4\n\\begin{tabular}{r|llll}\n  & V1 & V2 & V3 & V4\\\\\n  & <chr> & <int> & <int> & <int>\\\\\n\\hline\n\t1 & N\\_unmapped     & 5887223 &  5887223 &  5887223\\\\\n\t2 & N\\_multimapping & 1557570 &  1557570 &  1557570\\\\\n\t3 & N\\_noFeature    &  184441 & 17612359 & 17574940\\\\\n\t4 & N\\_ambiguous    &  514559 &   122385 &   115498\\\\\n\t5 & WBGene00000003 &     411 &      175 &      236\\\\\n\\end{tabular}\n",
            "text/plain": [
              "  V1             V2      V3       V4      \n",
              "1 N_unmapped     5887223  5887223  5887223\n",
              "2 N_multimapping 1557570  1557570  1557570\n",
              "3 N_noFeature     184441 17612359 17574940\n",
              "4 N_ambiguous     514559   122385   115498\n",
              "5 WBGene00000003     411      175      236"
            ]
          },
          "metadata": {}
        }
      ]
    },
    {
      "cell_type": "code",
      "source": [
        "library(dplyr)"
      ],
      "metadata": {
        "colab": {
          "base_uri": "https://localhost:8080/"
        },
        "id": "IQbDepACOy2h",
        "outputId": "253b3fd8-2843-4f61-ff0e-99dbe5a5df51"
      },
      "execution_count": 32,
      "outputs": [
        {
          "output_type": "stream",
          "name": "stderr",
          "text": [
            "\n",
            "Attaching package: ‘dplyr’\n",
            "\n",
            "\n",
            "The following objects are masked from ‘package:stats’:\n",
            "\n",
            "    filter, lag\n",
            "\n",
            "\n",
            "The following objects are masked from ‘package:base’:\n",
            "\n",
            "    intersect, setdiff, setequal, union\n",
            "\n",
            "\n"
          ]
        }
      ]
    },
    {
      "cell_type": "code",
      "source": [
        "tab_N2_day1_rep1 <- tab_N2_day1_rep1 %>% select(V1, V2)\n",
        "head(tab_N2_day1_rep1, 5)\n",
        "tab_N2_day1_rep2 <- tab_N2_day1_rep2[, c(\"V1\", \"V2\")]\n",
        "head(tab_N2_day1_rep2, 5)\n",
        "tab_N2_day1_rep3 <- tab_N2_day1_rep3[, c(\"V1\", \"V2\")]\n",
        "head(tab_N2_day1_rep3, 5)"
      ],
      "metadata": {
        "colab": {
          "base_uri": "https://localhost:8080/",
          "height": 730
        },
        "id": "pa5Ed41wNoJk",
        "outputId": "7cfdd9c6-aba0-4aae-e5ed-518a660970a6"
      },
      "execution_count": 33,
      "outputs": [
        {
          "output_type": "display_data",
          "data": {
            "text/html": [
              "<table class=\"dataframe\">\n",
              "<caption>A data.frame: 5 × 2</caption>\n",
              "<thead>\n",
              "\t<tr><th></th><th scope=col>V1</th><th scope=col>V2</th></tr>\n",
              "\t<tr><th></th><th scope=col>&lt;chr&gt;</th><th scope=col>&lt;int&gt;</th></tr>\n",
              "</thead>\n",
              "<tbody>\n",
              "\t<tr><th scope=row>1</th><td>N_unmapped    </td><td>1332776</td></tr>\n",
              "\t<tr><th scope=row>2</th><td>N_multimapping</td><td>1540190</td></tr>\n",
              "\t<tr><th scope=row>3</th><td>N_noFeature   </td><td> 157102</td></tr>\n",
              "\t<tr><th scope=row>4</th><td>N_ambiguous   </td><td> 536422</td></tr>\n",
              "\t<tr><th scope=row>5</th><td>WBGene00000003</td><td>    341</td></tr>\n",
              "</tbody>\n",
              "</table>\n"
            ],
            "text/markdown": "\nA data.frame: 5 × 2\n\n| <!--/--> | V1 &lt;chr&gt; | V2 &lt;int&gt; |\n|---|---|---|\n| 1 | N_unmapped     | 1332776 |\n| 2 | N_multimapping | 1540190 |\n| 3 | N_noFeature    |  157102 |\n| 4 | N_ambiguous    |  536422 |\n| 5 | WBGene00000003 |     341 |\n\n",
            "text/latex": "A data.frame: 5 × 2\n\\begin{tabular}{r|ll}\n  & V1 & V2\\\\\n  & <chr> & <int>\\\\\n\\hline\n\t1 & N\\_unmapped     & 1332776\\\\\n\t2 & N\\_multimapping & 1540190\\\\\n\t3 & N\\_noFeature    &  157102\\\\\n\t4 & N\\_ambiguous    &  536422\\\\\n\t5 & WBGene00000003 &     341\\\\\n\\end{tabular}\n",
            "text/plain": [
              "  V1             V2     \n",
              "1 N_unmapped     1332776\n",
              "2 N_multimapping 1540190\n",
              "3 N_noFeature     157102\n",
              "4 N_ambiguous     536422\n",
              "5 WBGene00000003     341"
            ]
          },
          "metadata": {}
        },
        {
          "output_type": "display_data",
          "data": {
            "text/html": [
              "<table class=\"dataframe\">\n",
              "<caption>A data.frame: 5 × 2</caption>\n",
              "<thead>\n",
              "\t<tr><th></th><th scope=col>V1</th><th scope=col>V2</th></tr>\n",
              "\t<tr><th></th><th scope=col>&lt;chr&gt;</th><th scope=col>&lt;int&gt;</th></tr>\n",
              "</thead>\n",
              "<tbody>\n",
              "\t<tr><th scope=row>1</th><td>N_unmapped    </td><td>1400596</td></tr>\n",
              "\t<tr><th scope=row>2</th><td>N_multimapping</td><td>1305129</td></tr>\n",
              "\t<tr><th scope=row>3</th><td>N_noFeature   </td><td> 152183</td></tr>\n",
              "\t<tr><th scope=row>4</th><td>N_ambiguous   </td><td> 439830</td></tr>\n",
              "\t<tr><th scope=row>5</th><td>WBGene00000003</td><td>    415</td></tr>\n",
              "</tbody>\n",
              "</table>\n"
            ],
            "text/markdown": "\nA data.frame: 5 × 2\n\n| <!--/--> | V1 &lt;chr&gt; | V2 &lt;int&gt; |\n|---|---|---|\n| 1 | N_unmapped     | 1400596 |\n| 2 | N_multimapping | 1305129 |\n| 3 | N_noFeature    |  152183 |\n| 4 | N_ambiguous    |  439830 |\n| 5 | WBGene00000003 |     415 |\n\n",
            "text/latex": "A data.frame: 5 × 2\n\\begin{tabular}{r|ll}\n  & V1 & V2\\\\\n  & <chr> & <int>\\\\\n\\hline\n\t1 & N\\_unmapped     & 1400596\\\\\n\t2 & N\\_multimapping & 1305129\\\\\n\t3 & N\\_noFeature    &  152183\\\\\n\t4 & N\\_ambiguous    &  439830\\\\\n\t5 & WBGene00000003 &     415\\\\\n\\end{tabular}\n",
            "text/plain": [
              "  V1             V2     \n",
              "1 N_unmapped     1400596\n",
              "2 N_multimapping 1305129\n",
              "3 N_noFeature     152183\n",
              "4 N_ambiguous     439830\n",
              "5 WBGene00000003     415"
            ]
          },
          "metadata": {}
        },
        {
          "output_type": "display_data",
          "data": {
            "text/html": [
              "<table class=\"dataframe\">\n",
              "<caption>A data.frame: 5 × 2</caption>\n",
              "<thead>\n",
              "\t<tr><th></th><th scope=col>V1</th><th scope=col>V2</th></tr>\n",
              "\t<tr><th></th><th scope=col>&lt;chr&gt;</th><th scope=col>&lt;int&gt;</th></tr>\n",
              "</thead>\n",
              "<tbody>\n",
              "\t<tr><th scope=row>1</th><td>N_unmapped    </td><td>5887223</td></tr>\n",
              "\t<tr><th scope=row>2</th><td>N_multimapping</td><td>1557570</td></tr>\n",
              "\t<tr><th scope=row>3</th><td>N_noFeature   </td><td> 184441</td></tr>\n",
              "\t<tr><th scope=row>4</th><td>N_ambiguous   </td><td> 514559</td></tr>\n",
              "\t<tr><th scope=row>5</th><td>WBGene00000003</td><td>    411</td></tr>\n",
              "</tbody>\n",
              "</table>\n"
            ],
            "text/markdown": "\nA data.frame: 5 × 2\n\n| <!--/--> | V1 &lt;chr&gt; | V2 &lt;int&gt; |\n|---|---|---|\n| 1 | N_unmapped     | 5887223 |\n| 2 | N_multimapping | 1557570 |\n| 3 | N_noFeature    |  184441 |\n| 4 | N_ambiguous    |  514559 |\n| 5 | WBGene00000003 |     411 |\n\n",
            "text/latex": "A data.frame: 5 × 2\n\\begin{tabular}{r|ll}\n  & V1 & V2\\\\\n  & <chr> & <int>\\\\\n\\hline\n\t1 & N\\_unmapped     & 5887223\\\\\n\t2 & N\\_multimapping & 1557570\\\\\n\t3 & N\\_noFeature    &  184441\\\\\n\t4 & N\\_ambiguous    &  514559\\\\\n\t5 & WBGene00000003 &     411\\\\\n\\end{tabular}\n",
            "text/plain": [
              "  V1             V2     \n",
              "1 N_unmapped     5887223\n",
              "2 N_multimapping 1557570\n",
              "3 N_noFeature     184441\n",
              "4 N_ambiguous     514559\n",
              "5 WBGene00000003     411"
            ]
          },
          "metadata": {}
        }
      ]
    },
    {
      "cell_type": "code",
      "source": [
        "df_merged <- merge(tab_N2_day1_rep1, tab_N2_day1_rep2, by = \"V1\")\n",
        "head(df_merged)\n",
        "df_merged <- merge(df_merged, tab_N2_day1_rep3, by = \"V1\")\n",
        "head(df_merged)"
      ],
      "metadata": {
        "colab": {
          "base_uri": "https://localhost:8080/",
          "height": 555
        },
        "id": "RSblwS_hObLG",
        "outputId": "1fc26c52-ed9a-4e2c-d941-4172cd75d6be"
      },
      "execution_count": 36,
      "outputs": [
        {
          "output_type": "display_data",
          "data": {
            "text/html": [
              "<table class=\"dataframe\">\n",
              "<caption>A data.frame: 6 × 3</caption>\n",
              "<thead>\n",
              "\t<tr><th></th><th scope=col>V1</th><th scope=col>V2.x</th><th scope=col>V2.y</th></tr>\n",
              "\t<tr><th></th><th scope=col>&lt;chr&gt;</th><th scope=col>&lt;int&gt;</th><th scope=col>&lt;int&gt;</th></tr>\n",
              "</thead>\n",
              "<tbody>\n",
              "\t<tr><th scope=row>1</th><td>N_ambiguous   </td><td> 536422</td><td> 439830</td></tr>\n",
              "\t<tr><th scope=row>2</th><td>N_multimapping</td><td>1540190</td><td>1305129</td></tr>\n",
              "\t<tr><th scope=row>3</th><td>N_noFeature   </td><td> 157102</td><td> 152183</td></tr>\n",
              "\t<tr><th scope=row>4</th><td>N_unmapped    </td><td>1332776</td><td>1400596</td></tr>\n",
              "\t<tr><th scope=row>5</th><td>WBGene00000001</td><td>   3227</td><td>   2168</td></tr>\n",
              "\t<tr><th scope=row>6</th><td>WBGene00000002</td><td>    270</td><td>    203</td></tr>\n",
              "</tbody>\n",
              "</table>\n"
            ],
            "text/markdown": "\nA data.frame: 6 × 3\n\n| <!--/--> | V1 &lt;chr&gt; | V2.x &lt;int&gt; | V2.y &lt;int&gt; |\n|---|---|---|---|\n| 1 | N_ambiguous    |  536422 |  439830 |\n| 2 | N_multimapping | 1540190 | 1305129 |\n| 3 | N_noFeature    |  157102 |  152183 |\n| 4 | N_unmapped     | 1332776 | 1400596 |\n| 5 | WBGene00000001 |    3227 |    2168 |\n| 6 | WBGene00000002 |     270 |     203 |\n\n",
            "text/latex": "A data.frame: 6 × 3\n\\begin{tabular}{r|lll}\n  & V1 & V2.x & V2.y\\\\\n  & <chr> & <int> & <int>\\\\\n\\hline\n\t1 & N\\_ambiguous    &  536422 &  439830\\\\\n\t2 & N\\_multimapping & 1540190 & 1305129\\\\\n\t3 & N\\_noFeature    &  157102 &  152183\\\\\n\t4 & N\\_unmapped     & 1332776 & 1400596\\\\\n\t5 & WBGene00000001 &    3227 &    2168\\\\\n\t6 & WBGene00000002 &     270 &     203\\\\\n\\end{tabular}\n",
            "text/plain": [
              "  V1             V2.x    V2.y   \n",
              "1 N_ambiguous     536422  439830\n",
              "2 N_multimapping 1540190 1305129\n",
              "3 N_noFeature     157102  152183\n",
              "4 N_unmapped     1332776 1400596\n",
              "5 WBGene00000001    3227    2168\n",
              "6 WBGene00000002     270     203"
            ]
          },
          "metadata": {}
        },
        {
          "output_type": "display_data",
          "data": {
            "text/html": [
              "<table class=\"dataframe\">\n",
              "<caption>A data.frame: 6 × 4</caption>\n",
              "<thead>\n",
              "\t<tr><th></th><th scope=col>V1</th><th scope=col>V2.x</th><th scope=col>V2.y</th><th scope=col>V2</th></tr>\n",
              "\t<tr><th></th><th scope=col>&lt;chr&gt;</th><th scope=col>&lt;int&gt;</th><th scope=col>&lt;int&gt;</th><th scope=col>&lt;int&gt;</th></tr>\n",
              "</thead>\n",
              "<tbody>\n",
              "\t<tr><th scope=row>1</th><td>N_ambiguous   </td><td> 536422</td><td> 439830</td><td> 514559</td></tr>\n",
              "\t<tr><th scope=row>2</th><td>N_multimapping</td><td>1540190</td><td>1305129</td><td>1557570</td></tr>\n",
              "\t<tr><th scope=row>3</th><td>N_noFeature   </td><td> 157102</td><td> 152183</td><td> 184441</td></tr>\n",
              "\t<tr><th scope=row>4</th><td>N_unmapped    </td><td>1332776</td><td>1400596</td><td>5887223</td></tr>\n",
              "\t<tr><th scope=row>5</th><td>WBGene00000001</td><td>   3227</td><td>   2168</td><td>   2589</td></tr>\n",
              "\t<tr><th scope=row>6</th><td>WBGene00000002</td><td>    270</td><td>    203</td><td>    266</td></tr>\n",
              "</tbody>\n",
              "</table>\n"
            ],
            "text/markdown": "\nA data.frame: 6 × 4\n\n| <!--/--> | V1 &lt;chr&gt; | V2.x &lt;int&gt; | V2.y &lt;int&gt; | V2 &lt;int&gt; |\n|---|---|---|---|---|\n| 1 | N_ambiguous    |  536422 |  439830 |  514559 |\n| 2 | N_multimapping | 1540190 | 1305129 | 1557570 |\n| 3 | N_noFeature    |  157102 |  152183 |  184441 |\n| 4 | N_unmapped     | 1332776 | 1400596 | 5887223 |\n| 5 | WBGene00000001 |    3227 |    2168 |    2589 |\n| 6 | WBGene00000002 |     270 |     203 |     266 |\n\n",
            "text/latex": "A data.frame: 6 × 4\n\\begin{tabular}{r|llll}\n  & V1 & V2.x & V2.y & V2\\\\\n  & <chr> & <int> & <int> & <int>\\\\\n\\hline\n\t1 & N\\_ambiguous    &  536422 &  439830 &  514559\\\\\n\t2 & N\\_multimapping & 1540190 & 1305129 & 1557570\\\\\n\t3 & N\\_noFeature    &  157102 &  152183 &  184441\\\\\n\t4 & N\\_unmapped     & 1332776 & 1400596 & 5887223\\\\\n\t5 & WBGene00000001 &    3227 &    2168 &    2589\\\\\n\t6 & WBGene00000002 &     270 &     203 &     266\\\\\n\\end{tabular}\n",
            "text/plain": [
              "  V1             V2.x    V2.y    V2     \n",
              "1 N_ambiguous     536422  439830  514559\n",
              "2 N_multimapping 1540190 1305129 1557570\n",
              "3 N_noFeature     157102  152183  184441\n",
              "4 N_unmapped     1332776 1400596 5887223\n",
              "5 WBGene00000001    3227    2168    2589\n",
              "6 WBGene00000002     270     203     266"
            ]
          },
          "metadata": {}
        }
      ]
    },
    {
      "cell_type": "markdown",
      "source": [
        "The `Reduce()` function in R allows us to apply a function repeatedly to a list of elements. Here, we are applying `merge()` iteratively to a list of data frames."
      ],
      "metadata": {
        "id": "tEkCxtOyPytj"
      }
    },
    {
      "cell_type": "code",
      "source": [
        "df_mer_red <- Reduce(function(x, y) merge(x, y, by = \"V1\"),\n",
        "                        list(\"tab_N2_day1_rep1\" = tab_N2_day1_rep1,\n",
        "                             \"tab_N2_day1_rep2\" = tab_N2_day1_rep2,\n",
        "                             \"tab_N2_day1_rep3\" = tab_N2_day1_rep3))\n",
        "head(df_mer_red, 5)"
      ],
      "metadata": {
        "colab": {
          "base_uri": "https://localhost:8080/",
          "height": 255
        },
        "id": "nDGMiOz3PIVj",
        "outputId": "901659bb-a74c-4e1b-d834-4cb69cfe14c2"
      },
      "execution_count": 38,
      "outputs": [
        {
          "output_type": "display_data",
          "data": {
            "text/html": [
              "<table class=\"dataframe\">\n",
              "<caption>A data.frame: 5 × 4</caption>\n",
              "<thead>\n",
              "\t<tr><th></th><th scope=col>V1</th><th scope=col>V2.x</th><th scope=col>V2.y</th><th scope=col>V2</th></tr>\n",
              "\t<tr><th></th><th scope=col>&lt;chr&gt;</th><th scope=col>&lt;int&gt;</th><th scope=col>&lt;int&gt;</th><th scope=col>&lt;int&gt;</th></tr>\n",
              "</thead>\n",
              "<tbody>\n",
              "\t<tr><th scope=row>1</th><td>N_ambiguous   </td><td> 536422</td><td> 439830</td><td> 514559</td></tr>\n",
              "\t<tr><th scope=row>2</th><td>N_multimapping</td><td>1540190</td><td>1305129</td><td>1557570</td></tr>\n",
              "\t<tr><th scope=row>3</th><td>N_noFeature   </td><td> 157102</td><td> 152183</td><td> 184441</td></tr>\n",
              "\t<tr><th scope=row>4</th><td>N_unmapped    </td><td>1332776</td><td>1400596</td><td>5887223</td></tr>\n",
              "\t<tr><th scope=row>5</th><td>WBGene00000001</td><td>   3227</td><td>   2168</td><td>   2589</td></tr>\n",
              "</tbody>\n",
              "</table>\n"
            ],
            "text/markdown": "\nA data.frame: 5 × 4\n\n| <!--/--> | V1 &lt;chr&gt; | V2.x &lt;int&gt; | V2.y &lt;int&gt; | V2 &lt;int&gt; |\n|---|---|---|---|---|\n| 1 | N_ambiguous    |  536422 |  439830 |  514559 |\n| 2 | N_multimapping | 1540190 | 1305129 | 1557570 |\n| 3 | N_noFeature    |  157102 |  152183 |  184441 |\n| 4 | N_unmapped     | 1332776 | 1400596 | 5887223 |\n| 5 | WBGene00000001 |    3227 |    2168 |    2589 |\n\n",
            "text/latex": "A data.frame: 5 × 4\n\\begin{tabular}{r|llll}\n  & V1 & V2.x & V2.y & V2\\\\\n  & <chr> & <int> & <int> & <int>\\\\\n\\hline\n\t1 & N\\_ambiguous    &  536422 &  439830 &  514559\\\\\n\t2 & N\\_multimapping & 1540190 & 1305129 & 1557570\\\\\n\t3 & N\\_noFeature    &  157102 &  152183 &  184441\\\\\n\t4 & N\\_unmapped     & 1332776 & 1400596 & 5887223\\\\\n\t5 & WBGene00000001 &    3227 &    2168 &    2589\\\\\n\\end{tabular}\n",
            "text/plain": [
              "  V1             V2.x    V2.y    V2     \n",
              "1 N_ambiguous     536422  439830  514559\n",
              "2 N_multimapping 1540190 1305129 1557570\n",
              "3 N_noFeature     157102  152183  184441\n",
              "4 N_unmapped     1332776 1400596 5887223\n",
              "5 WBGene00000001    3227    2168    2589"
            ]
          },
          "metadata": {}
        }
      ]
    },
    {
      "cell_type": "markdown",
      "source": [],
      "metadata": {
        "id": "PpqYM_NAXY7V"
      }
    }
  ]
}