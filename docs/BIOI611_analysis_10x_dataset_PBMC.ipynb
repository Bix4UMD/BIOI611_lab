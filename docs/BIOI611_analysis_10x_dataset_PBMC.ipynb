{
 "cells": [
  {
   "cell_type": "markdown",
   "id": "c96ee930",
   "metadata": {},
   "source": [
    "# \n",
    "\n",
    "## Download the data\n",
    "\n"
   ]
  },
  {
   "cell_type": "markdown",
   "id": "9e1c1300",
   "metadata": {},
   "source": [
    "You can download the data from the link [here](https://www.10xgenomics.com/datasets/5k-human-pbmcs-3-v3-1-chromium-controller-3-1-standard)\n",
    "\n",
    "```\n",
    "# https://www.10xgenomics.com/datasets/5k-human-pbmcs-3-v3-1-chromium-controller-3-1-standard\n",
    "wget https://cf.10xgenomics.com/samples/cell-exp/7.0.1/SC3pv3_GEX_Human_PBMC/SC3pv3_GEX_Human_PBMC_fastqs.tar\n",
    "tar xvf SC3pv3_GEX_Human_PBMC_fastqs.tar\n",
    "```\n",
    "\n",
    "For this class, you can find a copy under the path: \n"
   ]
  },
  {
   "cell_type": "code",
   "execution_count": 1,
   "id": "e6ea4674",
   "metadata": {},
   "outputs": [
    {
     "name": "stdout",
     "output_type": "stream",
     "text": [
      "Chromium_3p_GEX_Human_PBMC_S1_L001_I1_001.fastq.gz\n",
      "Chromium_3p_GEX_Human_PBMC_S1_L001_I2_001.fastq.gz\n",
      "Chromium_3p_GEX_Human_PBMC_S1_L001_R1_001.fastq.gz\n",
      "Chromium_3p_GEX_Human_PBMC_S1_L001_R2_001.fastq.gz\n"
     ]
    }
   ],
   "source": [
    "%%bash\n",
    "ls /scratch/zt1/project/bioi611/shared/raw_data/Chromium_3p_GEX_Human_PBMC_fastqs/"
   ]
  },
  {
   "cell_type": "markdown",
   "id": "3b30c93a",
   "metadata": {},
   "source": [
    "### Check R1 and R2"
   ]
  },
  {
   "attachments": {
    "image.png": {
     "image/png": "[encoded data removed]"
    }
   },
   "cell_type": "markdown",
   "id": "1b5c476e",
   "metadata": {},
   "source": [
    "\n",
    "\n",
    "| Read     | Read 1             | i7 Index     | i5 Index     | Read 2 |\n",
    "|----------|--------------------|--------------|--------------|--------|\n",
    "| Purpose  | Cell barcode & UMI | Sample Index | Sample Index | Insert |\n",
    "| Length** | 28                 | 10           | 10           | 90     |\n",
    "\n",
    "\n",
    "\n",
    "![image.png](attachment:image.png)\n",
    "\n",
    "An Unique Molecular Identifier (UMI) is a short sequence tag (usually 8-12 nucleotides long) that is added to each RNA molecule during library preparation. UMIs are critical for accurately quantifying gene expression, as they help to distinguish between unique RNA molecules and technical duplicates that arise from PCR amplification.\n",
    "\n",
    "\n",
    "How ow UMIs work in the 10x scRNA-seq workflow:\n",
    "\n",
    "1. Library Preparation: Each RNA molecule is tagged with a UMI as well as cell-specific barcodes. This labeling occurs before PCR amplification, so each original RNA molecule within a single cell is uniquely identifiable.\n",
    "\n",
    "2. Eliminating Amplification Bias: When the tagged molecules are amplified by PCR, each original molecule (regardless of how many duplicates it creates) retains its unique UMI. Later, when sequencing reads are aligned and counted, duplicate reads with the same UMI and gene alignment are considered as representing a single molecule.\n",
    "\n",
    "3. Accurate Quantification: Using UMIs allows for a more accurate measure of gene expression by avoiding overcounting due to PCR duplicates, providing a closer representation of the actual RNA molecules present in each cell.\n"
   ]
  },
  {
   "cell_type": "code",
   "execution_count": 4,
   "id": "d2e85177",
   "metadata": {},
   "outputs": [
    {
     "name": "stdout",
     "output_type": "stream",
     "text": [
      "@A00836:523:HJH22DSXY:1:1101:1823:1016 1:N:0:ATGGAGGGAG+AATGGGTTAT\n",
      "TNATGGACAAACAGGCCGTTGCACTAAA\n",
      "+\n",
      "F#FFFFFFFFFFF:FFFFFFFFFFFFFF\n",
      "@A00836:523:HJH22DSXY:1:1101:1841:1016 1:N:0:ATGGAGGGAG+AATGGGTTAT\n",
      "TNGTGATGTTCTTGTTCTCACTCGAGGT\n",
      "+\n",
      "F#FFFFFFFFFFFFFFFFFFFFFFFFFF\n",
      "@A00836:523:HJH22DSXY:1:1101:1949:1016 1:N:0:ATGGAGGGAG+AATGGGTTAT\n",
      "ANACAGGGTCCTACGGTTCATCTTTGTG\n",
      "+\n",
      "F#FFFFFFFFFFFFFFFFFFFFFFFFFF\n"
     ]
    }
   ],
   "source": [
    "%%bash\n",
    "zcat /scratch/zt1/project/bioi611/shared/raw_data/Chromium_3p_GEX_Human_PBMC_fastqs/Chromium_3p_GEX_Human_PBMC_S1_L001_R1_001.fastq.gz |head -12"
   ]
  },
  {
   "cell_type": "code",
   "execution_count": 5,
   "id": "4ab5c886",
   "metadata": {},
   "outputs": [
    {
     "name": "stdout",
     "output_type": "stream",
     "text": [
      "@A00836:523:HJH22DSXY:1:1101:1823:1016 2:N:0:ATGGAGGGAG+AATGGGTTAT\n",
      "GGCTCACACCTGTAATCCCAGCACTTTGGGAGGCCAAGACAGGTGAACTGCTCGAGGCCGGGAGTTTGAGACCAGCCTGGACAACATGGC\n",
      "+\n",
      "FFFF,FFFFFFFFFFFFFFFFFFFFFFFFFFF:FFFFFFFFFFFFFFFFFFF:FFFFFFFFFFFFFFFFFFFF,F,FFF:FFFFFFFFFF\n",
      "@A00836:523:HJH22DSXY:1:1101:1841:1016 2:N:0:ATGGAGGGAG+AATGGGTTAT\n",
      "CAGGGCCTGTTGGGGGTTGGGGGCAAGGAGAGGGAGAGCATTAGGACAAATACCTAATGTGTGTGGGGCTTAAAACCTAGATGACGGGTT\n",
      "+\n",
      "FFFFFFFFFFFFFFFFFFFFFFFFFFFFFFFFFFFFFFFFF,FFFFFFFFFFFFFFFFFFFFFFFFFFFFFFFFF:FFFFFFFFFFFFFF\n",
      "@A00836:523:HJH22DSXY:1:1101:1949:1016 2:N:0:ATGGAGGGAG+AATGGGTTAT\n",
      "TTTTTTTTGTTCAAATGATTTTAATTATTGGAATGCACAATTTTTTTAATATGCAAATAAAAAGTTTAAAAACCAAAAAAAAAAAAAAGA\n",
      "+\n",
      "FFFFFFFFFFFFFFFFF:FFFFFFFFFFFFFFFFFFFFFFFFFFFFFFFFFFFFFFFFFFFFFFFFFFFFFFFFFFFFFFF:FFFF,:,:\n"
     ]
    }
   ],
   "source": [
    "%%bash\n",
    "zcat /scratch/zt1/project/bioi611/shared/raw_data/Chromium_3p_GEX_Human_PBMC_fastqs/Chromium_3p_GEX_Human_PBMC_S1_L001_R2_001.fastq.gz |head -12"
   ]
  },
  {
   "cell_type": "markdown",
   "id": "5266ae52",
   "metadata": {},
   "source": [
    "## Run Cellranger \n"
   ]
  },
  {
   "cell_type": "markdown",
   "id": "c80f9234",
   "metadata": {},
   "source": [
    "Cell Ranger is a software suite developed by 10x Genomics for processing and analyzing data from their single-cell RNA-seq (scRNA-seq), single-cell ATAC-seq (scATAC-seq), and other single-cell assays. Cell Ranger performs tasks such as alignment, filtering, UMI counting, and data aggregation, streamlining the analysis of single-cell datasets generated by 10x Genomics platforms.\n",
    "\n",
    "Key Functions of `cellranger count`:\n",
    "\n",
    "* Preprocessing and Alignment: Cell Ranger aligns the reads to a reference genome and uses cell and UMI barcodes to assign each read to a specific cell and RNA molecule. It leverages the STAR aligner for RNA-seq data.\n",
    "\n",
    "* UMI Counting: Once the reads are aligned, Cell Ranger aggregates UMIs per gene per cell, providing an accurate gene expression count that minimizes PCR amplification bias.\n",
    "\n",
    "* Gene Expression Quantification: For scRNA-seq data, Cell Ranger creates a gene expression matrix with rows for genes, columns for cells, and values representing UMI counts. This matrix is foundational for downstream analysis, including cell clustering, differential expression, and pathway analysis.\n",
    "\n",
    "* Cell Clustering and Visualization: Cell Ranger includes tools to cluster cells based on gene expression patterns and create basic visualizations (e.g., t-SNE or UMAP plots) for exploratory data analysis.\n",
    "\n"
   ]
  },
  {
   "cell_type": "code",
   "execution_count": 6,
   "id": "5ac4ad96",
   "metadata": {},
   "outputs": [
    {
     "name": "stdout",
     "output_type": "stream",
     "text": [
      "Submitted batch job 8653857\n"
     ]
    }
   ],
   "source": [
    "%%bash\n",
    "sbatch /scratch/zt1/project/bioi611/shared/scripts/scRNA_10x_illumina_demo_cellranger.sub"
   ]
  },
  {
   "cell_type": "code",
   "execution_count": 7,
   "id": "ddad1985",
   "metadata": {},
   "outputs": [
    {
     "name": "stdout",
     "output_type": "stream",
     "text": [
      "#!/bin/bash\n",
      "#SBATCH --partition=standard\n",
      "#SBATCH -t 40:00:00\n",
      "#SBATCH -n 1\n",
      "#SBATCH -c 26\n",
      "#SBATCH --mem=250g\n",
      "#SBATCH --job-name=scRNA_10x_illumina_demo_cellranger\n",
      "#SBATCH --mail-type=FAIL,BEGIN,END\n",
      "#SBATCH --error=%x-%J-%u.err\n",
      "#SBATCH --output=%x-%J-%u.out\n",
      "\n",
      "\n",
      "## Prepare the input folder \n",
      "WORKDIR=\"/scratch/zt1/project/bioi611/user/$USER/scRNA_10x_illumina_demo/\"\n",
      "REFERENCE=\"/scratch/zt1/project/bioi611/shared/reference/refdata-gex-GRCh38-2024-A\"\n",
      "FASTQ_DIR=/scratch/zt1/project/bioi611/shared/raw_data/Chromium_3p_GEX_Human_PBMC_fastqs/\n",
      "\n",
      "mkdir -p $WORKDIR\n",
      "cd $WORKDIR\n",
      "export PATH=/scratch/zt1/project/bioi611/shared/software/cellranger-8.0.1/bin:$PATH\n",
      "\n",
      "cellranger count --id GEX3p_Human_PBMC       \\\n",
      "\t         --transcriptome $REFERENCE  \\\n",
      "\t\t --create-bam true           \\\n",
      "               \t --fastqs $FASTQ_DIR\n"
     ]
    }
   ],
   "source": [
    "%%bash\n",
    "cat /scratch/zt1/project/bioi611/shared/scripts/scRNA_10x_illumina_demo_cellranger.sub"
   ]
  },
  {
   "cell_type": "markdown",
   "id": "37b0c514",
   "metadata": {},
   "source": [
    "Input files/folder for `cellranger count`:\n",
    "\n",
    "1. Raw fastq files\n",
    "\n",
    "2. Reference \n",
    "\n",
    "In this class, the pre-built reference has been downloaded from 10x website: \n",
    "https://www.10xgenomics.com/support/software/cell-ranger/downloads\n"
   ]
  },
  {
   "cell_type": "code",
   "execution_count": 8,
   "id": "b49dc793",
   "metadata": {},
   "outputs": [
    {
     "name": "stdout",
     "output_type": "stream",
     "text": [
      "fasta\n",
      "genes\n",
      "reference.json\n",
      "star\n",
      "genome.fa\n",
      "genome.fa.fai\n",
      "genes.gtf.gz\n",
      "chrLength.txt\n",
      "chrNameLength.txt\n",
      "chrName.txt\n",
      "chrStart.txt\n",
      "exonGeTrInfo.tab\n",
      "exonInfo.tab\n",
      "geneInfo.tab\n",
      "Genome\n",
      "genomeParameters.txt\n",
      "SA\n",
      "SAindex\n",
      "sjdbInfo.txt\n",
      "sjdbList.fromGTF.out.tab\n",
      "sjdbList.out.tab\n",
      "transcriptInfo.tab\n",
      "{\n",
      "    \"fasta_hash\": \"b6f131840f9f337e7b858c3d1e89d7ce0321b243\",\n",
      "    \"genomes\": [\n",
      "        \"GRCh38\"\n",
      "    ],\n",
      "    \"gtf_hash.gz\": \"432db3ab308171ef215fac5dc4ca40096099a4c6\",\n",
      "    \"input_fasta_files\": [\n",
      "        \"Homo_sapiens.GRCh38.dna.primary_assembly.fa.modified\"\n",
      "    ],\n",
      "    \"input_gtf_files\": [\n",
      "        \"gencode.v44.primary_assembly.annotation.gtf.filtered\"\n",
      "    ],\n",
      "    \"mem_gb\": 16,\n",
      "    \"mkref_version\": \"8.0.0\",\n",
      "    \"threads\": 2,\n",
      "    \"version\": \"2024-A\"\n",
      "}"
     ]
    }
   ],
   "source": [
    "%%bash\n",
    "ls  /scratch/zt1/project/bioi611/shared/reference/refdata-gex-GRCh38-2024-A\n",
    "ls  /scratch/zt1/project/bioi611/shared/reference/refdata-gex-GRCh38-2024-A/fasta/\n",
    "ls  /scratch/zt1/project/bioi611/shared/reference/refdata-gex-GRCh38-2024-A/genes/\n",
    "ls  /scratch/zt1/project/bioi611/shared/reference/refdata-gex-GRCh38-2024-A/star/\n",
    "cat /scratch/zt1/project/bioi611/shared/reference/refdata-gex-GRCh38-2024-A/reference.json "
   ]
  },
  {
   "cell_type": "markdown",
   "id": "a6e3487e",
   "metadata": {},
   "source": [
    "### Output folder"
   ]
  },
  {
   "cell_type": "markdown",
   "id": "3b606516",
   "metadata": {},
   "source": [
    "The job you submitted will generate an output folder: \n"
   ]
  },
  {
   "cell_type": "code",
   "execution_count": 12,
   "id": "ea269dd2",
   "metadata": {},
   "outputs": [
    {
     "name": "stdout",
     "output_type": "stream",
     "text": [
      "/scratch/zt1/project/bioi611/user/xie186/scRNA_10x_illumina_demo/GEX3p_Human_PBMC/_cmdline\n",
      "/scratch/zt1/project/bioi611/user/xie186/scRNA_10x_illumina_demo/GEX3p_Human_PBMC/_filelist\n",
      "/scratch/zt1/project/bioi611/user/xie186/scRNA_10x_illumina_demo/GEX3p_Human_PBMC/_finalstate\n",
      "/scratch/zt1/project/bioi611/user/xie186/scRNA_10x_illumina_demo/GEX3p_Human_PBMC/GEX3p_Human_PBMC.mri.tgz\n",
      "/scratch/zt1/project/bioi611/user/xie186/scRNA_10x_illumina_demo/GEX3p_Human_PBMC/_invocation\n",
      "/scratch/zt1/project/bioi611/user/xie186/scRNA_10x_illumina_demo/GEX3p_Human_PBMC/_jobmode\n",
      "/scratch/zt1/project/bioi611/user/xie186/scRNA_10x_illumina_demo/GEX3p_Human_PBMC/_log\n",
      "/scratch/zt1/project/bioi611/user/xie186/scRNA_10x_illumina_demo/GEX3p_Human_PBMC/_mrosource\n",
      "/scratch/zt1/project/bioi611/user/xie186/scRNA_10x_illumina_demo/GEX3p_Human_PBMC/_perf\n",
      "/scratch/zt1/project/bioi611/user/xie186/scRNA_10x_illumina_demo/GEX3p_Human_PBMC/_perf._truncated_\n",
      "/scratch/zt1/project/bioi611/user/xie186/scRNA_10x_illumina_demo/GEX3p_Human_PBMC/_sitecheck\n",
      "/scratch/zt1/project/bioi611/user/xie186/scRNA_10x_illumina_demo/GEX3p_Human_PBMC/_tags\n",
      "/scratch/zt1/project/bioi611/user/xie186/scRNA_10x_illumina_demo/GEX3p_Human_PBMC/_timestamp\n",
      "/scratch/zt1/project/bioi611/user/xie186/scRNA_10x_illumina_demo/GEX3p_Human_PBMC/_uuid\n",
      "/scratch/zt1/project/bioi611/user/xie186/scRNA_10x_illumina_demo/GEX3p_Human_PBMC/_vdrkill\n",
      "/scratch/zt1/project/bioi611/user/xie186/scRNA_10x_illumina_demo/GEX3p_Human_PBMC/_versions\n",
      "\n",
      "/scratch/zt1/project/bioi611/user/xie186/scRNA_10x_illumina_demo/GEX3p_Human_PBMC/outs:\n",
      "analysis\n",
      "cloupe.cloupe\n",
      "filtered_feature_bc_matrix\n",
      "filtered_feature_bc_matrix.h5\n",
      "metrics_summary.csv\n",
      "molecule_info.h5\n",
      "possorted_genome_bam.bam\n",
      "possorted_genome_bam.bam.bai\n",
      "raw_feature_bc_matrix\n",
      "raw_feature_bc_matrix.h5\n",
      "web_summary.html\n",
      "\n",
      "/scratch/zt1/project/bioi611/user/xie186/scRNA_10x_illumina_demo/GEX3p_Human_PBMC/SC_RNA_COUNTER_CS:\n",
      "CELLRANGER_PREFLIGHT\n",
      "CELLRANGER_PREFLIGHT_LOCAL\n",
      "COPY_CHEMISTRY_SPEC\n",
      "fork0\n",
      "FULL_COUNT_INPUTS\n",
      "GET_AGGREGATE_BARCODES_OUT\n",
      "SC_MULTI_CORE\n",
      "_STRUCTIFY\n",
      "WRITE_GENE_INDEX\n"
     ]
    }
   ],
   "source": [
    "%%bash\n",
    "ls /scratch/zt1/project/bioi611/user/$USER/scRNA_10x_illumina_demo/GEX3p_Human_PBMC/*"
   ]
  },
  {
   "cell_type": "markdown",
   "id": "ebc16d22",
   "metadata": {},
   "source": [
    "You can also find a copy here:\n",
    "\n",
    "```\n",
    "/scratch/zt1/project/bioi611/shared/output/scRNA_10x_illumina_demo\n",
    "```\n"
   ]
  },
  {
   "cell_type": "markdown",
   "id": "b6b674ef",
   "metadata": {},
   "source": [
    "The summary file in html format is the first file you will check:\n",
    "\n",
    "```\n",
    "/scratch/zt1/project/bioi611/shared/output/scRNA_10x_illumina_demo/outs/web_summary.html\n",
    "```\n",
    "\n",
    "A detailed documentation can be found [here](https://www.10xgenomics.com/support/single-cell-gene-expression/documentation/steps/sequencing/interpreting-cell-ranger-web-summary-files-for-single-cell-gene-expression-assays) to help you interpret the summary file. \n",
    "\n",
    "If there is any metrics that is not within the expectation, a warning or an error message will be shown on the top of the summary. "
   ]
  },
  {
   "cell_type": "markdown",
   "id": "64cdc3c3",
   "metadata": {},
   "source": [
    "The three files below are usually used as input for downstream analysis. "
   ]
  },
  {
   "cell_type": "code",
   "execution_count": 14,
   "id": "9cafe997",
   "metadata": {},
   "outputs": [
    {
     "name": "stdout",
     "output_type": "stream",
     "text": [
      "barcodes.tsv.gz\n",
      "features.tsv.gz\n",
      "matrix.mtx.gz\n"
     ]
    }
   ],
   "source": [
    "%%bash\n",
    "ls /scratch/zt1/project/bioi611/shared/output/scRNA_10x_illumina_demo/outs/filtered_feature_bc_matrix"
   ]
  },
  {
   "cell_type": "markdown",
   "id": "6830e79c",
   "metadata": {},
   "source": [
    "The folder above contains only detected cell-associated\n",
    "barcodes. Each element of the matrix is the\n",
    "number of UMIs associated with a feature\n",
    "(row) and a barcode (column.\n",
    "\n",
    "It can be input into third-party packages\n",
    "and allows users to wrangle the barcodefeature matrix (e.g. to filter outlier cells, run\n",
    "dimensionality reduction, normalize gene\n",
    "expression)."
   ]
  }
 ],
 "metadata": {
  "kernelspec": {
   "display_name": "Python 3 (ipykernel)",
   "language": "python",
   "name": "python3"
  },
  "language_info": {
   "codemirror_mode": {
    "name": "ipython",
    "version": 3
   },
   "file_extension": ".py",
   "mimetype": "text/x-python",
   "name": "python",
   "nbconvert_exporter": "python",
   "pygments_lexer": "ipython3",
   "version": "3.10.10"
  }
 },
 "nbformat": 4,
 "nbformat_minor": 5
}
