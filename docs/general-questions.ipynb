{
 "cells": [
  {
   "cell_type": "markdown",
   "id": "f6c91a18-bca6-4e91-91b2-b221c523f266",
   "metadata": {},
   "source": [
    "# To be added "
   ]
  },
  {
   "cell_type": "code",
   "execution_count": null,
   "id": "34e2b65f-442a-4470-bf00-ace206fccccf",
   "metadata": {},
   "outputs": [],
   "source": []
  }
 ],
 "metadata": {
  "kernelspec": {
   "display_name": "Python 3 (ipykernel)",
   "language": "python",
   "name": "python3"
  },
  "language_info": {
   "codemirror_mode": {
    "name": "ipython",
    "version": 3
   },
   "file_extension": ".py",
   "mimetype": "text/x-python",
   "name": "python",
   "nbconvert_exporter": "python",
   "pygments_lexer": "ipython3",
   "version": "3.10.10"
  }
 },
 "nbformat": 4,
 "nbformat_minor": 5
}
