{
  "nbformat": 4,
  "nbformat_minor": 0,
  "metadata": {
    "colab": {
      "provenance": [],
      "authorship_tag": "ABX9TyOo+y0ql/jI6JYUKYoqugZ5",
      "include_colab_link": true
    },
    "kernelspec": {
      "name": "ir",
      "display_name": "R"
    },
    "language_info": {
      "name": "R"
    }
  },
  "cells": [
    {
      "cell_type": "markdown",
      "metadata": {
        "id": "view-in-github",
        "colab_type": "text"
      },
      "source": [
        "<a href=\"https://colab.research.google.com/github/Bix4UMD/BIOI611_lab/blob/main/docs/bioi611_prep_monocle_env.ipynb\" target=\"_parent\"><img src=\"https://colab.research.google.com/assets/colab-badge.svg\" alt=\"Open In Colab\"/></a>"
      ]
    },
    {
      "cell_type": "code",
      "execution_count": null,
      "metadata": {
        "colab": {
          "base_uri": "https://localhost:8080/"
        },
        "id": "AZHa-1NhvDW3",
        "outputId": "6916a0e1-4f33-461c-f0b3-36b7a6017318"
      },
      "outputs": [
        {
          "output_type": "stream",
          "name": "stderr",
          "text": [
            "Installing package into ‘/usr/local/lib/R/site-library’\n",
            "(as ‘lib’ is unspecified)\n",
            "\n",
            "'getOption(\"repos\")' replaces Bioconductor standard repositories, see\n",
            "'help(\"repositories\", package = \"BiocManager\")' for details.\n",
            "Replacement repositories:\n",
            "    CRAN: https://cran.rstudio.com\n",
            "\n",
            "Bioconductor version 3.20 (BiocManager 1.30.25), R 4.4.2 (2024-10-31)\n",
            "\n",
            "Installing package(s) 'BiocVersion'\n",
            "\n"
          ]
        }
      ],
      "source": [
        "if (!requireNamespace(\"BiocManager\", quietly = TRUE))\n",
        "install.packages(\"BiocManager\")\n",
        "BiocManager::install(version = \"3.20\")"
      ]
    },
    {
      "cell_type": "code",
      "source": [
        "## required by scater package\n",
        "system(\"apt-get install libx11-dev libcairo2-dev\") #, intern = TRUE)"
      ],
      "metadata": {
        "id": "aADYiY5rzTif"
      },
      "execution_count": null,
      "outputs": []
    },
    {
      "cell_type": "code",
      "source": [
        "BiocManager::install(c('BiocGenerics', 'DelayedArray', 'DelayedMatrixStats',\n",
        "                       'limma', 'lme4', 'S4Vectors', 'SingleCellExperiment',\n",
        "                       'SummarizedExperiment', 'batchelor', 'HDF5Array',\n",
        "                       'terra', 'ggrastr'))"
      ],
      "metadata": {
        "colab": {
          "base_uri": "https://localhost:8080/"
        },
        "id": "_ff61jVEvcgt",
        "outputId": "71657c73-38a4-431f-bd14-fd7991ca1109"
      },
      "execution_count": null,
      "outputs": [
        {
          "output_type": "stream",
          "name": "stderr",
          "text": [
            "'getOption(\"repos\")' replaces Bioconductor standard repositories, see\n",
            "'help(\"repositories\", package = \"BiocManager\")' for details.\n",
            "Replacement repositories:\n",
            "    CRAN: https://cran.rstudio.com\n",
            "\n",
            "Bioconductor version 3.20 (BiocManager 1.30.25), R 4.4.2 (2024-10-31)\n",
            "\n",
            "Installing package(s) 'BiocGenerics', 'DelayedArray', 'DelayedMatrixStats',\n",
            "  'limma', 'lme4', 'S4Vectors', 'SingleCellExperiment', 'SummarizedExperiment',\n",
            "  'batchelor', 'HDF5Array', 'terra', 'ggrastr'\n",
            "\n",
            "also installing the dependencies ‘formatR’, ‘zlibbioc’, ‘lambda.r’, ‘futile.options’, ‘matrixStats’, ‘abind’, ‘XVector’, ‘UCSC.utils’, ‘GenomeInfoDbData’, ‘assorthead’, ‘irlba’, ‘rsvd’, ‘futile.logger’, ‘snow’, ‘BH’, ‘beeswarm’, ‘vipor’, ‘MatrixGenerics’, ‘IRanges’, ‘S4Arrays’, ‘SparseArray’, ‘sparseMatrixStats’, ‘statmod’, ‘minqa’, ‘nloptr’, ‘RcppEigen’, ‘GenomicRanges’, ‘Biobase’, ‘GenomeInfoDb’, ‘igraph’, ‘BiocNeighbors’, ‘BiocSingular’, ‘BiocParallel’, ‘scuttle’, ‘ResidualMatrix’, ‘ScaledMatrix’, ‘beachmat’, ‘rhdf5’, ‘rhdf5filters’, ‘Rhdf5lib’, ‘Cairo’, ‘ggbeeswarm’, ‘png’\n",
            "\n",
            "\n"
          ]
        }
      ]
    },
    {
      "cell_type": "code",
      "source": [
        "install.packages(\"devtools\")\n",
        "devtools::install_github('cole-trapnell-lab/monocle3')"
      ],
      "metadata": {
        "id": "IsOXpzfjvjRs",
        "colab": {
          "base_uri": "https://localhost:8080/"
        },
        "outputId": "69a809b5-baa4-40ea-8234-a305b60ce159"
      },
      "execution_count": null,
      "outputs": [
        {
          "output_type": "stream",
          "name": "stderr",
          "text": [
            "Installing package into ‘/usr/local/lib/R/site-library’\n",
            "(as ‘lib’ is unspecified)\n",
            "\n",
            "Downloading GitHub repo cole-trapnell-lab/monocle3@HEAD\n",
            "\n"
          ]
        },
        {
          "output_type": "stream",
          "name": "stdout",
          "text": [
            "sitmo        (NA -> 2.0.2    ) [CRAN]\n",
            "bitops       (NA -> 1.0-9    ) [CRAN]\n",
            "RCurl        (NA -> 1.98-1.16) [CRAN]\n",
            "proxy        (NA -> 0.4-27   ) [CRAN]\n",
            "wk           (NA -> 0.9.4    ) [CRAN]\n",
            "e1071        (NA -> 1.7-16   ) [CRAN]\n",
            "units        (NA -> 0.8-5    ) [CRAN]\n",
            "s2           (NA -> 1.1.7    ) [CRAN]\n",
            "classInt     (NA -> 0.4-10   ) [CRAN]\n",
            "sp           (NA -> 2.1-4    ) [CRAN]\n",
            "warp         (NA -> 0.2.1    ) [CRAN]\n",
            "parallelly   (NA -> 1.39.0   ) [CRAN]\n",
            "listenv      (NA -> 0.9.1    ) [CRAN]\n",
            "globals      (NA -> 0.16.3   ) [CRAN]\n",
            "future       (NA -> 1.34.0   ) [CRAN]\n",
            "lazyeval     (NA -> 0.2.2    ) [CRAN]\n",
            "RcppHNSW     (NA -> 0.6.0    ) [CRAN]\n",
            "gridExtra    (NA -> 2.3      ) [CRAN]\n",
            "RcppProgress (NA -> 0.4.2    ) [CRAN]\n",
            "dqrng        (NA -> 0.4.1    ) [CRAN]\n",
            "RSpectra     (NA -> 0.16-2   ) [CRAN]\n",
            "RcppAnnoy    (NA -> 0.0.22   ) [CRAN]\n",
            "FNN          (NA -> 1.1.4.1  ) [CRAN]\n",
            "biglm        (NA -> 0.9-3    ) [CRAN]\n",
            "deldir       (NA -> 2.0-4    ) [CRAN]\n",
            "sf           (NA -> 1.0-19   ) [CRAN]\n",
            "spData       (NA -> 2.3.3    ) [CRAN]\n",
            "slider       (NA -> 0.3.2    ) [CRAN]\n",
            "furrr        (NA -> 0.3.1    ) [CRAN]\n",
            "plyr         (NA -> 1.8.9    ) [CRAN]\n",
            "crosstalk    (NA -> 1.2.1    ) [CRAN]\n",
            "zoo          (NA -> 1.8-12   ) [CRAN]\n",
            "viridis      (NA -> 0.6.5    ) [CRAN]\n",
            "uwot         (NA -> 0.2.2    ) [CRAN]\n",
            "speedglm     (NA -> 0.3-5    ) [CRAN]\n",
            "spdep        (NA -> 1.3-6    ) [CRAN]\n",
            "slam         (NA -> 0.1-55   ) [CRAN]\n",
            "Rtsne        (NA -> 0.17     ) [CRAN]\n",
            "RhpcBLASctl  (NA -> 0.23-42  ) [CRAN]\n",
            "rsample      (NA -> 1.2.1    ) [CRAN]\n",
            "reshape2     (NA -> 1.4.4    ) [CRAN]\n",
            "RANN         (NA -> 2.6.2    ) [CRAN]\n",
            "pscl         (NA -> 1.5.9    ) [CRAN]\n",
            "plotly       (NA -> 4.10.4   ) [CRAN]\n",
            "pheatmap     (NA -> 1.0.12   ) [CRAN]\n",
            "pbmcapply    (NA -> 1.5.1    ) [CRAN]\n",
            "pbapply      (NA -> 1.7-2    ) [CRAN]\n",
            "lmtest       (NA -> 0.9-40   ) [CRAN]\n",
            "leidenbase   (NA -> 0.1.31   ) [CRAN]\n",
            "grr          (NA -> 0.9.5    ) [CRAN]\n",
            "ggrepel      (NA -> 0.9.6    ) [CRAN]\n",
            "assertthat   (NA -> 0.2.1    ) [CRAN]\n"
          ]
        },
        {
          "output_type": "stream",
          "name": "stderr",
          "text": [
            "Skipping 30 packages ahead of CRAN: zlibbioc, XVector, SparseArray, S4Arrays, IRanges, S4Vectors, MatrixGenerics, BiocGenerics, GenomeInfoDbData, GenomeInfoDb, Rhdf5lib, rhdf5filters, DelayedArray, Biobase, sparseMatrixStats, beachmat, DelayedMatrixStats, SummarizedExperiment, GenomicRanges, BiocParallel, SingleCellExperiment, ScaledMatrix, rhdf5, ResidualMatrix, scuttle, BiocSingular, BiocNeighbors, limma, HDF5Array, batchelor\n",
            "\n",
            "Installing 52 packages: sitmo, bitops, RCurl, proxy, wk, e1071, units, s2, classInt, sp, warp, parallelly, listenv, globals, future, lazyeval, RcppHNSW, gridExtra, RcppProgress, dqrng, RSpectra, RcppAnnoy, FNN, biglm, deldir, sf, spData, slider, furrr, plyr, crosstalk, zoo, viridis, uwot, speedglm, spdep, slam, Rtsne, RhpcBLASctl, rsample, reshape2, RANN, pscl, plotly, pheatmap, pbmcapply, pbapply, lmtest, leidenbase, grr, ggrepel, assertthat\n",
            "\n",
            "Installing packages into ‘/usr/local/lib/R/site-library’\n",
            "(as ‘lib’ is unspecified)\n",
            "\n"
          ]
        },
        {
          "output_type": "stream",
          "name": "stdout",
          "text": [
            "\u001b[36m──\u001b[39m \u001b[36mR CMD build\u001b[39m \u001b[36m─────────────────────────────────────────────────────────────────\u001b[39m\n",
            "* checking for file ‘/tmp/RtmpNviskA/remotesfa163c8a18/cole-trapnell-lab-monocle3-98402ed/DESCRIPTION’ ... OK\n",
            "* preparing ‘monocle3’:\n",
            "* checking DESCRIPTION meta-information ... OK\n",
            "* cleaning src\n",
            "* checking for LF line-endings in source and make files and shell scripts\n",
            "* checking for empty or unneeded directories\n",
            "Omitted ‘LazyData’ from DESCRIPTION\n",
            "* building ‘monocle3_1.3.7.tar.gz’\n",
            "\n"
          ]
        },
        {
          "output_type": "stream",
          "name": "stderr",
          "text": [
            "Installing package into ‘/usr/local/lib/R/site-library’\n",
            "(as ‘lib’ is unspecified)\n",
            "\n"
          ]
        }
      ]
    },
    {
      "cell_type": "code",
      "source": [
        "library(monocle3)"
      ],
      "metadata": {
        "id": "QJ84ioTIvpSW",
        "colab": {
          "base_uri": "https://localhost:8080/"
        },
        "outputId": "57513973-4834-4688-ee82-9a0f7f8161a7"
      },
      "execution_count": null,
      "outputs": [
        {
          "output_type": "stream",
          "name": "stderr",
          "text": [
            "Loading required package: Biobase\n",
            "\n",
            "Loading required package: BiocGenerics\n",
            "\n",
            "\n",
            "Attaching package: ‘BiocGenerics’\n",
            "\n",
            "\n",
            "The following objects are masked from ‘package:stats’:\n",
            "\n",
            "    IQR, mad, sd, var, xtabs\n",
            "\n",
            "\n",
            "The following objects are masked from ‘package:base’:\n",
            "\n",
            "    anyDuplicated, aperm, append, as.data.frame, basename, cbind,\n",
            "    colnames, dirname, do.call, duplicated, eval, evalq, Filter, Find,\n",
            "    get, grep, grepl, intersect, is.unsorted, lapply, Map, mapply,\n",
            "    match, mget, order, paste, pmax, pmax.int, pmin, pmin.int,\n",
            "    Position, rank, rbind, Reduce, rownames, sapply, saveRDS, setdiff,\n",
            "    table, tapply, union, unique, unsplit, which.max, which.min\n",
            "\n",
            "\n",
            "Welcome to Bioconductor\n",
            "\n",
            "    Vignettes contain introductory material; view with\n",
            "    'browseVignettes()'. To cite Bioconductor, see\n",
            "    'citation(\"Biobase\")', and for packages 'citation(\"pkgname\")'.\n",
            "\n",
            "\n",
            "Loading required package: SingleCellExperiment\n",
            "\n",
            "Loading required package: SummarizedExperiment\n",
            "\n",
            "Loading required package: MatrixGenerics\n",
            "\n",
            "Loading required package: matrixStats\n",
            "\n",
            "\n",
            "Attaching package: ‘matrixStats’\n",
            "\n",
            "\n",
            "The following objects are masked from ‘package:Biobase’:\n",
            "\n",
            "    anyMissing, rowMedians\n",
            "\n",
            "\n",
            "\n",
            "Attaching package: ‘MatrixGenerics’\n",
            "\n",
            "\n",
            "The following objects are masked from ‘package:matrixStats’:\n",
            "\n",
            "    colAlls, colAnyNAs, colAnys, colAvgsPerRowSet, colCollapse,\n",
            "    colCounts, colCummaxs, colCummins, colCumprods, colCumsums,\n",
            "    colDiffs, colIQRDiffs, colIQRs, colLogSumExps, colMadDiffs,\n",
            "    colMads, colMaxs, colMeans2, colMedians, colMins, colOrderStats,\n",
            "    colProds, colQuantiles, colRanges, colRanks, colSdDiffs, colSds,\n",
            "    colSums2, colTabulates, colVarDiffs, colVars, colWeightedMads,\n",
            "    colWeightedMeans, colWeightedMedians, colWeightedSds,\n",
            "    colWeightedVars, rowAlls, rowAnyNAs, rowAnys, rowAvgsPerColSet,\n",
            "    rowCollapse, rowCounts, rowCummaxs, rowCummins, rowCumprods,\n",
            "    rowCumsums, rowDiffs, rowIQRDiffs, rowIQRs, rowLogSumExps,\n",
            "    rowMadDiffs, rowMads, rowMaxs, rowMeans2, rowMedians, rowMins,\n",
            "    rowOrderStats, rowProds, rowQuantiles, rowRanges, rowRanks,\n",
            "    rowSdDiffs, rowSds, rowSums2, rowTabulates, rowVarDiffs, rowVars,\n",
            "    rowWeightedMads, rowWeightedMeans, rowWeightedMedians,\n",
            "    rowWeightedSds, rowWeightedVars\n",
            "\n",
            "\n",
            "The following object is masked from ‘package:Biobase’:\n",
            "\n",
            "    rowMedians\n",
            "\n",
            "\n",
            "Loading required package: GenomicRanges\n",
            "\n",
            "Loading required package: stats4\n",
            "\n",
            "Loading required package: S4Vectors\n",
            "\n",
            "\n",
            "Attaching package: ‘S4Vectors’\n",
            "\n",
            "\n",
            "The following object is masked from ‘package:utils’:\n",
            "\n",
            "    findMatches\n",
            "\n",
            "\n",
            "The following objects are masked from ‘package:base’:\n",
            "\n",
            "    expand.grid, I, unname\n",
            "\n",
            "\n",
            "Loading required package: IRanges\n",
            "\n",
            "Loading required package: GenomeInfoDb\n",
            "\n",
            "\n",
            "Attaching package: ‘monocle3’\n",
            "\n",
            "\n",
            "The following objects are masked from ‘package:Biobase’:\n",
            "\n",
            "    exprs, fData, fData<-, pData, pData<-\n",
            "\n",
            "\n"
          ]
        }
      ]
    },
    {
      "cell_type": "code",
      "source": [
        "system(\"tar zcvf R_lib_monocle3.tar.gz /usr/local/lib/R/site-library\")"
      ],
      "metadata": {
        "id": "HcNuTF5tC3-o"
      },
      "execution_count": null,
      "outputs": []
    }
  ]
}